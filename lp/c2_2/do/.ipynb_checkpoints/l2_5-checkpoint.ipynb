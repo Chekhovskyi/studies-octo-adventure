{
 "metadata": {
  "name": "",
  "signature": "sha256:bd8a4b928a7ee27923eb530807fa0d793cdfa0aa99258bf1ef11b181017f6f27"
 },
 "nbformat": 3,
 "nbformat_minor": 0,
 "worksheets": [
  {
   "cells": [
    {
     "cell_type": "code",
     "collapsed": false,
     "input": [
      "### \u0420\u043e\u0437\u0432'\u044f\u0437\u043e\u043a"
     ],
     "language": "python",
     "metadata": {},
     "outputs": [],
     "prompt_number": 10
    },
    {
     "cell_type": "markdown",
     "metadata": {},
     "source": [
      "### \u0420\u0435\u0437\u0443\u043b\u044c\u0442\u0430\u0442"
     ]
    },
    {
     "cell_type": "code",
     "collapsed": false,
     "input": [
      "from l2_5 import *"
     ],
     "language": "python",
     "metadata": {},
     "outputs": [],
     "prompt_number": 1
    },
    {
     "cell_type": "code",
     "collapsed": false,
     "input": [
      "G = [[68, 93, 69, 30, 17, 65], \n",
      "     [81, 85, 74, 45, 60, 62],\n",
      "     [1, 59, 14, 22, 1, 63],\n",
      "     [18, 25, 71, 59, 35, 36],\n",
      "     [27, 79, 15, 76, 67, 90],\n",
      "     [4, 4, 8, 6, 5, 92]]"
     ],
     "language": "python",
     "metadata": {},
     "outputs": [],
     "prompt_number": 3
    },
    {
     "cell_type": "markdown",
     "metadata": {},
     "source": [
      "#### \u0412\u0438\u0440\u0456\u0448\u0435\u043d\u043d\u044f \u0437\u0430\u0434\u0430\u0447\u0456 \u043a\u0440\u0438\u0442\u0435\u0440\u0456\u0454\u043c \u0412\u0430\u043b\u044c\u0434\u0430"
     ]
    },
    {
     "cell_type": "code",
     "collapsed": false,
     "input": [
      "vald(G)"
     ],
     "language": "python",
     "metadata": {},
     "outputs": [
      {
       "metadata": {},
       "output_type": "pyout",
       "prompt_number": 6,
       "text": [
        "[('A1', 45)]"
       ]
      }
     ],
     "prompt_number": 6
    },
    {
     "cell_type": "markdown",
     "metadata": {},
     "source": [
      "#### \u0412\u0438\u0440\u0456\u0448\u0435\u043d\u043d\u044f \u0437\u0430\u0434\u0430\u0447\u0456 \u043a\u0440\u0438\u0442\u0435\u0440\u0456\u0454\u043c \u0421\u0435\u0432\u0456\u0434\u0436\u0430"
     ]
    },
    {
     "cell_type": "code",
     "collapsed": false,
     "input": [
      "sevidge(G)"
     ],
     "language": "python",
     "metadata": {},
     "outputs": [
      {
       "metadata": {},
       "output_type": "pyout",
       "prompt_number": 7,
       "text": [
        "[('A2', 63)]"
       ]
      }
     ],
     "prompt_number": 7
    },
    {
     "cell_type": "markdown",
     "metadata": {},
     "source": [
      "#### \u0412\u0438\u0440\u0456\u0448\u0435\u043d\u043d\u044f \u0437\u0430\u0434\u0430\u0447\u0456 \u043a\u0440\u0438\u0442\u0435\u0440\u0456\u0454\u043c \u0413\u0443\u0440\u0432\u0456\u0446\u0430 (x=0.3)"
     ]
    },
    {
     "cell_type": "code",
     "collapsed": false,
     "input": [
      "hurwitz(G, 0.3)"
     ],
     "language": "python",
     "metadata": {},
     "outputs": [
      {
       "metadata": {},
       "output_type": "pyout",
       "prompt_number": 9,
       "text": [
        "[('A1', [45, 85, 73])]"
       ]
      }
     ],
     "prompt_number": 9
    },
    {
     "cell_type": "markdown",
     "metadata": {},
     "source": [
      "### \u0412\u0438\u0441\u043d\u043e\u0432\u043a\u0438\n",
      "\u041e\u0437\u043d\u0430\u0439\u043e\u043c\u0438\u0432\u0441\u044f \u0437 \u0442\u0435\u043e\u0440\u0456\u0454\u044e \u0441\u0442\u0430\u0442\u0438\u0441\u0442\u0438\u0447\u043d\u0438\u0445 \u0440\u0456\u0448\u0435\u043d\u044c, \u043d\u0430\u0432\u0447\u0438\u0442\u0438\u0432\u0441\u044f \u0440\u043e\u0437\u0432\u2019\u044f\u0437\u0443\u0432\u0430\u0442\u0438 \u0437\u0430\u0434\u0430\u0447\u0456 \u043f\u0440\u0438\u0439\u043d\u044f\u0442\u0442\u044f \u0440\u0456\u0448\u0435\u043d\u044c \u0437\u0430 \u043a\u0440\u0438\u0442\u0435\u0440\u0456\u044f\u043c\u0438 \u0412\u0430\u043b\u044c\u0434\u0430, \u0421\u0435\u0432\u0456\u0434\u0436\u0430, \u0442\u0430 \u0413\u0443\u0440\u0432\u0456\u0446\u0430"
     ]
    }
   ],
   "metadata": {}
  }
 ]
}