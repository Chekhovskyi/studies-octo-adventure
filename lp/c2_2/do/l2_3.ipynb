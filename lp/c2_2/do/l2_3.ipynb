{
 "metadata": {
  "name": ""
 },
 "nbformat": 3,
 "nbformat_minor": 0,
 "worksheets": [
  {
   "cells": [
    {
     "cell_type": "code",
     "collapsed": false,
     "input": [
      "%matplotlib inline\n",
      "from pylab import *\n",
      "from l2_3 import *\n",
      "from utils import *"
     ],
     "language": "python",
     "metadata": {},
     "outputs": [],
     "prompt_number": 1
    },
    {
     "cell_type": "code",
     "collapsed": false,
     "input": [
      "all_clothes_sets = [\n",
      "\tClothesSet(\"1\", -100, -10, ['Shapka', 'Bushalt', 'Rukavichki', 'Vatni shtani', 'Choboti'], 9.5),\n",
      "\tClothesSet(\"2\", -10, 0, ['Shapka', 'Palto', 'Rukavichki', 'Jeans', 'Choboti'], 7.5),\n",
      "\tClothesSet(\"3\", -0, 10, ['Kepcka', 'Curtcka', 'Jeans', 'Cherviki'], 5),\n",
      "\tClothesSet(\"4\", 10, 20, ['Sventr', 'Jeans', 'Krosivki'], 3),\n",
      "\tClothesSet(\"5\", 20, 30, ['Blayzer', 'Sorochka', 'Jeans', 'Krosivki'], 3),\n",
      "\tClothesSet(\"6\", 30, 100, ['Blayzer', 'Footbolka', 'Shorti', 'Vyetnamki'], 2)\n",
      "]\n",
      "\n",
      "all_clothes = [\n",
      "\tClothesItem(\"Blayzer\", 0.5, 6),\n",
      "\tClothesItem(\"Bushalt\", 4, 48),\n",
      "\tClothesItem(\"Vatni shtani\", 2, 24),\n",
      "\tClothesItem(\"Vyetnamki\", 0.5, 6),\n",
      "\tClothesItem(\"Jeans\", 1, 12),\n",
      "\tClothesItem(\"Kepcka\", 0.5, 6),\n",
      "\tClothesItem(\"Krosivki\", 1, 12),\n",
      "\tClothesItem(\"Curtcka\", 2, 24),\n",
      "\tClothesItem(\"Palto\", 3, 36),\n",
      "\tClothesItem(\"Rukavichki\", 0.5, 6),\n",
      "\tClothesItem(\"Sventr\", 1, 12),\n",
      "\tClothesItem(\"Sorochka\", 0.5, 6),\n",
      "\tClothesItem(\"Footbolka\", 0.5, 6),\n",
      "\tClothesItem(\"Cherviki\", 1.5, 18),\n",
      "\tClothesItem(\"Choboti\", 2, 24),\n",
      "\tClothesItem(\"Shapka\", 1, 12),\n",
      "\tClothesItem(\"Shorti\", 0.5, 6)\n",
      "]\n",
      "\n",
      "temps = [-13, -11, -1, +11, +18, +23, +25, +24, +18, +9, -2, -10]\n",
      "default_solver = ClothesSolver(all_clothes_sets, all_clothes, temps)"
     ],
     "language": "python",
     "metadata": {},
     "outputs": [],
     "prompt_number": 2
    },
    {
     "cell_type": "code",
     "collapsed": false,
     "input": [
      "# 5.5\n",
      "all_monthes_equal_probability = [(m, 1/12) for m in range(12)]\n",
      "\n",
      "options = default_solver.calculate_options(all_monthes_equal_probability) \n",
      "\n",
      "Table([\"Set\", \"Price\"] + [m for (m, _) in all_monthes_equal_probability], \n",
      "         [[cs.name, cs.get_price()] + calcs for (cs, calcs) in options ])"
     ],
     "language": "python",
     "metadata": {},
     "outputs": [
      {
       "html": [
        "<table class='table table-striped'><tr><th>Set</th><th>Price</th><th>0</th><th>1</th><th>2</th><th>3</th><th>4</th><th>5</th><th>6</th><th>7</th><th>8</th><th>9</th><th>10</th><th>11</th><tr><tr><td>1</td><td>95.0</td><td>(Diff: []; Added price: 0)</td><td>(Diff: []; Added price: 0)</td><td>(Diff: ['Palto', 'Jeans']; Added price: 52.0)</td><td>(Diff: ['Sventr', 'Jeans', 'Krosivki']; Added price: 42.0)</td><td>(Diff: ['Sventr', 'Jeans', 'Krosivki']; Added price: 42.0)</td><td>(Diff: ['Blayzer', 'Sorochka', 'Jeans', 'Krosivki']; Added price: 44.0)</td><td>(Diff: ['Blayzer', 'Sorochka', 'Jeans', 'Krosivki']; Added price: 44.0)</td><td>(Diff: ['Blayzer', 'Sorochka', 'Jeans', 'Krosivki']; Added price: 44.0)</td><td>(Diff: ['Sventr', 'Jeans', 'Krosivki']; Added price: 42.0)</td><td>(Diff: ['Kepcka', 'Curtcka', 'Jeans', 'Cherviki']; Added price: 68.0)</td><td>(Diff: ['Palto', 'Jeans']; Added price: 52.0)</td><td>(Diff: []; Added price: 0)</td></tr><tr><td>2</td><td>75.0</td><td>(Diff: ['Bushalt', 'Vatni shtani']; Added price: 76.0)</td><td>(Diff: ['Bushalt', 'Vatni shtani']; Added price: 76.0)</td><td>(Diff: []; Added price: 0)</td><td>(Diff: ['Sventr', 'Krosivki']; Added price: 28.0)</td><td>(Diff: ['Sventr', 'Krosivki']; Added price: 28.0)</td><td>(Diff: ['Blayzer', 'Sorochka', 'Krosivki']; Added price: 30.0)</td><td>(Diff: ['Blayzer', 'Sorochka', 'Krosivki']; Added price: 30.0)</td><td>(Diff: ['Blayzer', 'Sorochka', 'Krosivki']; Added price: 30.0)</td><td>(Diff: ['Sventr', 'Krosivki']; Added price: 28.0)</td><td>(Diff: ['Kepcka', 'Curtcka', 'Cherviki']; Added price: 54.0)</td><td>(Diff: []; Added price: 0)</td><td>(Diff: ['Bushalt', 'Vatni shtani']; Added price: 76.0)</td></tr><tr><td>3</td><td>50</td><td>(Diff: ['Shapka', 'Bushalt', 'Rukavichki', 'Vatni shtani', 'Choboti']; Added price: 124.0)</td><td>(Diff: ['Shapka', 'Bushalt', 'Rukavichki', 'Vatni shtani', 'Choboti']; Added price: 124.0)</td><td>(Diff: ['Shapka', 'Palto', 'Rukavichki', 'Choboti']; Added price: 86.0)</td><td>(Diff: ['Sventr', 'Krosivki']; Added price: 28.0)</td><td>(Diff: ['Sventr', 'Krosivki']; Added price: 28.0)</td><td>(Diff: ['Blayzer', 'Sorochka', 'Krosivki']; Added price: 30.0)</td><td>(Diff: ['Blayzer', 'Sorochka', 'Krosivki']; Added price: 30.0)</td><td>(Diff: ['Blayzer', 'Sorochka', 'Krosivki']; Added price: 30.0)</td><td>(Diff: ['Sventr', 'Krosivki']; Added price: 28.0)</td><td>(Diff: []; Added price: 0)</td><td>(Diff: ['Shapka', 'Palto', 'Rukavichki', 'Choboti']; Added price: 86.0)</td><td>(Diff: ['Shapka', 'Bushalt', 'Rukavichki', 'Vatni shtani', 'Choboti']; Added price: 124.0)</td></tr><tr><td>4</td><td>30</td><td>(Diff: ['Shapka', 'Bushalt', 'Rukavichki', 'Vatni shtani', 'Choboti']; Added price: 124.0)</td><td>(Diff: ['Shapka', 'Bushalt', 'Rukavichki', 'Vatni shtani', 'Choboti']; Added price: 124.0)</td><td>(Diff: ['Shapka', 'Palto', 'Rukavichki', 'Choboti']; Added price: 86.0)</td><td>(Diff: []; Added price: 0)</td><td>(Diff: []; Added price: 0)</td><td>(Diff: ['Blayzer', 'Sorochka']; Added price: 16.0)</td><td>(Diff: ['Blayzer', 'Sorochka']; Added price: 16.0)</td><td>(Diff: ['Blayzer', 'Sorochka']; Added price: 16.0)</td><td>(Diff: []; Added price: 0)</td><td>(Diff: ['Kepcka', 'Curtcka', 'Cherviki']; Added price: 54.0)</td><td>(Diff: ['Shapka', 'Palto', 'Rukavichki', 'Choboti']; Added price: 86.0)</td><td>(Diff: ['Shapka', 'Bushalt', 'Rukavichki', 'Vatni shtani', 'Choboti']; Added price: 124.0)</td></tr><tr><td>5</td><td>30</td><td>(Diff: ['Shapka', 'Bushalt', 'Rukavichki', 'Vatni shtani', 'Choboti']; Added price: 124.0)</td><td>(Diff: ['Shapka', 'Bushalt', 'Rukavichki', 'Vatni shtani', 'Choboti']; Added price: 124.0)</td><td>(Diff: ['Shapka', 'Palto', 'Rukavichki', 'Choboti']; Added price: 86.0)</td><td>(Diff: ['Sventr']; Added price: 14.0)</td><td>(Diff: ['Sventr']; Added price: 14.0)</td><td>(Diff: []; Added price: 0)</td><td>(Diff: []; Added price: 0)</td><td>(Diff: []; Added price: 0)</td><td>(Diff: ['Sventr']; Added price: 14.0)</td><td>(Diff: ['Kepcka', 'Curtcka', 'Cherviki']; Added price: 54.0)</td><td>(Diff: ['Shapka', 'Palto', 'Rukavichki', 'Choboti']; Added price: 86.0)</td><td>(Diff: ['Shapka', 'Bushalt', 'Rukavichki', 'Vatni shtani', 'Choboti']; Added price: 124.0)</td></tr><tr><td>6</td><td>20</td><td>(Diff: ['Shapka', 'Bushalt', 'Rukavichki', 'Vatni shtani', 'Choboti']; Added price: 124.0)</td><td>(Diff: ['Shapka', 'Bushalt', 'Rukavichki', 'Vatni shtani', 'Choboti']; Added price: 124.0)</td><td>(Diff: ['Shapka', 'Palto', 'Rukavichki', 'Jeans', 'Choboti']; Added price: 100.0)</td><td>(Diff: ['Sventr', 'Jeans', 'Krosivki']; Added price: 42.0)</td><td>(Diff: ['Sventr', 'Jeans', 'Krosivki']; Added price: 42.0)</td><td>(Diff: ['Sorochka', 'Jeans', 'Krosivki']; Added price: 36.0)</td><td>(Diff: ['Sorochka', 'Jeans', 'Krosivki']; Added price: 36.0)</td><td>(Diff: ['Sorochka', 'Jeans', 'Krosivki']; Added price: 36.0)</td><td>(Diff: ['Sventr', 'Jeans', 'Krosivki']; Added price: 42.0)</td><td>(Diff: ['Kepcka', 'Curtcka', 'Jeans', 'Cherviki']; Added price: 68.0)</td><td>(Diff: ['Shapka', 'Palto', 'Rukavichki', 'Jeans', 'Choboti']; Added price: 100.0)</td><td>(Diff: ['Shapka', 'Bushalt', 'Rukavichki', 'Vatni shtani', 'Choboti']; Added price: 124.0)</td></tr></table>"
       ],
       "metadata": {},
       "output_type": "pyout",
       "prompt_number": 3,
       "text": [
        "<utils.Table at 0x5e6b6a0>"
       ]
      }
     ],
     "prompt_number": 3
    },
    {
     "cell_type": "code",
     "collapsed": false,
     "input": [
      "# 5.6\n",
      "best_strategies_monthes_equal_probabiltiy = default_solver.find_best_strategy(all_monthes_equal_probability)\n",
      "\n",
      "Table([\"Set\"] + [cs.name for (cs, _) in best_strategies_monthes_equal_probabiltiy ], \n",
      "         [[\"Favor\"] + [\"%.2f\" % (ef) for (_, ef) in best_strategies_monthes_equal_probabiltiy ]])"
     ],
     "language": "python",
     "metadata": {},
     "outputs": [
      {
       "html": [
        "<table class='table table-striped'><tr><th>Set</th><th>5</th><th>4</th><th>6</th><th>3</th><th>2</th><th>1</th><tr><tr><td>Favor</td><td>-83.33</td><td>-83.83</td><td>-92.83</td><td>-109.83</td><td>-113.00</td><td>-130.83</td></tr></table>"
       ],
       "metadata": {},
       "output_type": "pyout",
       "prompt_number": 4,
       "text": [
        "<utils.Table at 0x5e7dd30>"
       ]
      }
     ],
     "prompt_number": 4
    },
    {
     "cell_type": "code",
     "collapsed": false,
     "input": [
      "#5.7\n",
      "# Winter\n",
      "winter_equal_probability = [(m, 1/3) for m in [0,1,11]]\n",
      "\n",
      "winter_equal_probability_options = default_solver.calculate_options(winter_equal_probability) \n",
      "\n",
      "Table([\"Set\", \"Price\"] + [m for (m, _) in winter_equal_probability], \n",
      "         [[cs.name, cs.get_price()] + calcs for (cs, calcs) in winter_equal_probability_options ])"
     ],
     "language": "python",
     "metadata": {},
     "outputs": [
      {
       "html": [
        "<table class='table table-striped'><tr><th>Set</th><th>Price</th><th>0</th><th>1</th><th>11</th><tr><tr><td>1</td><td>95.0</td><td>(Diff: []; Added price: 0)</td><td>(Diff: []; Added price: 0)</td><td>(Diff: []; Added price: 0)</td></tr><tr><td>2</td><td>75.0</td><td>(Diff: ['Bushalt', 'Vatni shtani']; Added price: 76.0)</td><td>(Diff: ['Bushalt', 'Vatni shtani']; Added price: 76.0)</td><td>(Diff: ['Bushalt', 'Vatni shtani']; Added price: 76.0)</td></tr><tr><td>3</td><td>50</td><td>(Diff: ['Shapka', 'Bushalt', 'Rukavichki', 'Vatni shtani', 'Choboti']; Added price: 124.0)</td><td>(Diff: ['Shapka', 'Bushalt', 'Rukavichki', 'Vatni shtani', 'Choboti']; Added price: 124.0)</td><td>(Diff: ['Shapka', 'Bushalt', 'Rukavichki', 'Vatni shtani', 'Choboti']; Added price: 124.0)</td></tr><tr><td>4</td><td>30</td><td>(Diff: ['Shapka', 'Bushalt', 'Rukavichki', 'Vatni shtani', 'Choboti']; Added price: 124.0)</td><td>(Diff: ['Shapka', 'Bushalt', 'Rukavichki', 'Vatni shtani', 'Choboti']; Added price: 124.0)</td><td>(Diff: ['Shapka', 'Bushalt', 'Rukavichki', 'Vatni shtani', 'Choboti']; Added price: 124.0)</td></tr><tr><td>5</td><td>30</td><td>(Diff: ['Shapka', 'Bushalt', 'Rukavichki', 'Vatni shtani', 'Choboti']; Added price: 124.0)</td><td>(Diff: ['Shapka', 'Bushalt', 'Rukavichki', 'Vatni shtani', 'Choboti']; Added price: 124.0)</td><td>(Diff: ['Shapka', 'Bushalt', 'Rukavichki', 'Vatni shtani', 'Choboti']; Added price: 124.0)</td></tr><tr><td>6</td><td>20</td><td>(Diff: ['Shapka', 'Bushalt', 'Rukavichki', 'Vatni shtani', 'Choboti']; Added price: 124.0)</td><td>(Diff: ['Shapka', 'Bushalt', 'Rukavichki', 'Vatni shtani', 'Choboti']; Added price: 124.0)</td><td>(Diff: ['Shapka', 'Bushalt', 'Rukavichki', 'Vatni shtani', 'Choboti']; Added price: 124.0)</td></tr></table>"
       ],
       "metadata": {},
       "output_type": "pyout",
       "prompt_number": 5,
       "text": [
        "<utils.Table at 0x5e770f0>"
       ]
      }
     ],
     "prompt_number": 5
    },
    {
     "cell_type": "code",
     "collapsed": false,
     "input": [
      "#5.7\n",
      "# Spring\n",
      "spring_equal_probability = [(m, 1/3) for m in [2,3,4]]\n",
      "\n",
      "spring_equal_probability_options = default_solver.calculate_options(spring_equal_probability) \n",
      "\n",
      "Table([\"Set\", \"Price\"] + [m for (m, _) in spring_equal_probability], \n",
      "         [[cs.name, cs.get_price()] + calcs for (cs, calcs) in spring_equal_probability_options ])"
     ],
     "language": "python",
     "metadata": {},
     "outputs": [
      {
       "html": [
        "<table class='table table-striped'><tr><th>Set</th><th>Price</th><th>2</th><th>3</th><th>4</th><tr><tr><td>1</td><td>95.0</td><td>(Diff: ['Palto', 'Jeans']; Added price: 52.0)</td><td>(Diff: ['Sventr', 'Jeans', 'Krosivki']; Added price: 42.0)</td><td>(Diff: ['Sventr', 'Jeans', 'Krosivki']; Added price: 42.0)</td></tr><tr><td>2</td><td>75.0</td><td>(Diff: []; Added price: 0)</td><td>(Diff: ['Sventr', 'Krosivki']; Added price: 28.0)</td><td>(Diff: ['Sventr', 'Krosivki']; Added price: 28.0)</td></tr><tr><td>3</td><td>50</td><td>(Diff: ['Shapka', 'Palto', 'Rukavichki', 'Choboti']; Added price: 86.0)</td><td>(Diff: ['Sventr', 'Krosivki']; Added price: 28.0)</td><td>(Diff: ['Sventr', 'Krosivki']; Added price: 28.0)</td></tr><tr><td>4</td><td>30</td><td>(Diff: ['Shapka', 'Palto', 'Rukavichki', 'Choboti']; Added price: 86.0)</td><td>(Diff: []; Added price: 0)</td><td>(Diff: []; Added price: 0)</td></tr><tr><td>5</td><td>30</td><td>(Diff: ['Shapka', 'Palto', 'Rukavichki', 'Choboti']; Added price: 86.0)</td><td>(Diff: ['Sventr']; Added price: 14.0)</td><td>(Diff: ['Sventr']; Added price: 14.0)</td></tr><tr><td>6</td><td>20</td><td>(Diff: ['Shapka', 'Palto', 'Rukavichki', 'Jeans', 'Choboti']; Added price: 100.0)</td><td>(Diff: ['Sventr', 'Jeans', 'Krosivki']; Added price: 42.0)</td><td>(Diff: ['Sventr', 'Jeans', 'Krosivki']; Added price: 42.0)</td></tr></table>"
       ],
       "metadata": {},
       "output_type": "pyout",
       "prompt_number": 6,
       "text": [
        "<utils.Table at 0x5e775c0>"
       ]
      }
     ],
     "prompt_number": 6
    },
    {
     "cell_type": "code",
     "collapsed": false,
     "input": [
      "#5.7\n",
      "# Summer\n",
      "summer_equal_probability = [(m, 1/3) for m in [5,6,7]]\n",
      "\n",
      "summer_equal_probability_options = default_solver.calculate_options(summer_equal_probability) \n",
      "\n",
      "Table([\"Set\", \"Price\"] + [m for (m, _) in summer_equal_probability], \n",
      "         [[cs.name, cs.get_price()] + calcs for (cs, calcs) in summer_equal_probability_options ])"
     ],
     "language": "python",
     "metadata": {},
     "outputs": [
      {
       "html": [
        "<table class='table table-striped'><tr><th>Set</th><th>Price</th><th>5</th><th>6</th><th>7</th><tr><tr><td>1</td><td>95.0</td><td>(Diff: ['Blayzer', 'Sorochka', 'Jeans', 'Krosivki']; Added price: 44.0)</td><td>(Diff: ['Blayzer', 'Sorochka', 'Jeans', 'Krosivki']; Added price: 44.0)</td><td>(Diff: ['Blayzer', 'Sorochka', 'Jeans', 'Krosivki']; Added price: 44.0)</td></tr><tr><td>2</td><td>75.0</td><td>(Diff: ['Blayzer', 'Sorochka', 'Krosivki']; Added price: 30.0)</td><td>(Diff: ['Blayzer', 'Sorochka', 'Krosivki']; Added price: 30.0)</td><td>(Diff: ['Blayzer', 'Sorochka', 'Krosivki']; Added price: 30.0)</td></tr><tr><td>3</td><td>50</td><td>(Diff: ['Blayzer', 'Sorochka', 'Krosivki']; Added price: 30.0)</td><td>(Diff: ['Blayzer', 'Sorochka', 'Krosivki']; Added price: 30.0)</td><td>(Diff: ['Blayzer', 'Sorochka', 'Krosivki']; Added price: 30.0)</td></tr><tr><td>4</td><td>30</td><td>(Diff: ['Blayzer', 'Sorochka']; Added price: 16.0)</td><td>(Diff: ['Blayzer', 'Sorochka']; Added price: 16.0)</td><td>(Diff: ['Blayzer', 'Sorochka']; Added price: 16.0)</td></tr><tr><td>5</td><td>30</td><td>(Diff: []; Added price: 0)</td><td>(Diff: []; Added price: 0)</td><td>(Diff: []; Added price: 0)</td></tr><tr><td>6</td><td>20</td><td>(Diff: ['Sorochka', 'Jeans', 'Krosivki']; Added price: 36.0)</td><td>(Diff: ['Sorochka', 'Jeans', 'Krosivki']; Added price: 36.0)</td><td>(Diff: ['Sorochka', 'Jeans', 'Krosivki']; Added price: 36.0)</td></tr></table>"
       ],
       "metadata": {},
       "output_type": "pyout",
       "prompt_number": 7,
       "text": [
        "<utils.Table at 0x5e77b00>"
       ]
      }
     ],
     "prompt_number": 7
    },
    {
     "cell_type": "code",
     "collapsed": false,
     "input": [
      "#5.7\n",
      "# Autumn\n",
      "autumn_equal_probability = [(m, 1/3) for m in [8,9,10]]\n",
      "\n",
      "autumn_equal_probability_options = default_solver.calculate_options(autumn_equal_probability) \n",
      "\n",
      "Table([\"Set\", \"Price\"] + [m for (m, _) in autumn_equal_probability], \n",
      "         [[cs.name, cs.get_price()] + calcs for (cs, calcs) in autumn_equal_probability_options ])"
     ],
     "language": "python",
     "metadata": {},
     "outputs": [
      {
       "html": [
        "<table class='table table-striped'><tr><th>Set</th><th>Price</th><th>8</th><th>9</th><th>10</th><tr><tr><td>1</td><td>95.0</td><td>(Diff: ['Sventr', 'Jeans', 'Krosivki']; Added price: 42.0)</td><td>(Diff: ['Kepcka', 'Curtcka', 'Jeans', 'Cherviki']; Added price: 68.0)</td><td>(Diff: ['Palto', 'Jeans']; Added price: 52.0)</td></tr><tr><td>2</td><td>75.0</td><td>(Diff: ['Sventr', 'Krosivki']; Added price: 28.0)</td><td>(Diff: ['Kepcka', 'Curtcka', 'Cherviki']; Added price: 54.0)</td><td>(Diff: []; Added price: 0)</td></tr><tr><td>3</td><td>50</td><td>(Diff: ['Sventr', 'Krosivki']; Added price: 28.0)</td><td>(Diff: []; Added price: 0)</td><td>(Diff: ['Shapka', 'Palto', 'Rukavichki', 'Choboti']; Added price: 86.0)</td></tr><tr><td>4</td><td>30</td><td>(Diff: []; Added price: 0)</td><td>(Diff: ['Kepcka', 'Curtcka', 'Cherviki']; Added price: 54.0)</td><td>(Diff: ['Shapka', 'Palto', 'Rukavichki', 'Choboti']; Added price: 86.0)</td></tr><tr><td>5</td><td>30</td><td>(Diff: ['Sventr']; Added price: 14.0)</td><td>(Diff: ['Kepcka', 'Curtcka', 'Cherviki']; Added price: 54.0)</td><td>(Diff: ['Shapka', 'Palto', 'Rukavichki', 'Choboti']; Added price: 86.0)</td></tr><tr><td>6</td><td>20</td><td>(Diff: ['Sventr', 'Jeans', 'Krosivki']; Added price: 42.0)</td><td>(Diff: ['Kepcka', 'Curtcka', 'Jeans', 'Cherviki']; Added price: 68.0)</td><td>(Diff: ['Shapka', 'Palto', 'Rukavichki', 'Jeans', 'Choboti']; Added price: 100.0)</td></tr></table>"
       ],
       "metadata": {},
       "output_type": "pyout",
       "prompt_number": 8,
       "text": [
        "<utils.Table at 0x5e6c0b8>"
       ]
      }
     ],
     "prompt_number": 8
    },
    {
     "cell_type": "code",
     "collapsed": false,
     "input": [
      "# 5.8\n",
      "# Winter\n",
      "best_strategies_winter_equal_probability = default_solver.find_best_strategy(winter_equal_probability)\n",
      "\n",
      "Table([\"Set\"] + [cs.name for (cs, _) in best_strategies_winter_equal_probability ], \n",
      "         [[\"Favor\"] + [\"%.2f\" % (ef) for (_, ef) in best_strategies_winter_equal_probability ]])"
     ],
     "language": "python",
     "metadata": {},
     "outputs": [
      {
       "html": [
        "<table class='table table-striped'><tr><th>Set</th><th>1</th><th>6</th><th>2</th><th>4</th><th>5</th><th>3</th><tr><tr><td>Favor</td><td>-95.00</td><td>-144.00</td><td>-151.00</td><td>-154.00</td><td>-154.00</td><td>-174.00</td></tr></table>"
       ],
       "metadata": {},
       "output_type": "pyout",
       "prompt_number": 9,
       "text": [
        "<utils.Table at 0x5e6b4e0>"
       ]
      }
     ],
     "prompt_number": 9
    },
    {
     "cell_type": "code",
     "collapsed": false,
     "input": [
      "# 5.8\n",
      "# Spring\n",
      "best_strategies_spring_equal_probability = default_solver.find_best_strategy(spring_equal_probability)\n",
      "\n",
      "Table([\"Set\"] + [cs.name for (cs, _) in best_strategies_spring_equal_probability ], \n",
      "         [[\"Favor\"] + [\"%.2f\" % (ef) for (_, ef) in best_strategies_spring_equal_probability ]])"
     ],
     "language": "python",
     "metadata": {},
     "outputs": [
      {
       "html": [
        "<table class='table table-striped'><tr><th>Set</th><th>4</th><th>5</th><th>6</th><th>2</th><th>3</th><th>1</th><tr><tr><td>Favor</td><td>-58.67</td><td>-68.00</td><td>-81.33</td><td>-93.67</td><td>-97.33</td><td>-140.33</td></tr></table>"
       ],
       "metadata": {},
       "output_type": "pyout",
       "prompt_number": 10,
       "text": [
        "<utils.Table at 0x5e6b630>"
       ]
      }
     ],
     "prompt_number": 10
    },
    {
     "cell_type": "code",
     "collapsed": false,
     "input": [
      "# 5.8\n",
      "# Summer\n",
      "best_strategies_summer_equal_probability = default_solver.find_best_strategy(summer_equal_probability)\n",
      "\n",
      "Table([\"Set\"] + [cs.name for (cs, _) in best_strategies_summer_equal_probability ], \n",
      "         [[\"Favor\"] + [\"%.2f\" % (ef) for (_, ef) in best_strategies_summer_equal_probability ]])"
     ],
     "language": "python",
     "metadata": {},
     "outputs": [
      {
       "html": [
        "<table class='table table-striped'><tr><th>Set</th><th>5</th><th>4</th><th>6</th><th>3</th><th>2</th><th>1</th><tr><tr><td>Favor</td><td>-30.00</td><td>-46.00</td><td>-56.00</td><td>-80.00</td><td>-105.00</td><td>-139.00</td></tr></table>"
       ],
       "metadata": {},
       "output_type": "pyout",
       "prompt_number": 11,
       "text": [
        "<utils.Table at 0x5e6c6a0>"
       ]
      }
     ],
     "prompt_number": 11
    },
    {
     "cell_type": "code",
     "collapsed": false,
     "input": [
      "# 5.8\n",
      "# Autumn\n",
      "best_strategies_autumn_equal_probability = default_solver.find_best_strategy(autumn_equal_probability)\n",
      "\n",
      "Table([\"Set\"] + [cs.name for (cs, _) in best_strategies_autumn_equal_probability ], \n",
      "         [[\"Favor\"] + [\"%.2f\" % (ef) for (_, ef) in best_strategies_autumn_equal_probability ]])"
     ],
     "language": "python",
     "metadata": {},
     "outputs": [
      {
       "html": [
        "<table class='table table-striped'><tr><th>Set</th><th>4</th><th>5</th><th>3</th><th>6</th><th>2</th><th>1</th><tr><tr><td>Favor</td><td>-76.67</td><td>-81.33</td><td>-88.00</td><td>-90.00</td><td>-102.33</td><td>-149.00</td></tr></table>"
       ],
       "metadata": {},
       "output_type": "pyout",
       "prompt_number": 12,
       "text": [
        "<utils.Table at 0x5e6c940>"
       ]
      }
     ],
     "prompt_number": 12
    },
    {
     "cell_type": "code",
     "collapsed": false,
     "input": [
      "#5.9 (4.4)\n",
      "four_times_winter_probabilty_pow = [4, 1, 1, 1, 1, 1, 1, 1, 1, 1, 4]\n",
      "four_times_winter_probabilty = [(i, (x/s)) for (i, x) in enumerate(four_times_winter_probabilty_pow)\n",
      "\t\t\t\t\tfor s in [sum(four_times_winter_probabilty_pow)]]\n",
      "\n",
      "best_strategies_four_times_winter_probabilty = default_solver.find_best_strategy(four_times_winter_probabilty)\n",
      "\n",
      "Table([\"Set\"] + [cs.name for (cs, _) in best_strategies_four_times_winter_probabilty ], \n",
      "         [[\"Favor\"] + [\"%.2f\" % (ef) for (_, ef) in best_strategies_four_times_winter_probabilty ]])\n"
     ],
     "language": "python",
     "metadata": {},
     "outputs": [
      {
       "html": [
        "<table class='table table-striped'><tr><th>Set</th><th>5</th><th>4</th><th>6</th><th>2</th><th>3</th><th>1</th><tr><tr><td>Favor</td><td>-97.41</td><td>-97.76</td><td>-103.65</td><td>-110.76</td><td>-122.00</td><td>-129.47</td></tr></table>"
       ],
       "metadata": {},
       "output_type": "pyout",
       "prompt_number": 13,
       "text": [
        "<utils.Table at 0x5e61400>"
       ]
      }
     ],
     "prompt_number": 13
    },
    {
     "cell_type": "code",
     "collapsed": false,
     "input": [
      "#5.9 (4.5)\n",
      "import calendar\n",
      "mounthly_probabilty_pow = calendar.mdays[1:]\n",
      "print(\"Month days: %r\" % mounthly_probabilty_pow)\n",
      "mounthly_probabilty = [(i, (x/s)) for (i, x) in enumerate(mounthly_probabilty_pow)\n",
      "\t\t\t\t\tfor s in [sum(mounthly_probabilty_pow)]]\n",
      "\n",
      "best_strategies_mounthly_probabilty = default_solver.find_best_strategy(mounthly_probabilty)\n",
      "\n",
      "Table([\"Set\"] + [cs.name for (cs, _) in best_strategies_mounthly_probabilty ], \n",
      "         [[\"Favor\"] + [\"%.2f\" % (ef) for (_, ef) in best_strategies_mounthly_probabilty ]])\n"
     ],
     "language": "python",
     "metadata": {},
     "outputs": [
      {
       "output_type": "stream",
       "stream": "stdout",
       "text": [
        "Month days: [31, 28, 31, 30, 31, 30, 31, 31, 30, 31, 30, 31]\n"
       ]
      },
      {
       "html": [
        "<table class='table table-striped'><tr><th>Set</th><th>5</th><th>4</th><th>6</th><th>3</th><th>2</th><th>1</th><tr><tr><td>Favor</td><td>-83.02</td><td>-83.57</td><td>-92.61</td><td>-109.49</td><td>-112.87</td><td>-131.03</td></tr></table>"
       ],
       "metadata": {},
       "output_type": "pyout",
       "prompt_number": 14,
       "text": [
        "<utils.Table at 0x5e61710>"
       ]
      }
     ],
     "prompt_number": 14
    },
    {
     "cell_type": "code",
     "collapsed": false,
     "input": [
      "all_clothes_price_reduced = [\n",
      "\tClothesItem(\"Blayzer\", 0.5, 6),\n",
      "\tClothesItem(\"Bushalt\", 4, 48/3),\n",
      "\tClothesItem(\"Vatni shtani\", 2, 24),\n",
      "\tClothesItem(\"Vyetnamki\", 0.5, 6/3),\n",
      "\tClothesItem(\"Jeans\", 1, 12),\n",
      "\tClothesItem(\"Kepcka\", 0.5, 6),\n",
      "\tClothesItem(\"Krosivki\", 1, 12),\n",
      "\tClothesItem(\"Curtcka\", 2, 24),\n",
      "\tClothesItem(\"Palto\", 3, 36/3),\n",
      "\tClothesItem(\"Rukavichki\", 0.5, 6),\n",
      "\tClothesItem(\"Sventr\", 1, 12),\n",
      "\tClothesItem(\"Sorochka\", 0.5, 6),\n",
      "\tClothesItem(\"Footbolka\", 0.5, 6),\n",
      "\tClothesItem(\"Cherviki\", 1.5, 18),\n",
      "\tClothesItem(\"Choboti\", 2, 24/3),\n",
      "\tClothesItem(\"Shapka\", 1, 12/3),\n",
      "\tClothesItem(\"Shorti\", 0.5, 6)\n",
      "]\n",
      "price_reduced_solver = ClothesSolver(all_clothes_sets, all_clothes_price_reduced, temps)"
     ],
     "language": "python",
     "metadata": {},
     "outputs": [],
     "prompt_number": 15
    },
    {
     "cell_type": "code",
     "collapsed": false,
     "input": [
      "#5.10\n",
      "price_reduced_options = price_reduced_solver.calculate_options(all_monthes_equal_probability) \n",
      "\n",
      "Table([\"Set\", \"Price\"] + [m for (m, _) in all_monthes_equal_probability], \n",
      "         [[cs.name, cs.get_price()] + calcs for (cs, calcs) in price_reduced_options ])"
     ],
     "language": "python",
     "metadata": {},
     "outputs": [
      {
       "html": [
        "<table class='table table-striped'><tr><th>Set</th><th>Price</th><th>0</th><th>1</th><th>2</th><th>3</th><th>4</th><th>5</th><th>6</th><th>7</th><th>8</th><th>9</th><th>10</th><th>11</th><tr><tr><td>1</td><td>95.0</td><td>(Diff: []; Added price: 0)</td><td>(Diff: []; Added price: 0)</td><td>(Diff: ['Palto', 'Jeans']; Added price: 28.0)</td><td>(Diff: ['Sventr', 'Jeans', 'Krosivki']; Added price: 42.0)</td><td>(Diff: ['Sventr', 'Jeans', 'Krosivki']; Added price: 42.0)</td><td>(Diff: ['Blayzer', 'Sorochka', 'Jeans', 'Krosivki']; Added price: 44.0)</td><td>(Diff: ['Blayzer', 'Sorochka', 'Jeans', 'Krosivki']; Added price: 44.0)</td><td>(Diff: ['Blayzer', 'Sorochka', 'Jeans', 'Krosivki']; Added price: 44.0)</td><td>(Diff: ['Sventr', 'Jeans', 'Krosivki']; Added price: 42.0)</td><td>(Diff: ['Kepcka', 'Curtcka', 'Jeans', 'Cherviki']; Added price: 68.0)</td><td>(Diff: ['Palto', 'Jeans']; Added price: 28.0)</td><td>(Diff: []; Added price: 0)</td></tr><tr><td>2</td><td>75.0</td><td>(Diff: ['Bushalt', 'Vatni shtani']; Added price: 44.0)</td><td>(Diff: ['Bushalt', 'Vatni shtani']; Added price: 44.0)</td><td>(Diff: []; Added price: 0)</td><td>(Diff: ['Sventr', 'Krosivki']; Added price: 28.0)</td><td>(Diff: ['Sventr', 'Krosivki']; Added price: 28.0)</td><td>(Diff: ['Blayzer', 'Sorochka', 'Krosivki']; Added price: 30.0)</td><td>(Diff: ['Blayzer', 'Sorochka', 'Krosivki']; Added price: 30.0)</td><td>(Diff: ['Blayzer', 'Sorochka', 'Krosivki']; Added price: 30.0)</td><td>(Diff: ['Sventr', 'Krosivki']; Added price: 28.0)</td><td>(Diff: ['Kepcka', 'Curtcka', 'Cherviki']; Added price: 54.0)</td><td>(Diff: []; Added price: 0)</td><td>(Diff: ['Bushalt', 'Vatni shtani']; Added price: 44.0)</td></tr><tr><td>3</td><td>50</td><td>(Diff: ['Shapka', 'Bushalt', 'Rukavichki', 'Vatni shtani', 'Choboti']; Added price: 68.0)</td><td>(Diff: ['Shapka', 'Bushalt', 'Rukavichki', 'Vatni shtani', 'Choboti']; Added price: 68.0)</td><td>(Diff: ['Shapka', 'Palto', 'Rukavichki', 'Choboti']; Added price: 38.0)</td><td>(Diff: ['Sventr', 'Krosivki']; Added price: 28.0)</td><td>(Diff: ['Sventr', 'Krosivki']; Added price: 28.0)</td><td>(Diff: ['Blayzer', 'Sorochka', 'Krosivki']; Added price: 30.0)</td><td>(Diff: ['Blayzer', 'Sorochka', 'Krosivki']; Added price: 30.0)</td><td>(Diff: ['Blayzer', 'Sorochka', 'Krosivki']; Added price: 30.0)</td><td>(Diff: ['Sventr', 'Krosivki']; Added price: 28.0)</td><td>(Diff: []; Added price: 0)</td><td>(Diff: ['Shapka', 'Palto', 'Rukavichki', 'Choboti']; Added price: 38.0)</td><td>(Diff: ['Shapka', 'Bushalt', 'Rukavichki', 'Vatni shtani', 'Choboti']; Added price: 68.0)</td></tr><tr><td>4</td><td>30</td><td>(Diff: ['Shapka', 'Bushalt', 'Rukavichki', 'Vatni shtani', 'Choboti']; Added price: 68.0)</td><td>(Diff: ['Shapka', 'Bushalt', 'Rukavichki', 'Vatni shtani', 'Choboti']; Added price: 68.0)</td><td>(Diff: ['Shapka', 'Palto', 'Rukavichki', 'Choboti']; Added price: 38.0)</td><td>(Diff: []; Added price: 0)</td><td>(Diff: []; Added price: 0)</td><td>(Diff: ['Blayzer', 'Sorochka']; Added price: 16.0)</td><td>(Diff: ['Blayzer', 'Sorochka']; Added price: 16.0)</td><td>(Diff: ['Blayzer', 'Sorochka']; Added price: 16.0)</td><td>(Diff: []; Added price: 0)</td><td>(Diff: ['Kepcka', 'Curtcka', 'Cherviki']; Added price: 54.0)</td><td>(Diff: ['Shapka', 'Palto', 'Rukavichki', 'Choboti']; Added price: 38.0)</td><td>(Diff: ['Shapka', 'Bushalt', 'Rukavichki', 'Vatni shtani', 'Choboti']; Added price: 68.0)</td></tr><tr><td>5</td><td>30</td><td>(Diff: ['Shapka', 'Bushalt', 'Rukavichki', 'Vatni shtani', 'Choboti']; Added price: 68.0)</td><td>(Diff: ['Shapka', 'Bushalt', 'Rukavichki', 'Vatni shtani', 'Choboti']; Added price: 68.0)</td><td>(Diff: ['Shapka', 'Palto', 'Rukavichki', 'Choboti']; Added price: 38.0)</td><td>(Diff: ['Sventr']; Added price: 14.0)</td><td>(Diff: ['Sventr']; Added price: 14.0)</td><td>(Diff: []; Added price: 0)</td><td>(Diff: []; Added price: 0)</td><td>(Diff: []; Added price: 0)</td><td>(Diff: ['Sventr']; Added price: 14.0)</td><td>(Diff: ['Kepcka', 'Curtcka', 'Cherviki']; Added price: 54.0)</td><td>(Diff: ['Shapka', 'Palto', 'Rukavichki', 'Choboti']; Added price: 38.0)</td><td>(Diff: ['Shapka', 'Bushalt', 'Rukavichki', 'Vatni shtani', 'Choboti']; Added price: 68.0)</td></tr><tr><td>6</td><td>20</td><td>(Diff: ['Shapka', 'Bushalt', 'Rukavichki', 'Vatni shtani', 'Choboti']; Added price: 68.0)</td><td>(Diff: ['Shapka', 'Bushalt', 'Rukavichki', 'Vatni shtani', 'Choboti']; Added price: 68.0)</td><td>(Diff: ['Shapka', 'Palto', 'Rukavichki', 'Jeans', 'Choboti']; Added price: 52.0)</td><td>(Diff: ['Sventr', 'Jeans', 'Krosivki']; Added price: 42.0)</td><td>(Diff: ['Sventr', 'Jeans', 'Krosivki']; Added price: 42.0)</td><td>(Diff: ['Sorochka', 'Jeans', 'Krosivki']; Added price: 36.0)</td><td>(Diff: ['Sorochka', 'Jeans', 'Krosivki']; Added price: 36.0)</td><td>(Diff: ['Sorochka', 'Jeans', 'Krosivki']; Added price: 36.0)</td><td>(Diff: ['Sventr', 'Jeans', 'Krosivki']; Added price: 42.0)</td><td>(Diff: ['Kepcka', 'Curtcka', 'Jeans', 'Cherviki']; Added price: 68.0)</td><td>(Diff: ['Shapka', 'Palto', 'Rukavichki', 'Jeans', 'Choboti']; Added price: 52.0)</td><td>(Diff: ['Shapka', 'Bushalt', 'Rukavichki', 'Vatni shtani', 'Choboti']; Added price: 68.0)</td></tr></table>"
       ],
       "metadata": {},
       "output_type": "pyout",
       "prompt_number": 16,
       "text": [
        "<utils.Table at 0x5e6b048>"
       ]
      }
     ],
     "prompt_number": 16
    },
    {
     "cell_type": "code",
     "collapsed": false,
     "input": [
      "#5.11\n",
      "best_strategies_price_reduced_monthes_equal_probabiltiy = price_reduced_solver.find_best_strategy(all_monthes_equal_probability)\n",
      "\n",
      "Table([\"Set\"] + [cs.name for (cs, _) in best_strategies_price_reduced_monthes_equal_probabiltiy ], \n",
      "         [[\"Favor\"] + [\"%.2f\" % (ef) for (_, ef) in best_strategies_price_reduced_monthes_equal_probabiltiy ]])"
     ],
     "language": "python",
     "metadata": {},
     "outputs": [
      {
       "html": [
        "<table class='table table-striped'><tr><th>Set</th><th>5</th><th>4</th><th>6</th><th>3</th><th>2</th><th>1</th><tr><tr><td>Favor</td><td>-61.33</td><td>-61.83</td><td>-70.83</td><td>-87.83</td><td>-105.00</td><td>-126.83</td></tr></table>"
       ],
       "metadata": {},
       "output_type": "pyout",
       "prompt_number": 17,
       "text": [
        "<utils.Table at 0x5e85748>"
       ]
      }
     ],
     "prompt_number": 17
    },
    {
     "cell_type": "code",
     "collapsed": false,
     "input": [
      "#5.12\n",
      "Table([\"#\", \"\u041d\u0430\u0437\u0432\u0430 \u0437\u0430\u0432\u0434\u0430\u043d\u043d\u044f\", \"\u041d\u0430\u0439\u043a\u0440\u0430\u0449\u0430 \u0441\u0442\u0440\u0430\u0442\u0435\u0433\u0456\u044f(-\u0457), xi\", \"\u0417\u043d\u0430\u0447\u0435\u043d\u043d\u044f E[U(xi)]\"], \n",
      "         [[\"1\", \"\u0417\u0430 12-\u0442\u044c \u043c\u0456\u0441\u044f\u0446\u0456\u0432\"] + list(best_strategies_monthes_equal_probabiltiy[0]),\n",
      "          [\"2\", \"\u0417\u0438\u043c\u0430\"] + list(best_strategies_winter_equal_probability[0]),\n",
      "          [\"3\", \"\u0412\u0435\u0441\u043d\u0430\"] + list(best_strategies_spring_equal_probability[0]),\n",
      "          [\"4\", \"\u041b\u0456\u0442\u043e\"] + list(best_strategies_summer_equal_probability[0]),\n",
      "          [\"5\", \"\u041e\u0441\u0456\u043d\u044c\"] + list(best_strategies_autumn_equal_probability[0]),\n",
      "          [\"6\", \"\u0417\u0438\u043c\u0430 x3\"] + list(best_strategies_four_times_winter_probabilty[0]),\n",
      "          [\"7\", \"\u0417\u0430 12-\u0442\u044c \u043c\u0456\u0441 (\u0434\u043d\u0456\u0432)\"] + list(best_strategies_mounthly_probabilty[0]),\n",
      "          [\"8\", \"\u0417\u0430 12-\u0442\u044c \u043c\u0456\u0441 (\u0437\u043c\u0435\u043d\u0448)\"] + list(best_strategies_price_reduced_monthes_equal_probabiltiy[0]),])"
     ],
     "language": "python",
     "metadata": {},
     "outputs": [
      {
       "html": [
        "<table class='table table-striped'><tr><th>#</th><th>\u041d\u0430\u0437\u0432\u0430 \u0437\u0430\u0432\u0434\u0430\u043d\u043d\u044f</th><th>\u041d\u0430\u0439\u043a\u0440\u0430\u0449\u0430 \u0441\u0442\u0440\u0430\u0442\u0435\u0433\u0456\u044f(-\u0457), xi</th><th>\u0417\u043d\u0430\u0447\u0435\u043d\u043d\u044f E[U(xi)]</th><tr><tr><td>1</td><td>\u0417\u0430 12-\u0442\u044c \u043c\u0456\u0441\u044f\u0446\u0456\u0432</td><td>5: 20..30: Blayzer, Sorochka, Jeans, Krosivki</td><td>-83.33333333333331</td></tr><tr><td>2</td><td>\u0417\u0438\u043c\u0430</td><td>1: -100..-10: Shapka, Bushalt, Rukavichki, Vatni shtani, Choboti</td><td>-95.0</td></tr><tr><td>3</td><td>\u0412\u0435\u0441\u043d\u0430</td><td>4: 10..20: Sventr, Jeans, Krosivki</td><td>-58.666666666666664</td></tr><tr><td>4</td><td>\u041b\u0456\u0442\u043e</td><td>5: 20..30: Blayzer, Sorochka, Jeans, Krosivki</td><td>-30.0</td></tr><tr><td>5</td><td>\u041e\u0441\u0456\u043d\u044c</td><td>4: 10..20: Sventr, Jeans, Krosivki</td><td>-76.66666666666666</td></tr><tr><td>6</td><td>\u0417\u0438\u043c\u0430 x3</td><td>5: 20..30: Blayzer, Sorochka, Jeans, Krosivki</td><td>-97.4117647059</td></tr><tr><td>7</td><td>\u0417\u0430 12-\u0442\u044c \u043c\u0456\u0441 (\u0434\u043d\u0456\u0432)</td><td>5: 20..30: Blayzer, Sorochka, Jeans, Krosivki</td><td>-83.0246575342</td></tr><tr><td>8</td><td>\u0417\u0430 12-\u0442\u044c \u043c\u0456\u0441 (\u0437\u043c\u0435\u043d\u0448)</td><td>5: 20..30: Blayzer, Sorochka, Jeans, Krosivki</td><td>-61.33333333333333</td></tr></table>"
       ],
       "metadata": {},
       "output_type": "pyout",
       "prompt_number": 18,
       "text": [
        "<utils.Table at 0x5e8e518>"
       ]
      }
     ],
     "prompt_number": 18
    },
    {
     "cell_type": "code",
     "collapsed": false,
     "input": [],
     "language": "python",
     "metadata": {},
     "outputs": [],
     "prompt_number": 18
    }
   ],
   "metadata": {}
  }
 ]
}