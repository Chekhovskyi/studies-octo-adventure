{
 "metadata": {
  "name": "",
  "signature": "sha256:327e1f4811655dee701a91195c1703f7fcbf3a3f63ede8a697c4110a61e4c8b9"
 },
 "nbformat": 3,
 "nbformat_minor": 0,
 "worksheets": [
  {
   "cells": [
    {
     "cell_type": "markdown",
     "metadata": {},
     "source": [
      "### \u0420\u043e\u0437\u0432'\u044f\u0437\u043e\u043a"
     ]
    },
    {
     "cell_type": "code",
     "collapsed": false,
     "input": [
      "from utils import *"
     ],
     "language": "python",
     "metadata": {},
     "outputs": [],
     "prompt_number": 1
    },
    {
     "cell_type": "code",
     "collapsed": false,
     "input": [
      "display_code(\"l2_3.py\")"
     ],
     "language": "python",
     "metadata": {},
     "outputs": [
      {
       "html": [
        "<style type='text/css'>.highlight .hll { background-color: #ffffcc }\n",
        ".highlight  { background: #f8f8f8; }\n",
        ".highlight .c { color: #408080; font-style: italic } /* Comment */\n",
        ".highlight .err { border: 1px solid #FF0000 } /* Error */\n",
        ".highlight .k { color: #008000; font-weight: bold } /* Keyword */\n",
        ".highlight .o { color: #666666 } /* Operator */\n",
        ".highlight .cm { color: #408080; font-style: italic } /* Comment.Multiline */\n",
        ".highlight .cp { color: #BC7A00 } /* Comment.Preproc */\n",
        ".highlight .c1 { color: #408080; font-style: italic } /* Comment.Single */\n",
        ".highlight .cs { color: #408080; font-style: italic } /* Comment.Special */\n",
        ".highlight .gd { color: #A00000 } /* Generic.Deleted */\n",
        ".highlight .ge { font-style: italic } /* Generic.Emph */\n",
        ".highlight .gr { color: #FF0000 } /* Generic.Error */\n",
        ".highlight .gh { color: #000080; font-weight: bold } /* Generic.Heading */\n",
        ".highlight .gi { color: #00A000 } /* Generic.Inserted */\n",
        ".highlight .go { color: #888888 } /* Generic.Output */\n",
        ".highlight .gp { color: #000080; font-weight: bold } /* Generic.Prompt */\n",
        ".highlight .gs { font-weight: bold } /* Generic.Strong */\n",
        ".highlight .gu { color: #800080; font-weight: bold } /* Generic.Subheading */\n",
        ".highlight .gt { color: #0044DD } /* Generic.Traceback */\n",
        ".highlight .kc { color: #008000; font-weight: bold } /* Keyword.Constant */\n",
        ".highlight .kd { color: #008000; font-weight: bold } /* Keyword.Declaration */\n",
        ".highlight .kn { color: #008000; font-weight: bold } /* Keyword.Namespace */\n",
        ".highlight .kp { color: #008000 } /* Keyword.Pseudo */\n",
        ".highlight .kr { color: #008000; font-weight: bold } /* Keyword.Reserved */\n",
        ".highlight .kt { color: #B00040 } /* Keyword.Type */\n",
        ".highlight .m { color: #666666 } /* Literal.Number */\n",
        ".highlight .s { color: #BA2121 } /* Literal.String */\n",
        ".highlight .na { color: #7D9029 } /* Name.Attribute */\n",
        ".highlight .nb { color: #008000 } /* Name.Builtin */\n",
        ".highlight .nc { color: #0000FF; font-weight: bold } /* Name.Class */\n",
        ".highlight .no { color: #880000 } /* Name.Constant */\n",
        ".highlight .nd { color: #AA22FF } /* Name.Decorator */\n",
        ".highlight .ni { color: #999999; font-weight: bold } /* Name.Entity */\n",
        ".highlight .ne { color: #D2413A; font-weight: bold } /* Name.Exception */\n",
        ".highlight .nf { color: #0000FF } /* Name.Function */\n",
        ".highlight .nl { color: #A0A000 } /* Name.Label */\n",
        ".highlight .nn { color: #0000FF; font-weight: bold } /* Name.Namespace */\n",
        ".highlight .nt { color: #008000; font-weight: bold } /* Name.Tag */\n",
        ".highlight .nv { color: #19177C } /* Name.Variable */\n",
        ".highlight .ow { color: #AA22FF; font-weight: bold } /* Operator.Word */\n",
        ".highlight .w { color: #bbbbbb } /* Text.Whitespace */\n",
        ".highlight .mf { color: #666666 } /* Literal.Number.Float */\n",
        ".highlight .mh { color: #666666 } /* Literal.Number.Hex */\n",
        ".highlight .mi { color: #666666 } /* Literal.Number.Integer */\n",
        ".highlight .mo { color: #666666 } /* Literal.Number.Oct */\n",
        ".highlight .sb { color: #BA2121 } /* Literal.String.Backtick */\n",
        ".highlight .sc { color: #BA2121 } /* Literal.String.Char */\n",
        ".highlight .sd { color: #BA2121; font-style: italic } /* Literal.String.Doc */\n",
        ".highlight .s2 { color: #BA2121 } /* Literal.String.Double */\n",
        ".highlight .se { color: #BB6622; font-weight: bold } /* Literal.String.Escape */\n",
        ".highlight .sh { color: #BA2121 } /* Literal.String.Heredoc */\n",
        ".highlight .si { color: #BB6688; font-weight: bold } /* Literal.String.Interpol */\n",
        ".highlight .sx { color: #008000 } /* Literal.String.Other */\n",
        ".highlight .sr { color: #BB6688 } /* Literal.String.Regex */\n",
        ".highlight .s1 { color: #BA2121 } /* Literal.String.Single */\n",
        ".highlight .ss { color: #19177C } /* Literal.String.Symbol */\n",
        ".highlight .bp { color: #008000 } /* Name.Builtin.Pseudo */\n",
        ".highlight .vc { color: #19177C } /* Name.Variable.Class */\n",
        ".highlight .vg { color: #19177C } /* Name.Variable.Global */\n",
        ".highlight .vi { color: #19177C } /* Name.Variable.Instance */\n",
        ".highlight .il { color: #666666 } /* Literal.Number.Integer.Long */</style><h3>File: l2_3.py</h3><div class=\"well highlight\"><pre><span class=\"c\"># coding=utf8</span>\n",
        "<span class=\"kn\">import</span> <span class=\"nn\">operator</span>\n",
        "<span class=\"kn\">from</span> <span class=\"nn\">utils</span> <span class=\"kn\">import</span> <span class=\"o\">*</span>\n",
        "\n",
        "<span class=\"k\">class</span> <span class=\"nc\">ClothesSet</span><span class=\"p\">(</span><span class=\"nb\">object</span><span class=\"p\">):</span>\n",
        "\t<span class=\"k\">def</span> <span class=\"nf\">__init__</span><span class=\"p\">(</span><span class=\"bp\">self</span><span class=\"p\">,</span> <span class=\"n\">name</span><span class=\"p\">,</span> <span class=\"n\">temp_min</span><span class=\"p\">,</span> <span class=\"n\">temp_max</span><span class=\"p\">,</span> <span class=\"n\">clothes</span><span class=\"p\">,</span> <span class=\"n\">weight</span><span class=\"p\">):</span>\t\t\n",
        "\t\t<span class=\"bp\">self</span><span class=\"o\">.</span><span class=\"n\">name</span> <span class=\"o\">=</span> <span class=\"n\">name</span>\n",
        "\t\t<span class=\"bp\">self</span><span class=\"o\">.</span><span class=\"n\">temp_min</span> <span class=\"o\">=</span> <span class=\"n\">temp_min</span>\n",
        "\t\t<span class=\"bp\">self</span><span class=\"o\">.</span><span class=\"n\">temp_max</span> <span class=\"o\">=</span> <span class=\"n\">temp_max</span>\n",
        "\t\t<span class=\"bp\">self</span><span class=\"o\">.</span><span class=\"n\">clothes</span> <span class=\"o\">=</span> <span class=\"n\">clothes</span>\n",
        "\t\t<span class=\"bp\">self</span><span class=\"o\">.</span><span class=\"n\">weight</span> <span class=\"o\">=</span> <span class=\"n\">weight</span>\n",
        "\n",
        "\t<span class=\"k\">def</span> <span class=\"nf\">get_price</span><span class=\"p\">(</span><span class=\"bp\">self</span><span class=\"p\">):</span>\n",
        "\t\t<span class=\"k\">return</span> <span class=\"bp\">self</span><span class=\"o\">.</span><span class=\"n\">weight</span> <span class=\"o\">*</span> <span class=\"mi\">10</span><span class=\"p\">;</span>\n",
        "\n",
        "\t<span class=\"k\">def</span> <span class=\"nf\">__repr__</span><span class=\"p\">(</span><span class=\"bp\">self</span><span class=\"p\">):</span>\n",
        "\t\t<span class=\"k\">return</span> <span class=\"bp\">self</span><span class=\"o\">.</span><span class=\"n\">name</span> <span class=\"o\">+</span> <span class=\"s\">&quot;: &quot;</span> <span class=\"o\">+</span> <span class=\"nb\">str</span><span class=\"p\">(</span><span class=\"bp\">self</span><span class=\"o\">.</span><span class=\"n\">temp_min</span><span class=\"p\">)</span> <span class=\"o\">+</span> <span class=\"s\">&#39;..&#39;</span> <span class=\"o\">+</span> <span class=\"nb\">str</span><span class=\"p\">(</span><span class=\"bp\">self</span><span class=\"o\">.</span><span class=\"n\">temp_max</span><span class=\"p\">)</span> <span class=\"o\">+</span> <span class=\"s\">&#39;: &#39;</span> <span class=\"o\">+</span> <span class=\"s\">&#39;, &#39;</span><span class=\"o\">.</span><span class=\"n\">join</span><span class=\"p\">(</span><span class=\"bp\">self</span><span class=\"o\">.</span><span class=\"n\">clothes</span><span class=\"p\">)</span>\n",
        "\n",
        "<span class=\"k\">class</span> <span class=\"nc\">ClothesItem</span><span class=\"p\">(</span><span class=\"nb\">object</span><span class=\"p\">):</span>\n",
        "\t<span class=\"k\">def</span> <span class=\"nf\">__init__</span><span class=\"p\">(</span><span class=\"bp\">self</span><span class=\"p\">,</span> <span class=\"n\">name</span><span class=\"p\">,</span> <span class=\"n\">weight</span><span class=\"p\">,</span> <span class=\"n\">price</span><span class=\"p\">):</span>\n",
        "\t\t<span class=\"bp\">self</span><span class=\"o\">.</span><span class=\"n\">name</span> <span class=\"o\">=</span> <span class=\"n\">name</span>\n",
        "\t\t<span class=\"bp\">self</span><span class=\"o\">.</span><span class=\"n\">weight</span> <span class=\"o\">=</span> <span class=\"n\">weight</span>\n",
        "\t\t<span class=\"bp\">self</span><span class=\"o\">.</span><span class=\"n\">price</span> <span class=\"o\">=</span> <span class=\"n\">price</span>\n",
        "\n",
        "\n",
        "<span class=\"k\">class</span> <span class=\"nc\">MonthCalculation</span><span class=\"p\">(</span><span class=\"nb\">object</span><span class=\"p\">):</span>\n",
        "\t<span class=\"k\">def</span> <span class=\"nf\">__init__</span><span class=\"p\">(</span><span class=\"bp\">self</span><span class=\"p\">,</span> <span class=\"n\">tag</span><span class=\"p\">,</span> <span class=\"n\">clothes_set</span><span class=\"p\">,</span> <span class=\"n\">clothes_diff</span><span class=\"p\">,</span> <span class=\"n\">added_price</span><span class=\"p\">,</span> <span class=\"n\">full_price</span><span class=\"p\">):</span>\n",
        "\t\t<span class=\"bp\">self</span><span class=\"o\">.</span><span class=\"n\">tag</span> <span class=\"o\">=</span> <span class=\"n\">tag</span>\n",
        "\t\t<span class=\"bp\">self</span><span class=\"o\">.</span><span class=\"n\">clothes_set</span> <span class=\"o\">=</span> <span class=\"n\">clothes_set</span>\n",
        "\t\t<span class=\"bp\">self</span><span class=\"o\">.</span><span class=\"n\">clothes_diff</span> <span class=\"o\">=</span> <span class=\"n\">clothes_diff</span>\n",
        "\t\t<span class=\"bp\">self</span><span class=\"o\">.</span><span class=\"n\">added_price</span> <span class=\"o\">=</span> <span class=\"n\">added_price</span>\n",
        "\t\t<span class=\"bp\">self</span><span class=\"o\">.</span><span class=\"n\">full_price</span> <span class=\"o\">=</span> <span class=\"n\">full_price</span>\n",
        "\n",
        "\t<span class=\"k\">def</span> <span class=\"nf\">__repr__</span><span class=\"p\">(</span><span class=\"bp\">self</span><span class=\"p\">):</span>\n",
        "\t\t<span class=\"k\">return</span> <span class=\"s\">&quot;(Diff: &quot;</span> <span class=\"o\">+</span> <span class=\"nb\">str</span><span class=\"p\">(</span><span class=\"bp\">self</span><span class=\"o\">.</span><span class=\"n\">clothes_diff</span><span class=\"p\">)</span> <span class=\"o\">+</span> <span class=\"s\">&quot;; Added price: &quot;</span> <span class=\"o\">+</span> <span class=\"nb\">str</span><span class=\"p\">(</span><span class=\"bp\">self</span><span class=\"o\">.</span><span class=\"n\">added_price</span><span class=\"p\">)</span> <span class=\"o\">+</span> <span class=\"s\">&quot;)&quot;</span>\n",
        "\n",
        "\n",
        "<span class=\"k\">class</span> <span class=\"nc\">ClothesSolver</span><span class=\"p\">(</span><span class=\"nb\">object</span><span class=\"p\">):</span>\n",
        "\t<span class=\"k\">def</span> <span class=\"nf\">__init__</span><span class=\"p\">(</span><span class=\"bp\">self</span><span class=\"p\">,</span> <span class=\"n\">all_clothes_sets</span><span class=\"p\">,</span> <span class=\"n\">all_clothes</span><span class=\"p\">,</span> <span class=\"n\">temps</span><span class=\"p\">):</span>\n",
        "\t\t<span class=\"bp\">self</span><span class=\"o\">.</span><span class=\"n\">all_clothes_sets</span> <span class=\"o\">=</span> <span class=\"n\">all_clothes_sets</span>\n",
        "\t\t<span class=\"bp\">self</span><span class=\"o\">.</span><span class=\"n\">all_clothes</span> <span class=\"o\">=</span> <span class=\"n\">all_clothes</span>\n",
        "\t\t<span class=\"bp\">self</span><span class=\"o\">.</span><span class=\"n\">temps</span> <span class=\"o\">=</span> <span class=\"n\">temps</span>\n",
        "\n",
        "\t<span class=\"k\">def</span> <span class=\"nf\">_calculate_clothes_diff</span><span class=\"p\">(</span><span class=\"bp\">self</span><span class=\"p\">,</span> <span class=\"n\">clothes_set</span><span class=\"p\">,</span> <span class=\"n\">temp</span><span class=\"p\">):</span>\t\t\n",
        "\t\t<span class=\"n\">applicable_set</span> <span class=\"o\">=</span> <span class=\"nb\">next</span><span class=\"p\">((</span><span class=\"n\">x</span> <span class=\"k\">for</span> <span class=\"n\">x</span> <span class=\"ow\">in</span> <span class=\"bp\">self</span><span class=\"o\">.</span><span class=\"n\">all_clothes_sets</span> <span class=\"k\">if</span> <span class=\"n\">x</span><span class=\"o\">.</span><span class=\"n\">temp_min</span> <span class=\"o\">&lt;</span> <span class=\"n\">temp</span> <span class=\"o\">&lt;=</span> <span class=\"n\">x</span><span class=\"o\">.</span><span class=\"n\">temp_max</span><span class=\"p\">),</span> <span class=\"bp\">None</span><span class=\"p\">)</span>\n",
        "\n",
        "\t\t<span class=\"k\">return</span> <span class=\"p\">[</span> <span class=\"n\">x</span> <span class=\"k\">for</span> <span class=\"n\">x</span> <span class=\"ow\">in</span> <span class=\"n\">applicable_set</span><span class=\"o\">.</span><span class=\"n\">clothes</span> <span class=\"k\">if</span> <span class=\"ow\">not</span> <span class=\"n\">x</span> <span class=\"ow\">in</span> <span class=\"n\">clothes_set</span><span class=\"o\">.</span><span class=\"n\">clothes</span> <span class=\"p\">]</span>\n",
        "\n",
        "\t<span class=\"k\">def</span> <span class=\"nf\">_calculate_added_price_of_clothes</span><span class=\"p\">(</span><span class=\"bp\">self</span><span class=\"p\">,</span> <span class=\"n\">clothes</span><span class=\"p\">):</span>\t\t\n",
        "\t\t<span class=\"k\">def</span> <span class=\"nf\">get_price_for_item</span><span class=\"p\">(</span><span class=\"n\">clothes_item</span><span class=\"p\">):</span>\n",
        "\t\t\t<span class=\"k\">return</span> <span class=\"nb\">next</span><span class=\"p\">(</span><span class=\"n\">x</span> <span class=\"k\">for</span> <span class=\"n\">x</span> <span class=\"ow\">in</span> <span class=\"bp\">self</span><span class=\"o\">.</span><span class=\"n\">all_clothes</span> <span class=\"k\">if</span> <span class=\"n\">x</span><span class=\"o\">.</span><span class=\"n\">name</span> <span class=\"o\">==</span> <span class=\"n\">clothes_item</span><span class=\"p\">)</span><span class=\"o\">.</span><span class=\"n\">price</span>\n",
        "\t\t<span class=\"k\">return</span> <span class=\"nb\">sum</span><span class=\"p\">(</span><span class=\"n\">get_price_for_item</span><span class=\"p\">(</span><span class=\"n\">x</span><span class=\"p\">)</span> <span class=\"o\">+</span> <span class=\"mf\">2.0</span> <span class=\"k\">for</span> <span class=\"n\">x</span> <span class=\"ow\">in</span> <span class=\"n\">clothes</span><span class=\"p\">)</span>\n",
        "\n",
        "\n",
        "\t<span class=\"k\">def</span> <span class=\"nf\">calculate_options</span><span class=\"p\">(</span><span class=\"bp\">self</span><span class=\"p\">,</span> <span class=\"n\">monthes</span><span class=\"p\">):</span>\n",
        "\n",
        "\t\t<span class=\"k\">def</span> <span class=\"nf\">calulate_monthes</span><span class=\"p\">(</span><span class=\"n\">clothes_set</span><span class=\"p\">):</span>\n",
        "\t\t\t<span class=\"k\">def</span> <span class=\"nf\">calulate_month</span><span class=\"p\">(</span><span class=\"n\">m</span><span class=\"p\">):</span>\n",
        "\t\t\t\t<span class=\"n\">temp</span> <span class=\"o\">=</span> <span class=\"bp\">self</span><span class=\"o\">.</span><span class=\"n\">temps</span><span class=\"p\">[</span><span class=\"n\">m</span><span class=\"p\">]</span>\n",
        "\t\t\t\t<span class=\"n\">clothes_diff</span> <span class=\"o\">=</span> <span class=\"bp\">self</span><span class=\"o\">.</span><span class=\"n\">_calculate_clothes_diff</span><span class=\"p\">(</span><span class=\"n\">clothes_set</span><span class=\"p\">,</span> <span class=\"n\">temp</span><span class=\"p\">)</span>\n",
        "\t\t\t\t<span class=\"n\">added_price</span> <span class=\"o\">=</span> <span class=\"bp\">self</span><span class=\"o\">.</span><span class=\"n\">_calculate_added_price_of_clothes</span><span class=\"p\">(</span><span class=\"n\">clothes_diff</span><span class=\"p\">)</span>\n",
        "\t\t\t\t<span class=\"n\">full_price</span> <span class=\"o\">=</span> <span class=\"n\">clothes_set</span><span class=\"o\">.</span><span class=\"n\">get_price</span><span class=\"p\">()</span> <span class=\"o\">+</span> <span class=\"n\">added_price</span>\n",
        "\t\t\t\t<span class=\"k\">return</span> <span class=\"n\">MonthCalculation</span><span class=\"p\">(</span><span class=\"n\">m</span><span class=\"p\">,</span> <span class=\"n\">clothes_set</span><span class=\"p\">,</span> <span class=\"n\">clothes_diff</span><span class=\"p\">,</span> <span class=\"n\">added_price</span><span class=\"p\">,</span> <span class=\"n\">full_price</span><span class=\"p\">)</span>\n",
        "\n",
        "\t\t\t<span class=\"k\">return</span> <span class=\"p\">[</span><span class=\"n\">calulate_month</span><span class=\"p\">(</span><span class=\"n\">m</span><span class=\"p\">)</span> <span class=\"k\">for</span> <span class=\"p\">(</span><span class=\"n\">m</span><span class=\"p\">,</span><span class=\"n\">_</span><span class=\"p\">)</span> <span class=\"ow\">in</span> <span class=\"n\">monthes</span><span class=\"p\">]</span>\n",
        "\n",
        "\t\t<span class=\"k\">return</span> <span class=\"p\">[</span> <span class=\"p\">(</span><span class=\"n\">cs</span><span class=\"p\">,</span> <span class=\"n\">calulate_monthes</span><span class=\"p\">(</span><span class=\"n\">cs</span><span class=\"p\">))</span> <span class=\"k\">for</span> <span class=\"n\">cs</span> <span class=\"ow\">in</span> <span class=\"bp\">self</span><span class=\"o\">.</span><span class=\"n\">all_clothes_sets</span> <span class=\"p\">]</span>\n",
        "\n",
        "\t<span class=\"k\">def</span> <span class=\"nf\">find_best_strategy</span><span class=\"p\">(</span><span class=\"bp\">self</span><span class=\"p\">,</span> <span class=\"n\">monthes</span><span class=\"p\">):</span>\t\n",
        "\n",
        "\t\t<span class=\"n\">probabilities</span> <span class=\"o\">=</span> <span class=\"p\">[</span><span class=\"n\">p</span> <span class=\"k\">for</span> <span class=\"p\">(</span><span class=\"n\">_</span><span class=\"p\">,</span> <span class=\"n\">p</span><span class=\"p\">)</span> <span class=\"ow\">in</span> <span class=\"n\">monthes</span><span class=\"p\">]</span>\n",
        "\n",
        "\t\t<span class=\"k\">def</span> <span class=\"nf\">expected_favor</span><span class=\"p\">(</span><span class=\"n\">calculations</span><span class=\"p\">):</span>\n",
        "\t\t\t<span class=\"k\">return</span> <span class=\"nb\">sum</span><span class=\"p\">(</span><span class=\"o\">-</span><span class=\"n\">calculation</span><span class=\"o\">.</span><span class=\"n\">full_price</span> <span class=\"o\">*</span> <span class=\"n\">probabilities</span><span class=\"p\">[</span><span class=\"n\">calculation_index</span><span class=\"p\">]</span> \n",
        "\t\t\t\t<span class=\"k\">for</span> <span class=\"n\">calculation_index</span><span class=\"p\">,</span> <span class=\"n\">calculation</span> <span class=\"ow\">in</span> <span class=\"nb\">enumerate</span><span class=\"p\">(</span><span class=\"n\">calculations</span><span class=\"p\">))</span>\n",
        "\n",
        "\t\t<span class=\"n\">options</span> <span class=\"o\">=</span> <span class=\"bp\">self</span><span class=\"o\">.</span><span class=\"n\">calculate_options</span><span class=\"p\">(</span><span class=\"n\">monthes</span><span class=\"p\">)</span>\n",
        "\t\t<span class=\"n\">expected_favors</span> <span class=\"o\">=</span> <span class=\"p\">[(</span><span class=\"n\">clothes_set</span><span class=\"p\">,</span> <span class=\"n\">expected_favor</span><span class=\"p\">(</span><span class=\"n\">calculations</span><span class=\"p\">))</span> \n",
        "\t\t\t\t\t\t\t<span class=\"k\">for</span> <span class=\"p\">(</span><span class=\"n\">clothes_set</span><span class=\"p\">,</span> <span class=\"n\">calculations</span><span class=\"p\">)</span> <span class=\"ow\">in</span> <span class=\"n\">options</span><span class=\"p\">]</span>\n",
        "\n",
        "\t\t<span class=\"k\">return</span> <span class=\"nb\">sorted</span><span class=\"p\">(</span><span class=\"n\">expected_favors</span><span class=\"p\">,</span> <span class=\"n\">key</span><span class=\"o\">=</span><span class=\"n\">operator</span><span class=\"o\">.</span><span class=\"n\">itemgetter</span><span class=\"p\">(</span><span class=\"mi\">1</span><span class=\"p\">),</span> <span class=\"n\">reverse</span><span class=\"o\">=</span><span class=\"bp\">True</span><span class=\"p\">)</span>\n",
        "</pre></div>\n"
       ],
       "metadata": {},
       "output_type": "display_data",
       "text": [
        "<IPython.core.display.HTML at 0x385a898>"
       ]
      }
     ],
     "prompt_number": 2
    },
    {
     "cell_type": "markdown",
     "metadata": {},
     "source": [
      "### \u0420\u0435\u0437\u0443\u043b\u044c\u0442\u0430\u0442"
     ]
    },
    {
     "cell_type": "code",
     "collapsed": false,
     "input": [
      "%matplotlib inline\n",
      "from pylab import *\n",
      "from l2_3 import *"
     ],
     "language": "python",
     "metadata": {},
     "outputs": [],
     "prompt_number": 3
    },
    {
     "cell_type": "code",
     "collapsed": false,
     "input": [
      "all_clothes_sets = [\n",
      "\tClothesSet(\"1\", -100, -10, ['Shapka', 'Bushalt', 'Rukavichki', 'Vatni shtani', 'Choboti'], 9.5),\n",
      "\tClothesSet(\"2\", -10, 0, ['Shapka', 'Palto', 'Rukavichki', 'Jeans', 'Choboti'], 7.5),\n",
      "\tClothesSet(\"3\", -0, 10, ['Kepcka', 'Curtcka', 'Jeans', 'Cherviki'], 5),\n",
      "\tClothesSet(\"4\", 10, 20, ['Sventr', 'Jeans', 'Krosivki'], 3),\n",
      "\tClothesSet(\"5\", 20, 30, ['Blayzer', 'Sorochka', 'Jeans', 'Krosivki'], 3),\n",
      "\tClothesSet(\"6\", 30, 100, ['Blayzer', 'Footbolka', 'Shorti', 'Vyetnamki'], 2)\n",
      "]\n",
      "\n",
      "all_clothes = [\n",
      "\tClothesItem(\"Blayzer\", 0.5, 6),\n",
      "\tClothesItem(\"Bushalt\", 4, 48),\n",
      "\tClothesItem(\"Vatni shtani\", 2, 24),\n",
      "\tClothesItem(\"Vyetnamki\", 0.5, 6),\n",
      "\tClothesItem(\"Jeans\", 1, 12),\n",
      "\tClothesItem(\"Kepcka\", 0.5, 6),\n",
      "\tClothesItem(\"Krosivki\", 1, 12),\n",
      "\tClothesItem(\"Curtcka\", 2, 24),\n",
      "\tClothesItem(\"Palto\", 3, 36),\n",
      "\tClothesItem(\"Rukavichki\", 0.5, 6),\n",
      "\tClothesItem(\"Sventr\", 1, 12),\n",
      "\tClothesItem(\"Sorochka\", 0.5, 6),\n",
      "\tClothesItem(\"Footbolka\", 0.5, 6),\n",
      "\tClothesItem(\"Cherviki\", 1.5, 18),\n",
      "\tClothesItem(\"Choboti\", 2, 24),\n",
      "\tClothesItem(\"Shapka\", 1, 12),\n",
      "\tClothesItem(\"Shorti\", 0.5, 6)\n",
      "]\n",
      "\n",
      "temps = [-13, -11, -1, +11, +18, +23, +25, +24, +18, +9, -2, -10]\n",
      "default_solver = ClothesSolver(all_clothes_sets, all_clothes, temps)"
     ],
     "language": "python",
     "metadata": {},
     "outputs": [],
     "prompt_number": 4
    },
    {
     "cell_type": "code",
     "collapsed": false,
     "input": [
      "# 5.5\n",
      "all_monthes_equal_probability = [(m, 1/12) for m in range(12)]\n",
      "\n",
      "options = default_solver.calculate_options(all_monthes_equal_probability) \n",
      "\n",
      "Table([\"Set\", \"Price\"] + [m for (m, _) in all_monthes_equal_probability], \n",
      "         [[cs.name, cs.get_price()] + calcs for (cs, calcs) in options ])"
     ],
     "language": "python",
     "metadata": {},
     "outputs": [
      {
       "html": [
        "<table class='table table-striped'><tr><th>Set</th><th>Price</th><th>0</th><th>1</th><th>2</th><th>3</th><th>4</th><th>5</th><th>6</th><th>7</th><th>8</th><th>9</th><th>10</th><th>11</th><tr><tr><td>1</td><td>95.0</td><td>(Diff: []; Added price: 0)</td><td>(Diff: []; Added price: 0)</td><td>(Diff: ['Palto', 'Jeans']; Added price: 52.0)</td><td>(Diff: ['Sventr', 'Jeans', 'Krosivki']; Added price: 42.0)</td><td>(Diff: ['Sventr', 'Jeans', 'Krosivki']; Added price: 42.0)</td><td>(Diff: ['Blayzer', 'Sorochka', 'Jeans', 'Krosivki']; Added price: 44.0)</td><td>(Diff: ['Blayzer', 'Sorochka', 'Jeans', 'Krosivki']; Added price: 44.0)</td><td>(Diff: ['Blayzer', 'Sorochka', 'Jeans', 'Krosivki']; Added price: 44.0)</td><td>(Diff: ['Sventr', 'Jeans', 'Krosivki']; Added price: 42.0)</td><td>(Diff: ['Kepcka', 'Curtcka', 'Jeans', 'Cherviki']; Added price: 68.0)</td><td>(Diff: ['Palto', 'Jeans']; Added price: 52.0)</td><td>(Diff: []; Added price: 0)</td></tr><tr><td>2</td><td>75.0</td><td>(Diff: ['Bushalt', 'Vatni shtani']; Added price: 76.0)</td><td>(Diff: ['Bushalt', 'Vatni shtani']; Added price: 76.0)</td><td>(Diff: []; Added price: 0)</td><td>(Diff: ['Sventr', 'Krosivki']; Added price: 28.0)</td><td>(Diff: ['Sventr', 'Krosivki']; Added price: 28.0)</td><td>(Diff: ['Blayzer', 'Sorochka', 'Krosivki']; Added price: 30.0)</td><td>(Diff: ['Blayzer', 'Sorochka', 'Krosivki']; Added price: 30.0)</td><td>(Diff: ['Blayzer', 'Sorochka', 'Krosivki']; Added price: 30.0)</td><td>(Diff: ['Sventr', 'Krosivki']; Added price: 28.0)</td><td>(Diff: ['Kepcka', 'Curtcka', 'Cherviki']; Added price: 54.0)</td><td>(Diff: []; Added price: 0)</td><td>(Diff: ['Bushalt', 'Vatni shtani']; Added price: 76.0)</td></tr><tr><td>3</td><td>50</td><td>(Diff: ['Shapka', 'Bushalt', 'Rukavichki', 'Vatni shtani', 'Choboti']; Added price: 124.0)</td><td>(Diff: ['Shapka', 'Bushalt', 'Rukavichki', 'Vatni shtani', 'Choboti']; Added price: 124.0)</td><td>(Diff: ['Shapka', 'Palto', 'Rukavichki', 'Choboti']; Added price: 86.0)</td><td>(Diff: ['Sventr', 'Krosivki']; Added price: 28.0)</td><td>(Diff: ['Sventr', 'Krosivki']; Added price: 28.0)</td><td>(Diff: ['Blayzer', 'Sorochka', 'Krosivki']; Added price: 30.0)</td><td>(Diff: ['Blayzer', 'Sorochka', 'Krosivki']; Added price: 30.0)</td><td>(Diff: ['Blayzer', 'Sorochka', 'Krosivki']; Added price: 30.0)</td><td>(Diff: ['Sventr', 'Krosivki']; Added price: 28.0)</td><td>(Diff: []; Added price: 0)</td><td>(Diff: ['Shapka', 'Palto', 'Rukavichki', 'Choboti']; Added price: 86.0)</td><td>(Diff: ['Shapka', 'Bushalt', 'Rukavichki', 'Vatni shtani', 'Choboti']; Added price: 124.0)</td></tr><tr><td>4</td><td>30</td><td>(Diff: ['Shapka', 'Bushalt', 'Rukavichki', 'Vatni shtani', 'Choboti']; Added price: 124.0)</td><td>(Diff: ['Shapka', 'Bushalt', 'Rukavichki', 'Vatni shtani', 'Choboti']; Added price: 124.0)</td><td>(Diff: ['Shapka', 'Palto', 'Rukavichki', 'Choboti']; Added price: 86.0)</td><td>(Diff: []; Added price: 0)</td><td>(Diff: []; Added price: 0)</td><td>(Diff: ['Blayzer', 'Sorochka']; Added price: 16.0)</td><td>(Diff: ['Blayzer', 'Sorochka']; Added price: 16.0)</td><td>(Diff: ['Blayzer', 'Sorochka']; Added price: 16.0)</td><td>(Diff: []; Added price: 0)</td><td>(Diff: ['Kepcka', 'Curtcka', 'Cherviki']; Added price: 54.0)</td><td>(Diff: ['Shapka', 'Palto', 'Rukavichki', 'Choboti']; Added price: 86.0)</td><td>(Diff: ['Shapka', 'Bushalt', 'Rukavichki', 'Vatni shtani', 'Choboti']; Added price: 124.0)</td></tr><tr><td>5</td><td>30</td><td>(Diff: ['Shapka', 'Bushalt', 'Rukavichki', 'Vatni shtani', 'Choboti']; Added price: 124.0)</td><td>(Diff: ['Shapka', 'Bushalt', 'Rukavichki', 'Vatni shtani', 'Choboti']; Added price: 124.0)</td><td>(Diff: ['Shapka', 'Palto', 'Rukavichki', 'Choboti']; Added price: 86.0)</td><td>(Diff: ['Sventr']; Added price: 14.0)</td><td>(Diff: ['Sventr']; Added price: 14.0)</td><td>(Diff: []; Added price: 0)</td><td>(Diff: []; Added price: 0)</td><td>(Diff: []; Added price: 0)</td><td>(Diff: ['Sventr']; Added price: 14.0)</td><td>(Diff: ['Kepcka', 'Curtcka', 'Cherviki']; Added price: 54.0)</td><td>(Diff: ['Shapka', 'Palto', 'Rukavichki', 'Choboti']; Added price: 86.0)</td><td>(Diff: ['Shapka', 'Bushalt', 'Rukavichki', 'Vatni shtani', 'Choboti']; Added price: 124.0)</td></tr><tr><td>6</td><td>20</td><td>(Diff: ['Shapka', 'Bushalt', 'Rukavichki', 'Vatni shtani', 'Choboti']; Added price: 124.0)</td><td>(Diff: ['Shapka', 'Bushalt', 'Rukavichki', 'Vatni shtani', 'Choboti']; Added price: 124.0)</td><td>(Diff: ['Shapka', 'Palto', 'Rukavichki', 'Jeans', 'Choboti']; Added price: 100.0)</td><td>(Diff: ['Sventr', 'Jeans', 'Krosivki']; Added price: 42.0)</td><td>(Diff: ['Sventr', 'Jeans', 'Krosivki']; Added price: 42.0)</td><td>(Diff: ['Sorochka', 'Jeans', 'Krosivki']; Added price: 36.0)</td><td>(Diff: ['Sorochka', 'Jeans', 'Krosivki']; Added price: 36.0)</td><td>(Diff: ['Sorochka', 'Jeans', 'Krosivki']; Added price: 36.0)</td><td>(Diff: ['Sventr', 'Jeans', 'Krosivki']; Added price: 42.0)</td><td>(Diff: ['Kepcka', 'Curtcka', 'Jeans', 'Cherviki']; Added price: 68.0)</td><td>(Diff: ['Shapka', 'Palto', 'Rukavichki', 'Jeans', 'Choboti']; Added price: 100.0)</td><td>(Diff: ['Shapka', 'Bushalt', 'Rukavichki', 'Vatni shtani', 'Choboti']; Added price: 124.0)</td></tr></table>"
       ],
       "metadata": {},
       "output_type": "pyout",
       "prompt_number": 5,
       "text": [
        "<utils.Table at 0x7aa4390>"
       ]
      }
     ],
     "prompt_number": 5
    },
    {
     "cell_type": "code",
     "collapsed": false,
     "input": [
      "# 5.6\n",
      "best_strategies_monthes_equal_probabiltiy = default_solver.find_best_strategy(all_monthes_equal_probability)\n",
      "\n",
      "Table([\"Set\"] + [cs.name for (cs, _) in best_strategies_monthes_equal_probabiltiy ], \n",
      "         [[\"Favor\"] + [\"%.2f\" % (ef) for (_, ef) in best_strategies_monthes_equal_probabiltiy ]])"
     ],
     "language": "python",
     "metadata": {},
     "outputs": [
      {
       "html": [
        "<table class='table table-striped'><tr><th>Set</th><th>5</th><th>4</th><th>6</th><th>3</th><th>2</th><th>1</th><tr><tr><td>Favor</td><td>-83.33</td><td>-83.83</td><td>-92.83</td><td>-109.83</td><td>-113.00</td><td>-130.83</td></tr></table>"
       ],
       "metadata": {},
       "output_type": "pyout",
       "prompt_number": 6,
       "text": [
        "<utils.Table at 0x7aaaa20>"
       ]
      }
     ],
     "prompt_number": 6
    },
    {
     "cell_type": "code",
     "collapsed": false,
     "input": [
      "#5.7\n",
      "# Winter\n",
      "winter_equal_probability = [(m, 1/3) for m in [0,1,11]]\n",
      "\n",
      "winter_equal_probability_options = default_solver.calculate_options(winter_equal_probability) \n",
      "\n",
      "Table([\"Set\", \"Price\"] + [m for (m, _) in winter_equal_probability], \n",
      "         [[cs.name, cs.get_price()] + calcs for (cs, calcs) in winter_equal_probability_options ])"
     ],
     "language": "python",
     "metadata": {},
     "outputs": [
      {
       "html": [
        "<table class='table table-striped'><tr><th>Set</th><th>Price</th><th>0</th><th>1</th><th>11</th><tr><tr><td>1</td><td>95.0</td><td>(Diff: []; Added price: 0)</td><td>(Diff: []; Added price: 0)</td><td>(Diff: []; Added price: 0)</td></tr><tr><td>2</td><td>75.0</td><td>(Diff: ['Bushalt', 'Vatni shtani']; Added price: 76.0)</td><td>(Diff: ['Bushalt', 'Vatni shtani']; Added price: 76.0)</td><td>(Diff: ['Bushalt', 'Vatni shtani']; Added price: 76.0)</td></tr><tr><td>3</td><td>50</td><td>(Diff: ['Shapka', 'Bushalt', 'Rukavichki', 'Vatni shtani', 'Choboti']; Added price: 124.0)</td><td>(Diff: ['Shapka', 'Bushalt', 'Rukavichki', 'Vatni shtani', 'Choboti']; Added price: 124.0)</td><td>(Diff: ['Shapka', 'Bushalt', 'Rukavichki', 'Vatni shtani', 'Choboti']; Added price: 124.0)</td></tr><tr><td>4</td><td>30</td><td>(Diff: ['Shapka', 'Bushalt', 'Rukavichki', 'Vatni shtani', 'Choboti']; Added price: 124.0)</td><td>(Diff: ['Shapka', 'Bushalt', 'Rukavichki', 'Vatni shtani', 'Choboti']; Added price: 124.0)</td><td>(Diff: ['Shapka', 'Bushalt', 'Rukavichki', 'Vatni shtani', 'Choboti']; Added price: 124.0)</td></tr><tr><td>5</td><td>30</td><td>(Diff: ['Shapka', 'Bushalt', 'Rukavichki', 'Vatni shtani', 'Choboti']; Added price: 124.0)</td><td>(Diff: ['Shapka', 'Bushalt', 'Rukavichki', 'Vatni shtani', 'Choboti']; Added price: 124.0)</td><td>(Diff: ['Shapka', 'Bushalt', 'Rukavichki', 'Vatni shtani', 'Choboti']; Added price: 124.0)</td></tr><tr><td>6</td><td>20</td><td>(Diff: ['Shapka', 'Bushalt', 'Rukavichki', 'Vatni shtani', 'Choboti']; Added price: 124.0)</td><td>(Diff: ['Shapka', 'Bushalt', 'Rukavichki', 'Vatni shtani', 'Choboti']; Added price: 124.0)</td><td>(Diff: ['Shapka', 'Bushalt', 'Rukavichki', 'Vatni shtani', 'Choboti']; Added price: 124.0)</td></tr></table>"
       ],
       "metadata": {},
       "output_type": "pyout",
       "prompt_number": 7,
       "text": [
        "<utils.Table at 0x7aa4048>"
       ]
      }
     ],
     "prompt_number": 7
    },
    {
     "cell_type": "code",
     "collapsed": false,
     "input": [
      "#5.7\n",
      "# Spring\n",
      "spring_equal_probability = [(m, 1/3) for m in [2,3,4]]\n",
      "\n",
      "spring_equal_probability_options = default_solver.calculate_options(spring_equal_probability) \n",
      "\n",
      "Table([\"Set\", \"Price\"] + [m for (m, _) in spring_equal_probability], \n",
      "         [[cs.name, cs.get_price()] + calcs for (cs, calcs) in spring_equal_probability_options ])"
     ],
     "language": "python",
     "metadata": {},
     "outputs": [
      {
       "html": [
        "<table class='table table-striped'><tr><th>Set</th><th>Price</th><th>2</th><th>3</th><th>4</th><tr><tr><td>1</td><td>95.0</td><td>(Diff: ['Palto', 'Jeans']; Added price: 52.0)</td><td>(Diff: ['Sventr', 'Jeans', 'Krosivki']; Added price: 42.0)</td><td>(Diff: ['Sventr', 'Jeans', 'Krosivki']; Added price: 42.0)</td></tr><tr><td>2</td><td>75.0</td><td>(Diff: []; Added price: 0)</td><td>(Diff: ['Sventr', 'Krosivki']; Added price: 28.0)</td><td>(Diff: ['Sventr', 'Krosivki']; Added price: 28.0)</td></tr><tr><td>3</td><td>50</td><td>(Diff: ['Shapka', 'Palto', 'Rukavichki', 'Choboti']; Added price: 86.0)</td><td>(Diff: ['Sventr', 'Krosivki']; Added price: 28.0)</td><td>(Diff: ['Sventr', 'Krosivki']; Added price: 28.0)</td></tr><tr><td>4</td><td>30</td><td>(Diff: ['Shapka', 'Palto', 'Rukavichki', 'Choboti']; Added price: 86.0)</td><td>(Diff: []; Added price: 0)</td><td>(Diff: []; Added price: 0)</td></tr><tr><td>5</td><td>30</td><td>(Diff: ['Shapka', 'Palto', 'Rukavichki', 'Choboti']; Added price: 86.0)</td><td>(Diff: ['Sventr']; Added price: 14.0)</td><td>(Diff: ['Sventr']; Added price: 14.0)</td></tr><tr><td>6</td><td>20</td><td>(Diff: ['Shapka', 'Palto', 'Rukavichki', 'Jeans', 'Choboti']; Added price: 100.0)</td><td>(Diff: ['Sventr', 'Jeans', 'Krosivki']; Added price: 42.0)</td><td>(Diff: ['Sventr', 'Jeans', 'Krosivki']; Added price: 42.0)</td></tr></table>"
       ],
       "metadata": {},
       "output_type": "pyout",
       "prompt_number": 8,
       "text": [
        "<utils.Table at 0x7ab7160>"
       ]
      }
     ],
     "prompt_number": 8
    },
    {
     "cell_type": "code",
     "collapsed": false,
     "input": [
      "#5.7\n",
      "# Summer\n",
      "summer_equal_probability = [(m, 1/3) for m in [5,6,7]]\n",
      "\n",
      "summer_equal_probability_options = default_solver.calculate_options(summer_equal_probability) \n",
      "\n",
      "Table([\"Set\", \"Price\"] + [m for (m, _) in summer_equal_probability], \n",
      "         [[cs.name, cs.get_price()] + calcs for (cs, calcs) in summer_equal_probability_options ])"
     ],
     "language": "python",
     "metadata": {},
     "outputs": [
      {
       "html": [
        "<table class='table table-striped'><tr><th>Set</th><th>Price</th><th>5</th><th>6</th><th>7</th><tr><tr><td>1</td><td>95.0</td><td>(Diff: ['Blayzer', 'Sorochka', 'Jeans', 'Krosivki']; Added price: 44.0)</td><td>(Diff: ['Blayzer', 'Sorochka', 'Jeans', 'Krosivki']; Added price: 44.0)</td><td>(Diff: ['Blayzer', 'Sorochka', 'Jeans', 'Krosivki']; Added price: 44.0)</td></tr><tr><td>2</td><td>75.0</td><td>(Diff: ['Blayzer', 'Sorochka', 'Krosivki']; Added price: 30.0)</td><td>(Diff: ['Blayzer', 'Sorochka', 'Krosivki']; Added price: 30.0)</td><td>(Diff: ['Blayzer', 'Sorochka', 'Krosivki']; Added price: 30.0)</td></tr><tr><td>3</td><td>50</td><td>(Diff: ['Blayzer', 'Sorochka', 'Krosivki']; Added price: 30.0)</td><td>(Diff: ['Blayzer', 'Sorochka', 'Krosivki']; Added price: 30.0)</td><td>(Diff: ['Blayzer', 'Sorochka', 'Krosivki']; Added price: 30.0)</td></tr><tr><td>4</td><td>30</td><td>(Diff: ['Blayzer', 'Sorochka']; Added price: 16.0)</td><td>(Diff: ['Blayzer', 'Sorochka']; Added price: 16.0)</td><td>(Diff: ['Blayzer', 'Sorochka']; Added price: 16.0)</td></tr><tr><td>5</td><td>30</td><td>(Diff: []; Added price: 0)</td><td>(Diff: []; Added price: 0)</td><td>(Diff: []; Added price: 0)</td></tr><tr><td>6</td><td>20</td><td>(Diff: ['Sorochka', 'Jeans', 'Krosivki']; Added price: 36.0)</td><td>(Diff: ['Sorochka', 'Jeans', 'Krosivki']; Added price: 36.0)</td><td>(Diff: ['Sorochka', 'Jeans', 'Krosivki']; Added price: 36.0)</td></tr></table>"
       ],
       "metadata": {},
       "output_type": "pyout",
       "prompt_number": 9,
       "text": [
        "<utils.Table at 0x7ab7630>"
       ]
      }
     ],
     "prompt_number": 9
    },
    {
     "cell_type": "code",
     "collapsed": false,
     "input": [
      "#5.7\n",
      "# Autumn\n",
      "autumn_equal_probability = [(m, 1/3) for m in [8,9,10]]\n",
      "\n",
      "autumn_equal_probability_options = default_solver.calculate_options(autumn_equal_probability) \n",
      "\n",
      "Table([\"Set\", \"Price\"] + [m for (m, _) in autumn_equal_probability], \n",
      "         [[cs.name, cs.get_price()] + calcs for (cs, calcs) in autumn_equal_probability_options ])"
     ],
     "language": "python",
     "metadata": {},
     "outputs": [
      {
       "html": [
        "<table class='table table-striped'><tr><th>Set</th><th>Price</th><th>8</th><th>9</th><th>10</th><tr><tr><td>1</td><td>95.0</td><td>(Diff: ['Sventr', 'Jeans', 'Krosivki']; Added price: 42.0)</td><td>(Diff: ['Kepcka', 'Curtcka', 'Jeans', 'Cherviki']; Added price: 68.0)</td><td>(Diff: ['Palto', 'Jeans']; Added price: 52.0)</td></tr><tr><td>2</td><td>75.0</td><td>(Diff: ['Sventr', 'Krosivki']; Added price: 28.0)</td><td>(Diff: ['Kepcka', 'Curtcka', 'Cherviki']; Added price: 54.0)</td><td>(Diff: []; Added price: 0)</td></tr><tr><td>3</td><td>50</td><td>(Diff: ['Sventr', 'Krosivki']; Added price: 28.0)</td><td>(Diff: []; Added price: 0)</td><td>(Diff: ['Shapka', 'Palto', 'Rukavichki', 'Choboti']; Added price: 86.0)</td></tr><tr><td>4</td><td>30</td><td>(Diff: []; Added price: 0)</td><td>(Diff: ['Kepcka', 'Curtcka', 'Cherviki']; Added price: 54.0)</td><td>(Diff: ['Shapka', 'Palto', 'Rukavichki', 'Choboti']; Added price: 86.0)</td></tr><tr><td>5</td><td>30</td><td>(Diff: ['Sventr']; Added price: 14.0)</td><td>(Diff: ['Kepcka', 'Curtcka', 'Cherviki']; Added price: 54.0)</td><td>(Diff: ['Shapka', 'Palto', 'Rukavichki', 'Choboti']; Added price: 86.0)</td></tr><tr><td>6</td><td>20</td><td>(Diff: ['Sventr', 'Jeans', 'Krosivki']; Added price: 42.0)</td><td>(Diff: ['Kepcka', 'Curtcka', 'Jeans', 'Cherviki']; Added price: 68.0)</td><td>(Diff: ['Shapka', 'Palto', 'Rukavichki', 'Jeans', 'Choboti']; Added price: 100.0)</td></tr></table>"
       ],
       "metadata": {},
       "output_type": "pyout",
       "prompt_number": 10,
       "text": [
        "<utils.Table at 0x7ab7710>"
       ]
      }
     ],
     "prompt_number": 10
    },
    {
     "cell_type": "code",
     "collapsed": false,
     "input": [
      "# 5.8\n",
      "# Winter\n",
      "best_strategies_winter_equal_probability = default_solver.find_best_strategy(winter_equal_probability)\n",
      "\n",
      "Table([\"Set\"] + [cs.name for (cs, _) in best_strategies_winter_equal_probability ], \n",
      "         [[\"Favor\"] + [\"%.2f\" % (ef) for (_, ef) in best_strategies_winter_equal_probability ]])"
     ],
     "language": "python",
     "metadata": {},
     "outputs": [
      {
       "html": [
        "<table class='table table-striped'><tr><th>Set</th><th>1</th><th>6</th><th>2</th><th>4</th><th>5</th><th>3</th><tr><tr><td>Favor</td><td>-95.00</td><td>-144.00</td><td>-151.00</td><td>-154.00</td><td>-154.00</td><td>-174.00</td></tr></table>"
       ],
       "metadata": {},
       "output_type": "pyout",
       "prompt_number": 11,
       "text": [
        "<utils.Table at 0x7ab7b00>"
       ]
      }
     ],
     "prompt_number": 11
    },
    {
     "cell_type": "code",
     "collapsed": false,
     "input": [
      "# 5.8\n",
      "# Spring\n",
      "best_strategies_spring_equal_probability = default_solver.find_best_strategy(spring_equal_probability)\n",
      "\n",
      "Table([\"Set\"] + [cs.name for (cs, _) in best_strategies_spring_equal_probability ], \n",
      "         [[\"Favor\"] + [\"%.2f\" % (ef) for (_, ef) in best_strategies_spring_equal_probability ]])"
     ],
     "language": "python",
     "metadata": {},
     "outputs": [
      {
       "html": [
        "<table class='table table-striped'><tr><th>Set</th><th>4</th><th>5</th><th>6</th><th>2</th><th>3</th><th>1</th><tr><tr><td>Favor</td><td>-58.67</td><td>-68.00</td><td>-81.33</td><td>-93.67</td><td>-97.33</td><td>-140.33</td></tr></table>"
       ],
       "metadata": {},
       "output_type": "pyout",
       "prompt_number": 12,
       "text": [
        "<utils.Table at 0x7aa6940>"
       ]
      }
     ],
     "prompt_number": 12
    },
    {
     "cell_type": "code",
     "collapsed": false,
     "input": [
      "# 5.8\n",
      "# Summer\n",
      "best_strategies_summer_equal_probability = default_solver.find_best_strategy(summer_equal_probability)\n",
      "\n",
      "Table([\"Set\"] + [cs.name for (cs, _) in best_strategies_summer_equal_probability ], \n",
      "         [[\"Favor\"] + [\"%.2f\" % (ef) for (_, ef) in best_strategies_summer_equal_probability ]])"
     ],
     "language": "python",
     "metadata": {},
     "outputs": [
      {
       "html": [
        "<table class='table table-striped'><tr><th>Set</th><th>5</th><th>4</th><th>6</th><th>3</th><th>2</th><th>1</th><tr><tr><td>Favor</td><td>-30.00</td><td>-46.00</td><td>-56.00</td><td>-80.00</td><td>-105.00</td><td>-139.00</td></tr></table>"
       ],
       "metadata": {},
       "output_type": "pyout",
       "prompt_number": 13,
       "text": [
        "<utils.Table at 0x7ab6128>"
       ]
      }
     ],
     "prompt_number": 13
    },
    {
     "cell_type": "code",
     "collapsed": false,
     "input": [
      "# 5.8\n",
      "# Autumn\n",
      "best_strategies_autumn_equal_probability = default_solver.find_best_strategy(autumn_equal_probability)\n",
      "\n",
      "Table([\"Set\"] + [cs.name for (cs, _) in best_strategies_autumn_equal_probability ], \n",
      "         [[\"Favor\"] + [\"%.2f\" % (ef) for (_, ef) in best_strategies_autumn_equal_probability ]])"
     ],
     "language": "python",
     "metadata": {},
     "outputs": [
      {
       "html": [
        "<table class='table table-striped'><tr><th>Set</th><th>4</th><th>5</th><th>3</th><th>6</th><th>2</th><th>1</th><tr><tr><td>Favor</td><td>-76.67</td><td>-81.33</td><td>-88.00</td><td>-90.00</td><td>-102.33</td><td>-149.00</td></tr></table>"
       ],
       "metadata": {},
       "output_type": "pyout",
       "prompt_number": 14,
       "text": [
        "<utils.Table at 0x7ab6400>"
       ]
      }
     ],
     "prompt_number": 14
    },
    {
     "cell_type": "code",
     "collapsed": false,
     "input": [
      "#5.9 (4.4)\n",
      "four_times_winter_probabilty_pow = [4, 1, 1, 1, 1, 1, 1, 1, 1, 1, 4]\n",
      "four_times_winter_probabilty = [(i, (x/s)) for (i, x) in enumerate(four_times_winter_probabilty_pow)\n",
      "\t\t\t\t\tfor s in [sum(four_times_winter_probabilty_pow)]]\n",
      "\n",
      "best_strategies_four_times_winter_probabilty = default_solver.find_best_strategy(four_times_winter_probabilty)\n",
      "\n",
      "Table([\"Set\"] + [cs.name for (cs, _) in best_strategies_four_times_winter_probabilty ], \n",
      "         [[\"Favor\"] + [\"%.2f\" % (ef) for (_, ef) in best_strategies_four_times_winter_probabilty ]])\n"
     ],
     "language": "python",
     "metadata": {},
     "outputs": [
      {
       "html": [
        "<table class='table table-striped'><tr><th>Set</th><th>5</th><th>4</th><th>6</th><th>2</th><th>3</th><th>1</th><tr><tr><td>Favor</td><td>-97.41</td><td>-97.76</td><td>-103.65</td><td>-110.76</td><td>-122.00</td><td>-129.47</td></tr></table>"
       ],
       "metadata": {},
       "output_type": "pyout",
       "prompt_number": 15,
       "text": [
        "<utils.Table at 0x7ab6dd8>"
       ]
      }
     ],
     "prompt_number": 15
    },
    {
     "cell_type": "code",
     "collapsed": false,
     "input": [
      "#5.9 (4.5)\n",
      "import calendar\n",
      "mounthly_probabilty_pow = calendar.mdays[1:]\n",
      "print(\"Month days: %r\" % mounthly_probabilty_pow)\n",
      "mounthly_probabilty = [(i, (x/s)) for (i, x) in enumerate(mounthly_probabilty_pow)\n",
      "\t\t\t\t\tfor s in [sum(mounthly_probabilty_pow)]]\n",
      "\n",
      "best_strategies_mounthly_probabilty = default_solver.find_best_strategy(mounthly_probabilty)\n",
      "\n",
      "Table([\"Set\"] + [cs.name for (cs, _) in best_strategies_mounthly_probabilty ], \n",
      "         [[\"Favor\"] + [\"%.2f\" % (ef) for (_, ef) in best_strategies_mounthly_probabilty ]])\n"
     ],
     "language": "python",
     "metadata": {},
     "outputs": [
      {
       "output_type": "stream",
       "stream": "stdout",
       "text": [
        "Month days: [31, 28, 31, 30, 31, 30, 31, 31, 30, 31, 30, 31]\n"
       ]
      },
      {
       "html": [
        "<table class='table table-striped'><tr><th>Set</th><th>5</th><th>4</th><th>6</th><th>3</th><th>2</th><th>1</th><tr><tr><td>Favor</td><td>-83.02</td><td>-83.57</td><td>-92.61</td><td>-109.49</td><td>-112.87</td><td>-131.03</td></tr></table>"
       ],
       "metadata": {},
       "output_type": "pyout",
       "prompt_number": 16,
       "text": [
        "<utils.Table at 0x7ab6fd0>"
       ]
      }
     ],
     "prompt_number": 16
    },
    {
     "cell_type": "code",
     "collapsed": false,
     "input": [
      "all_clothes_price_reduced = [\n",
      "\tClothesItem(\"Blayzer\", 0.5, 6),\n",
      "\tClothesItem(\"Bushalt\", 4, 48/3),\n",
      "\tClothesItem(\"Vatni shtani\", 2, 24),\n",
      "\tClothesItem(\"Vyetnamki\", 0.5, 6/3),\n",
      "\tClothesItem(\"Jeans\", 1, 12),\n",
      "\tClothesItem(\"Kepcka\", 0.5, 6),\n",
      "\tClothesItem(\"Krosivki\", 1, 12),\n",
      "\tClothesItem(\"Curtcka\", 2, 24),\n",
      "\tClothesItem(\"Palto\", 3, 36/3),\n",
      "\tClothesItem(\"Rukavichki\", 0.5, 6),\n",
      "\tClothesItem(\"Sventr\", 1, 12),\n",
      "\tClothesItem(\"Sorochka\", 0.5, 6),\n",
      "\tClothesItem(\"Footbolka\", 0.5, 6),\n",
      "\tClothesItem(\"Cherviki\", 1.5, 18),\n",
      "\tClothesItem(\"Choboti\", 2, 24/3),\n",
      "\tClothesItem(\"Shapka\", 1, 12/3),\n",
      "\tClothesItem(\"Shorti\", 0.5, 6)\n",
      "]\n",
      "price_reduced_solver = ClothesSolver(all_clothes_sets, all_clothes_price_reduced, temps)"
     ],
     "language": "python",
     "metadata": {},
     "outputs": [],
     "prompt_number": 17
    },
    {
     "cell_type": "code",
     "collapsed": false,
     "input": [
      "#5.10\n",
      "price_reduced_options = price_reduced_solver.calculate_options(all_monthes_equal_probability) \n",
      "\n",
      "Table([\"Set\", \"Price\"] + [m for (m, _) in all_monthes_equal_probability], \n",
      "         [[cs.name, cs.get_price()] + calcs for (cs, calcs) in price_reduced_options ])"
     ],
     "language": "python",
     "metadata": {},
     "outputs": [
      {
       "html": [
        "<table class='table table-striped'><tr><th>Set</th><th>Price</th><th>0</th><th>1</th><th>2</th><th>3</th><th>4</th><th>5</th><th>6</th><th>7</th><th>8</th><th>9</th><th>10</th><th>11</th><tr><tr><td>1</td><td>95.0</td><td>(Diff: []; Added price: 0)</td><td>(Diff: []; Added price: 0)</td><td>(Diff: ['Palto', 'Jeans']; Added price: 28.0)</td><td>(Diff: ['Sventr', 'Jeans', 'Krosivki']; Added price: 42.0)</td><td>(Diff: ['Sventr', 'Jeans', 'Krosivki']; Added price: 42.0)</td><td>(Diff: ['Blayzer', 'Sorochka', 'Jeans', 'Krosivki']; Added price: 44.0)</td><td>(Diff: ['Blayzer', 'Sorochka', 'Jeans', 'Krosivki']; Added price: 44.0)</td><td>(Diff: ['Blayzer', 'Sorochka', 'Jeans', 'Krosivki']; Added price: 44.0)</td><td>(Diff: ['Sventr', 'Jeans', 'Krosivki']; Added price: 42.0)</td><td>(Diff: ['Kepcka', 'Curtcka', 'Jeans', 'Cherviki']; Added price: 68.0)</td><td>(Diff: ['Palto', 'Jeans']; Added price: 28.0)</td><td>(Diff: []; Added price: 0)</td></tr><tr><td>2</td><td>75.0</td><td>(Diff: ['Bushalt', 'Vatni shtani']; Added price: 44.0)</td><td>(Diff: ['Bushalt', 'Vatni shtani']; Added price: 44.0)</td><td>(Diff: []; Added price: 0)</td><td>(Diff: ['Sventr', 'Krosivki']; Added price: 28.0)</td><td>(Diff: ['Sventr', 'Krosivki']; Added price: 28.0)</td><td>(Diff: ['Blayzer', 'Sorochka', 'Krosivki']; Added price: 30.0)</td><td>(Diff: ['Blayzer', 'Sorochka', 'Krosivki']; Added price: 30.0)</td><td>(Diff: ['Blayzer', 'Sorochka', 'Krosivki']; Added price: 30.0)</td><td>(Diff: ['Sventr', 'Krosivki']; Added price: 28.0)</td><td>(Diff: ['Kepcka', 'Curtcka', 'Cherviki']; Added price: 54.0)</td><td>(Diff: []; Added price: 0)</td><td>(Diff: ['Bushalt', 'Vatni shtani']; Added price: 44.0)</td></tr><tr><td>3</td><td>50</td><td>(Diff: ['Shapka', 'Bushalt', 'Rukavichki', 'Vatni shtani', 'Choboti']; Added price: 68.0)</td><td>(Diff: ['Shapka', 'Bushalt', 'Rukavichki', 'Vatni shtani', 'Choboti']; Added price: 68.0)</td><td>(Diff: ['Shapka', 'Palto', 'Rukavichki', 'Choboti']; Added price: 38.0)</td><td>(Diff: ['Sventr', 'Krosivki']; Added price: 28.0)</td><td>(Diff: ['Sventr', 'Krosivki']; Added price: 28.0)</td><td>(Diff: ['Blayzer', 'Sorochka', 'Krosivki']; Added price: 30.0)</td><td>(Diff: ['Blayzer', 'Sorochka', 'Krosivki']; Added price: 30.0)</td><td>(Diff: ['Blayzer', 'Sorochka', 'Krosivki']; Added price: 30.0)</td><td>(Diff: ['Sventr', 'Krosivki']; Added price: 28.0)</td><td>(Diff: []; Added price: 0)</td><td>(Diff: ['Shapka', 'Palto', 'Rukavichki', 'Choboti']; Added price: 38.0)</td><td>(Diff: ['Shapka', 'Bushalt', 'Rukavichki', 'Vatni shtani', 'Choboti']; Added price: 68.0)</td></tr><tr><td>4</td><td>30</td><td>(Diff: ['Shapka', 'Bushalt', 'Rukavichki', 'Vatni shtani', 'Choboti']; Added price: 68.0)</td><td>(Diff: ['Shapka', 'Bushalt', 'Rukavichki', 'Vatni shtani', 'Choboti']; Added price: 68.0)</td><td>(Diff: ['Shapka', 'Palto', 'Rukavichki', 'Choboti']; Added price: 38.0)</td><td>(Diff: []; Added price: 0)</td><td>(Diff: []; Added price: 0)</td><td>(Diff: ['Blayzer', 'Sorochka']; Added price: 16.0)</td><td>(Diff: ['Blayzer', 'Sorochka']; Added price: 16.0)</td><td>(Diff: ['Blayzer', 'Sorochka']; Added price: 16.0)</td><td>(Diff: []; Added price: 0)</td><td>(Diff: ['Kepcka', 'Curtcka', 'Cherviki']; Added price: 54.0)</td><td>(Diff: ['Shapka', 'Palto', 'Rukavichki', 'Choboti']; Added price: 38.0)</td><td>(Diff: ['Shapka', 'Bushalt', 'Rukavichki', 'Vatni shtani', 'Choboti']; Added price: 68.0)</td></tr><tr><td>5</td><td>30</td><td>(Diff: ['Shapka', 'Bushalt', 'Rukavichki', 'Vatni shtani', 'Choboti']; Added price: 68.0)</td><td>(Diff: ['Shapka', 'Bushalt', 'Rukavichki', 'Vatni shtani', 'Choboti']; Added price: 68.0)</td><td>(Diff: ['Shapka', 'Palto', 'Rukavichki', 'Choboti']; Added price: 38.0)</td><td>(Diff: ['Sventr']; Added price: 14.0)</td><td>(Diff: ['Sventr']; Added price: 14.0)</td><td>(Diff: []; Added price: 0)</td><td>(Diff: []; Added price: 0)</td><td>(Diff: []; Added price: 0)</td><td>(Diff: ['Sventr']; Added price: 14.0)</td><td>(Diff: ['Kepcka', 'Curtcka', 'Cherviki']; Added price: 54.0)</td><td>(Diff: ['Shapka', 'Palto', 'Rukavichki', 'Choboti']; Added price: 38.0)</td><td>(Diff: ['Shapka', 'Bushalt', 'Rukavichki', 'Vatni shtani', 'Choboti']; Added price: 68.0)</td></tr><tr><td>6</td><td>20</td><td>(Diff: ['Shapka', 'Bushalt', 'Rukavichki', 'Vatni shtani', 'Choboti']; Added price: 68.0)</td><td>(Diff: ['Shapka', 'Bushalt', 'Rukavichki', 'Vatni shtani', 'Choboti']; Added price: 68.0)</td><td>(Diff: ['Shapka', 'Palto', 'Rukavichki', 'Jeans', 'Choboti']; Added price: 52.0)</td><td>(Diff: ['Sventr', 'Jeans', 'Krosivki']; Added price: 42.0)</td><td>(Diff: ['Sventr', 'Jeans', 'Krosivki']; Added price: 42.0)</td><td>(Diff: ['Sorochka', 'Jeans', 'Krosivki']; Added price: 36.0)</td><td>(Diff: ['Sorochka', 'Jeans', 'Krosivki']; Added price: 36.0)</td><td>(Diff: ['Sorochka', 'Jeans', 'Krosivki']; Added price: 36.0)</td><td>(Diff: ['Sventr', 'Jeans', 'Krosivki']; Added price: 42.0)</td><td>(Diff: ['Kepcka', 'Curtcka', 'Jeans', 'Cherviki']; Added price: 68.0)</td><td>(Diff: ['Shapka', 'Palto', 'Rukavichki', 'Jeans', 'Choboti']; Added price: 52.0)</td><td>(Diff: ['Shapka', 'Bushalt', 'Rukavichki', 'Vatni shtani', 'Choboti']; Added price: 68.0)</td></tr></table>"
       ],
       "metadata": {},
       "output_type": "pyout",
       "prompt_number": 18,
       "text": [
        "<utils.Table at 0x7ab6b00>"
       ]
      }
     ],
     "prompt_number": 18
    },
    {
     "cell_type": "code",
     "collapsed": false,
     "input": [
      "#5.11\n",
      "best_strategies_price_reduced_monthes_equal_probabiltiy = price_reduced_solver.find_best_strategy(all_monthes_equal_probability)\n",
      "\n",
      "Table([\"Set\"] + [cs.name for (cs, _) in best_strategies_price_reduced_monthes_equal_probabiltiy ], \n",
      "         [[\"Favor\"] + [\"%.2f\" % (ef) for (_, ef) in best_strategies_price_reduced_monthes_equal_probabiltiy ]])"
     ],
     "language": "python",
     "metadata": {},
     "outputs": [
      {
       "html": [
        "<table class='table table-striped'><tr><th>Set</th><th>5</th><th>4</th><th>6</th><th>3</th><th>2</th><th>1</th><tr><tr><td>Favor</td><td>-61.33</td><td>-61.83</td><td>-70.83</td><td>-87.83</td><td>-105.00</td><td>-126.83</td></tr></table>"
       ],
       "metadata": {},
       "output_type": "pyout",
       "prompt_number": 19,
       "text": [
        "<utils.Table at 0x7abaeb8>"
       ]
      }
     ],
     "prompt_number": 19
    },
    {
     "cell_type": "code",
     "collapsed": false,
     "input": [
      "#5.12\n",
      "Table([\"#\", \"\u041d\u0430\u0437\u0432\u0430 \u0437\u0430\u0432\u0434\u0430\u043d\u043d\u044f\", \"\u041d\u0430\u0439\u043a\u0440\u0430\u0449\u0430 \u0441\u0442\u0440\u0430\u0442\u0435\u0433\u0456\u044f(-\u0457), xi\", \"\u0417\u043d\u0430\u0447\u0435\u043d\u043d\u044f E[U(xi)]\"], \n",
      "         [[\"1\", \"\u0417\u0430 12-\u0442\u044c \u043c\u0456\u0441\u044f\u0446\u0456\u0432\"] + list(best_strategies_monthes_equal_probabiltiy[0]),\n",
      "          [\"2\", \"\u0417\u0438\u043c\u0430\"] + list(best_strategies_winter_equal_probability[0]),\n",
      "          [\"3\", \"\u0412\u0435\u0441\u043d\u0430\"] + list(best_strategies_spring_equal_probability[0]),\n",
      "          [\"4\", \"\u041b\u0456\u0442\u043e\"] + list(best_strategies_summer_equal_probability[0]),\n",
      "          [\"5\", \"\u041e\u0441\u0456\u043d\u044c\"] + list(best_strategies_autumn_equal_probability[0]),\n",
      "          [\"6\", \"\u0417\u0438\u043c\u0430 x3\"] + list(best_strategies_four_times_winter_probabilty[0]),\n",
      "          [\"7\", \"\u0417\u0430 12-\u0442\u044c \u043c\u0456\u0441 (\u0434\u043d\u0456\u0432)\"] + list(best_strategies_mounthly_probabilty[0]),\n",
      "          [\"8\", \"\u0417\u0430 12-\u0442\u044c \u043c\u0456\u0441 (\u0437\u043c\u0435\u043d\u0448)\"] + list(best_strategies_price_reduced_monthes_equal_probabiltiy[0]),])"
     ],
     "language": "python",
     "metadata": {},
     "outputs": [
      {
       "html": [
        "<table class='table table-striped'><tr><th>#</th><th>\u041d\u0430\u0437\u0432\u0430 \u0437\u0430\u0432\u0434\u0430\u043d\u043d\u044f</th><th>\u041d\u0430\u0439\u043a\u0440\u0430\u0449\u0430 \u0441\u0442\u0440\u0430\u0442\u0435\u0433\u0456\u044f(-\u0457), xi</th><th>\u0417\u043d\u0430\u0447\u0435\u043d\u043d\u044f E[U(xi)]</th><tr><tr><td>1</td><td>\u0417\u0430 12-\u0442\u044c \u043c\u0456\u0441\u044f\u0446\u0456\u0432</td><td>5: 20..30: Blayzer, Sorochka, Jeans, Krosivki</td><td>-83.33333333333331</td></tr><tr><td>2</td><td>\u0417\u0438\u043c\u0430</td><td>1: -100..-10: Shapka, Bushalt, Rukavichki, Vatni shtani, Choboti</td><td>-95.0</td></tr><tr><td>3</td><td>\u0412\u0435\u0441\u043d\u0430</td><td>4: 10..20: Sventr, Jeans, Krosivki</td><td>-58.666666666666664</td></tr><tr><td>4</td><td>\u041b\u0456\u0442\u043e</td><td>5: 20..30: Blayzer, Sorochka, Jeans, Krosivki</td><td>-30.0</td></tr><tr><td>5</td><td>\u041e\u0441\u0456\u043d\u044c</td><td>4: 10..20: Sventr, Jeans, Krosivki</td><td>-76.66666666666666</td></tr><tr><td>6</td><td>\u0417\u0438\u043c\u0430 x3</td><td>5: 20..30: Blayzer, Sorochka, Jeans, Krosivki</td><td>-97.4117647059</td></tr><tr><td>7</td><td>\u0417\u0430 12-\u0442\u044c \u043c\u0456\u0441 (\u0434\u043d\u0456\u0432)</td><td>5: 20..30: Blayzer, Sorochka, Jeans, Krosivki</td><td>-83.0246575342</td></tr><tr><td>8</td><td>\u0417\u0430 12-\u0442\u044c \u043c\u0456\u0441 (\u0437\u043c\u0435\u043d\u0448)</td><td>5: 20..30: Blayzer, Sorochka, Jeans, Krosivki</td><td>-61.33333333333333</td></tr></table>"
       ],
       "metadata": {},
       "output_type": "pyout",
       "prompt_number": 20,
       "text": [
        "<utils.Table at 0x7b5dcf8>"
       ]
      }
     ],
     "prompt_number": 20
    },
    {
     "cell_type": "markdown",
     "metadata": {},
     "source": [
      "### \u0412\u0438\u0441\u043d\u043e\u0432\u043a\u0438\n",
      "\u041e\u0437\u043d\u0430\u0439\u043e\u043c\u0438\u0432\u0441\u044f \u0437 \u043c\u0435\u0442\u043e\u0434\u0430\u043c\u0438 \u043f\u0440\u0438\u0439\u043d\u044f\u0442\u0442\u044f \u0440\u0456\u0448\u0435\u043d\u044c \u0432 \u0443\u043c\u043e\u0432\u0430\u0445, \u043a\u043e\u043b\u0438 \u0432\u0438\u0431\u0456\u0440 \u0434\u0435\u044f\u043a\u043e\u0457 \u0441\u0442\u0440\u0430\u0442\u0435\u0433\u0456\u0457 \u043f\u043e\u0432\u2019\u044f\u0437\u0430\u043d\u0438\u0439 \u0437 \u043f\u0435\u0432\u043d\u0438\u043c \u043d\u0430\u0431\u043e\u0440\u043e\u043c \u0441\u0442\u0430\u043d\u0456\u0432 \u0441\u0435\u0440\u0435\u0434\u043e\u0432\u0438\u0449\u0430 \u0437 \u0432\u0438\u0437\u043d\u0430\u0447\u0435\u043d\u043e\u044e \u0439\u043c\u043e\u0432\u0456\u0440\u043d\u0456\u0441\u0442\u044e."
     ]
    }
   ],
   "metadata": {}
  }
 ]
}