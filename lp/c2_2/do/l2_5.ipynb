{
 "metadata": {
  "name": "",
  "signature": "sha256:10c06d4e7c085a563ccb4c8bb952e8ebc926f6dcad277c191cee8d9a43bf5333"
 },
 "nbformat": 3,
 "nbformat_minor": 0,
 "worksheets": [
  {
   "cells": [
    {
     "cell_type": "markdown",
     "metadata": {},
     "source": [
      "### \u0420\u043e\u0437\u0432'\u044f\u0437\u043e\u043a"
     ]
    },
    {
     "cell_type": "code",
     "collapsed": false,
     "input": [
      "from utils import *\n",
      "from l2_5 import *"
     ],
     "language": "python",
     "metadata": {},
     "outputs": [],
     "prompt_number": 1
    },
    {
     "cell_type": "code",
     "collapsed": false,
     "input": [
      "display_code(\"l2_5.py\")"
     ],
     "language": "python",
     "metadata": {},
     "outputs": [
      {
       "html": [
        "<style type='text/css'>.highlight .hll { background-color: #ffffcc }\n",
        ".highlight  { background: #f8f8f8; }\n",
        ".highlight .c { color: #408080; font-style: italic } /* Comment */\n",
        ".highlight .err { border: 1px solid #FF0000 } /* Error */\n",
        ".highlight .k { color: #008000; font-weight: bold } /* Keyword */\n",
        ".highlight .o { color: #666666 } /* Operator */\n",
        ".highlight .cm { color: #408080; font-style: italic } /* Comment.Multiline */\n",
        ".highlight .cp { color: #BC7A00 } /* Comment.Preproc */\n",
        ".highlight .c1 { color: #408080; font-style: italic } /* Comment.Single */\n",
        ".highlight .cs { color: #408080; font-style: italic } /* Comment.Special */\n",
        ".highlight .gd { color: #A00000 } /* Generic.Deleted */\n",
        ".highlight .ge { font-style: italic } /* Generic.Emph */\n",
        ".highlight .gr { color: #FF0000 } /* Generic.Error */\n",
        ".highlight .gh { color: #000080; font-weight: bold } /* Generic.Heading */\n",
        ".highlight .gi { color: #00A000 } /* Generic.Inserted */\n",
        ".highlight .go { color: #888888 } /* Generic.Output */\n",
        ".highlight .gp { color: #000080; font-weight: bold } /* Generic.Prompt */\n",
        ".highlight .gs { font-weight: bold } /* Generic.Strong */\n",
        ".highlight .gu { color: #800080; font-weight: bold } /* Generic.Subheading */\n",
        ".highlight .gt { color: #0044DD } /* Generic.Traceback */\n",
        ".highlight .kc { color: #008000; font-weight: bold } /* Keyword.Constant */\n",
        ".highlight .kd { color: #008000; font-weight: bold } /* Keyword.Declaration */\n",
        ".highlight .kn { color: #008000; font-weight: bold } /* Keyword.Namespace */\n",
        ".highlight .kp { color: #008000 } /* Keyword.Pseudo */\n",
        ".highlight .kr { color: #008000; font-weight: bold } /* Keyword.Reserved */\n",
        ".highlight .kt { color: #B00040 } /* Keyword.Type */\n",
        ".highlight .m { color: #666666 } /* Literal.Number */\n",
        ".highlight .s { color: #BA2121 } /* Literal.String */\n",
        ".highlight .na { color: #7D9029 } /* Name.Attribute */\n",
        ".highlight .nb { color: #008000 } /* Name.Builtin */\n",
        ".highlight .nc { color: #0000FF; font-weight: bold } /* Name.Class */\n",
        ".highlight .no { color: #880000 } /* Name.Constant */\n",
        ".highlight .nd { color: #AA22FF } /* Name.Decorator */\n",
        ".highlight .ni { color: #999999; font-weight: bold } /* Name.Entity */\n",
        ".highlight .ne { color: #D2413A; font-weight: bold } /* Name.Exception */\n",
        ".highlight .nf { color: #0000FF } /* Name.Function */\n",
        ".highlight .nl { color: #A0A000 } /* Name.Label */\n",
        ".highlight .nn { color: #0000FF; font-weight: bold } /* Name.Namespace */\n",
        ".highlight .nt { color: #008000; font-weight: bold } /* Name.Tag */\n",
        ".highlight .nv { color: #19177C } /* Name.Variable */\n",
        ".highlight .ow { color: #AA22FF; font-weight: bold } /* Operator.Word */\n",
        ".highlight .w { color: #bbbbbb } /* Text.Whitespace */\n",
        ".highlight .mf { color: #666666 } /* Literal.Number.Float */\n",
        ".highlight .mh { color: #666666 } /* Literal.Number.Hex */\n",
        ".highlight .mi { color: #666666 } /* Literal.Number.Integer */\n",
        ".highlight .mo { color: #666666 } /* Literal.Number.Oct */\n",
        ".highlight .sb { color: #BA2121 } /* Literal.String.Backtick */\n",
        ".highlight .sc { color: #BA2121 } /* Literal.String.Char */\n",
        ".highlight .sd { color: #BA2121; font-style: italic } /* Literal.String.Doc */\n",
        ".highlight .s2 { color: #BA2121 } /* Literal.String.Double */\n",
        ".highlight .se { color: #BB6622; font-weight: bold } /* Literal.String.Escape */\n",
        ".highlight .sh { color: #BA2121 } /* Literal.String.Heredoc */\n",
        ".highlight .si { color: #BB6688; font-weight: bold } /* Literal.String.Interpol */\n",
        ".highlight .sx { color: #008000 } /* Literal.String.Other */\n",
        ".highlight .sr { color: #BB6688 } /* Literal.String.Regex */\n",
        ".highlight .s1 { color: #BA2121 } /* Literal.String.Single */\n",
        ".highlight .ss { color: #19177C } /* Literal.String.Symbol */\n",
        ".highlight .bp { color: #008000 } /* Name.Builtin.Pseudo */\n",
        ".highlight .vc { color: #19177C } /* Name.Variable.Class */\n",
        ".highlight .vg { color: #19177C } /* Name.Variable.Global */\n",
        ".highlight .vi { color: #19177C } /* Name.Variable.Instance */\n",
        ".highlight .il { color: #666666 } /* Literal.Number.Integer.Long */</style><h3>File: l2_5.py</h3><div class=\"well highlight\"><pre><span class=\"c\"># coding=utf-8</span>\n",
        "<span class=\"kn\">from</span> <span class=\"nn\">numpy</span> <span class=\"kn\">import</span> <span class=\"o\">*</span>\n",
        "<span class=\"kn\">from</span> <span class=\"nn\">operator</span> <span class=\"kn\">import</span> <span class=\"n\">itemgetter</span><span class=\"p\">,</span> <span class=\"n\">attrgetter</span>\n",
        "\n",
        "<span class=\"k\">def</span> <span class=\"nf\">vald</span><span class=\"p\">(</span><span class=\"n\">G</span><span class=\"p\">):</span>\n",
        "    <span class=\"n\">w</span> <span class=\"o\">=</span> <span class=\"p\">[</span><span class=\"nb\">min</span><span class=\"p\">(</span><span class=\"n\">a</span><span class=\"p\">)</span> <span class=\"k\">for</span> <span class=\"n\">a</span> <span class=\"ow\">in</span> <span class=\"n\">G</span><span class=\"p\">]</span>\n",
        "    <span class=\"n\">m</span> <span class=\"o\">=</span> <span class=\"nb\">max</span><span class=\"p\">(</span><span class=\"n\">w</span><span class=\"p\">)</span>\n",
        "    <span class=\"k\">return</span> <span class=\"p\">[(</span><span class=\"s\">&quot;A</span><span class=\"si\">%d</span><span class=\"s\">&quot;</span> <span class=\"o\">%</span> <span class=\"n\">ai</span><span class=\"p\">,</span> <span class=\"n\">a</span><span class=\"p\">)</span> <span class=\"k\">for</span> <span class=\"n\">ai</span><span class=\"p\">,</span> <span class=\"n\">a</span> <span class=\"ow\">in</span> <span class=\"nb\">enumerate</span><span class=\"p\">(</span><span class=\"n\">w</span><span class=\"p\">)</span> <span class=\"k\">if</span> <span class=\"n\">a</span> <span class=\"o\">==</span> <span class=\"n\">m</span> <span class=\"p\">]</span>\n",
        "\n",
        "<span class=\"k\">def</span> <span class=\"nf\">sevidge</span><span class=\"p\">(</span><span class=\"n\">G</span><span class=\"p\">):</span>\n",
        "    <span class=\"n\">r</span> <span class=\"o\">=</span> <span class=\"p\">[</span><span class=\"nb\">max</span><span class=\"p\">(</span><span class=\"n\">a</span><span class=\"p\">)</span> <span class=\"k\">for</span> <span class=\"n\">a</span> <span class=\"ow\">in</span> <span class=\"n\">G</span><span class=\"p\">]</span>\n",
        "    <span class=\"n\">m</span> <span class=\"o\">=</span> <span class=\"nb\">min</span><span class=\"p\">(</span><span class=\"n\">r</span><span class=\"p\">)</span>\n",
        "    <span class=\"k\">return</span> <span class=\"p\">[(</span><span class=\"s\">&quot;A</span><span class=\"si\">%d</span><span class=\"s\">&quot;</span> <span class=\"o\">%</span> <span class=\"n\">ai</span><span class=\"p\">,</span> <span class=\"n\">a</span><span class=\"p\">)</span> <span class=\"k\">for</span> <span class=\"n\">ai</span><span class=\"p\">,</span> <span class=\"n\">a</span> <span class=\"ow\">in</span> <span class=\"nb\">enumerate</span><span class=\"p\">(</span><span class=\"n\">r</span><span class=\"p\">)</span> <span class=\"k\">if</span> <span class=\"n\">a</span> <span class=\"o\">==</span> <span class=\"n\">m</span> <span class=\"p\">]</span>\n",
        "\n",
        "<span class=\"k\">def</span> <span class=\"nf\">hurwitz</span><span class=\"p\">(</span><span class=\"n\">G</span><span class=\"p\">,</span> <span class=\"n\">x</span><span class=\"p\">):</span>\n",
        "    <span class=\"n\">h</span> <span class=\"o\">=</span> <span class=\"k\">lambda</span> <span class=\"n\">a</span><span class=\"p\">:</span> <span class=\"nb\">int</span><span class=\"p\">(</span><span class=\"n\">x</span> <span class=\"o\">*</span> <span class=\"nb\">min</span><span class=\"p\">(</span><span class=\"n\">a</span><span class=\"p\">)</span> <span class=\"o\">+</span> <span class=\"p\">(</span><span class=\"mi\">1</span><span class=\"o\">-</span><span class=\"n\">x</span><span class=\"p\">)</span> <span class=\"o\">*</span> <span class=\"nb\">max</span><span class=\"p\">(</span><span class=\"n\">a</span><span class=\"p\">))</span>\n",
        "    <span class=\"n\">r</span> <span class=\"o\">=</span> <span class=\"p\">[[</span><span class=\"nb\">min</span><span class=\"p\">(</span><span class=\"n\">a</span><span class=\"p\">),</span> <span class=\"nb\">max</span><span class=\"p\">(</span><span class=\"n\">a</span><span class=\"p\">),</span> <span class=\"n\">h</span><span class=\"p\">(</span><span class=\"n\">a</span><span class=\"p\">)]</span>  <span class=\"k\">for</span> <span class=\"n\">a</span> <span class=\"ow\">in</span> <span class=\"n\">G</span><span class=\"p\">]</span>\n",
        "    <span class=\"n\">m</span> <span class=\"o\">=</span> <span class=\"nb\">max</span><span class=\"p\">(</span><span class=\"n\">a</span><span class=\"p\">[</span><span class=\"mi\">2</span><span class=\"p\">]</span> <span class=\"k\">for</span> <span class=\"n\">a</span> <span class=\"ow\">in</span> <span class=\"n\">r</span><span class=\"p\">)</span> \n",
        "    <span class=\"k\">return</span> <span class=\"p\">[(</span><span class=\"s\">&quot;A</span><span class=\"si\">%d</span><span class=\"s\">&quot;</span> <span class=\"o\">%</span> <span class=\"n\">ai</span><span class=\"p\">,</span> <span class=\"n\">a</span><span class=\"p\">)</span> <span class=\"k\">for</span> <span class=\"n\">ai</span><span class=\"p\">,</span> <span class=\"n\">a</span> <span class=\"ow\">in</span> <span class=\"nb\">enumerate</span><span class=\"p\">(</span><span class=\"n\">r</span><span class=\"p\">)</span> <span class=\"k\">if</span> <span class=\"n\">a</span><span class=\"p\">[</span><span class=\"mi\">2</span><span class=\"p\">]</span> <span class=\"o\">==</span> <span class=\"n\">m</span> <span class=\"p\">]</span>\n",
        "</pre></div>\n"
       ],
       "metadata": {},
       "output_type": "display_data",
       "text": [
        "<IPython.core.display.HTML at 0x618bf28>"
       ]
      }
     ],
     "prompt_number": 2
    },
    {
     "cell_type": "code",
     "collapsed": false,
     "input": [
      "display_code(\"l2_5_tests.py\")"
     ],
     "language": "python",
     "metadata": {},
     "outputs": [
      {
       "html": [
        "<style type='text/css'>.highlight .hll { background-color: #ffffcc }\n",
        ".highlight  { background: #f8f8f8; }\n",
        ".highlight .c { color: #408080; font-style: italic } /* Comment */\n",
        ".highlight .err { border: 1px solid #FF0000 } /* Error */\n",
        ".highlight .k { color: #008000; font-weight: bold } /* Keyword */\n",
        ".highlight .o { color: #666666 } /* Operator */\n",
        ".highlight .cm { color: #408080; font-style: italic } /* Comment.Multiline */\n",
        ".highlight .cp { color: #BC7A00 } /* Comment.Preproc */\n",
        ".highlight .c1 { color: #408080; font-style: italic } /* Comment.Single */\n",
        ".highlight .cs { color: #408080; font-style: italic } /* Comment.Special */\n",
        ".highlight .gd { color: #A00000 } /* Generic.Deleted */\n",
        ".highlight .ge { font-style: italic } /* Generic.Emph */\n",
        ".highlight .gr { color: #FF0000 } /* Generic.Error */\n",
        ".highlight .gh { color: #000080; font-weight: bold } /* Generic.Heading */\n",
        ".highlight .gi { color: #00A000 } /* Generic.Inserted */\n",
        ".highlight .go { color: #888888 } /* Generic.Output */\n",
        ".highlight .gp { color: #000080; font-weight: bold } /* Generic.Prompt */\n",
        ".highlight .gs { font-weight: bold } /* Generic.Strong */\n",
        ".highlight .gu { color: #800080; font-weight: bold } /* Generic.Subheading */\n",
        ".highlight .gt { color: #0044DD } /* Generic.Traceback */\n",
        ".highlight .kc { color: #008000; font-weight: bold } /* Keyword.Constant */\n",
        ".highlight .kd { color: #008000; font-weight: bold } /* Keyword.Declaration */\n",
        ".highlight .kn { color: #008000; font-weight: bold } /* Keyword.Namespace */\n",
        ".highlight .kp { color: #008000 } /* Keyword.Pseudo */\n",
        ".highlight .kr { color: #008000; font-weight: bold } /* Keyword.Reserved */\n",
        ".highlight .kt { color: #B00040 } /* Keyword.Type */\n",
        ".highlight .m { color: #666666 } /* Literal.Number */\n",
        ".highlight .s { color: #BA2121 } /* Literal.String */\n",
        ".highlight .na { color: #7D9029 } /* Name.Attribute */\n",
        ".highlight .nb { color: #008000 } /* Name.Builtin */\n",
        ".highlight .nc { color: #0000FF; font-weight: bold } /* Name.Class */\n",
        ".highlight .no { color: #880000 } /* Name.Constant */\n",
        ".highlight .nd { color: #AA22FF } /* Name.Decorator */\n",
        ".highlight .ni { color: #999999; font-weight: bold } /* Name.Entity */\n",
        ".highlight .ne { color: #D2413A; font-weight: bold } /* Name.Exception */\n",
        ".highlight .nf { color: #0000FF } /* Name.Function */\n",
        ".highlight .nl { color: #A0A000 } /* Name.Label */\n",
        ".highlight .nn { color: #0000FF; font-weight: bold } /* Name.Namespace */\n",
        ".highlight .nt { color: #008000; font-weight: bold } /* Name.Tag */\n",
        ".highlight .nv { color: #19177C } /* Name.Variable */\n",
        ".highlight .ow { color: #AA22FF; font-weight: bold } /* Operator.Word */\n",
        ".highlight .w { color: #bbbbbb } /* Text.Whitespace */\n",
        ".highlight .mf { color: #666666 } /* Literal.Number.Float */\n",
        ".highlight .mh { color: #666666 } /* Literal.Number.Hex */\n",
        ".highlight .mi { color: #666666 } /* Literal.Number.Integer */\n",
        ".highlight .mo { color: #666666 } /* Literal.Number.Oct */\n",
        ".highlight .sb { color: #BA2121 } /* Literal.String.Backtick */\n",
        ".highlight .sc { color: #BA2121 } /* Literal.String.Char */\n",
        ".highlight .sd { color: #BA2121; font-style: italic } /* Literal.String.Doc */\n",
        ".highlight .s2 { color: #BA2121 } /* Literal.String.Double */\n",
        ".highlight .se { color: #BB6622; font-weight: bold } /* Literal.String.Escape */\n",
        ".highlight .sh { color: #BA2121 } /* Literal.String.Heredoc */\n",
        ".highlight .si { color: #BB6688; font-weight: bold } /* Literal.String.Interpol */\n",
        ".highlight .sx { color: #008000 } /* Literal.String.Other */\n",
        ".highlight .sr { color: #BB6688 } /* Literal.String.Regex */\n",
        ".highlight .s1 { color: #BA2121 } /* Literal.String.Single */\n",
        ".highlight .ss { color: #19177C } /* Literal.String.Symbol */\n",
        ".highlight .bp { color: #008000 } /* Name.Builtin.Pseudo */\n",
        ".highlight .vc { color: #19177C } /* Name.Variable.Class */\n",
        ".highlight .vg { color: #19177C } /* Name.Variable.Global */\n",
        ".highlight .vi { color: #19177C } /* Name.Variable.Instance */\n",
        ".highlight .il { color: #666666 } /* Literal.Number.Integer.Long */</style><h3>File: l2_5_tests.py</h3><div class=\"well highlight\"><pre><span class=\"c\"># coding=utf-8</span>\n",
        "<span class=\"kn\">import</span> <span class=\"nn\">random</span>\n",
        "<span class=\"kn\">import</span> <span class=\"nn\">unittest</span>\n",
        "\n",
        "<span class=\"kn\">import</span> <span class=\"nn\">numpy</span>\n",
        "<span class=\"kn\">import</span> <span class=\"nn\">numpy.testing</span> <span class=\"kn\">as</span> <span class=\"nn\">nt</span>\n",
        "\n",
        "<span class=\"kn\">from</span> <span class=\"nn\">l2_5</span> <span class=\"kn\">import</span> <span class=\"o\">*</span>\n",
        "\n",
        "<span class=\"k\">class</span> <span class=\"nc\">TestL2_5</span><span class=\"p\">(</span><span class=\"n\">unittest</span><span class=\"o\">.</span><span class=\"n\">TestCase</span><span class=\"p\">):</span>      \n",
        "\n",
        "    <span class=\"k\">def</span> <span class=\"nf\">test_vald</span><span class=\"p\">(</span><span class=\"bp\">self</span><span class=\"p\">):</span>\n",
        "        \n",
        "        <span class=\"n\">G1</span> <span class=\"o\">=</span> <span class=\"p\">[[</span><span class=\"mi\">20</span><span class=\"p\">,</span><span class=\"mi\">30</span><span class=\"p\">,</span><span class=\"mi\">15</span><span class=\"p\">,</span><span class=\"mi\">15</span><span class=\"p\">],</span>\n",
        "              <span class=\"p\">[</span><span class=\"mi\">75</span><span class=\"p\">,</span><span class=\"mi\">20</span><span class=\"p\">,</span><span class=\"mi\">35</span><span class=\"p\">,</span><span class=\"mi\">20</span><span class=\"p\">],</span>\n",
        "              <span class=\"p\">[</span><span class=\"mi\">25</span><span class=\"p\">,</span><span class=\"mi\">80</span><span class=\"p\">,</span><span class=\"mi\">25</span><span class=\"p\">,</span><span class=\"mi\">25</span><span class=\"p\">],</span>\n",
        "              <span class=\"p\">[</span><span class=\"mi\">85</span><span class=\"p\">,</span><span class=\"mi\">5</span><span class=\"p\">,</span><span class=\"mi\">45</span><span class=\"p\">,</span><span class=\"mi\">5</span><span class=\"p\">]]</span>\n",
        "\n",
        "        <span class=\"n\">O</span> <span class=\"o\">=</span> <span class=\"n\">vald</span><span class=\"p\">(</span><span class=\"n\">G1</span><span class=\"p\">)</span>\n",
        "        \n",
        "        <span class=\"bp\">self</span><span class=\"o\">.</span><span class=\"n\">assertEqual</span><span class=\"p\">(</span><span class=\"n\">O</span><span class=\"p\">,</span> <span class=\"p\">[(</span><span class=\"s\">&#39;A2&#39;</span><span class=\"p\">,</span> <span class=\"mi\">25</span><span class=\"p\">)])</span>\n",
        "\n",
        "    <span class=\"k\">def</span> <span class=\"nf\">test_sevidge</span><span class=\"p\">(</span><span class=\"bp\">self</span><span class=\"p\">):</span>\n",
        "        \n",
        "        <span class=\"n\">G2</span> <span class=\"o\">=</span> <span class=\"p\">[[</span><span class=\"mi\">65</span><span class=\"p\">,</span><span class=\"mi\">50</span><span class=\"p\">,</span><span class=\"mi\">30</span><span class=\"p\">],</span>\n",
        "              <span class=\"p\">[</span><span class=\"mi\">10</span><span class=\"p\">,</span><span class=\"mi\">60</span><span class=\"p\">,</span><span class=\"mi\">10</span><span class=\"p\">],</span>\n",
        "              <span class=\"p\">[</span><span class=\"mi\">60</span><span class=\"p\">,</span><span class=\"mi\">0</span><span class=\"p\">,</span><span class=\"mi\">20</span><span class=\"p\">],</span>\n",
        "              <span class=\"p\">[</span><span class=\"mi\">0</span><span class=\"p\">,</span><span class=\"mi\">75</span><span class=\"p\">,</span><span class=\"mi\">0</span><span class=\"p\">]]</span>\n",
        "\n",
        "        <span class=\"n\">O</span> <span class=\"o\">=</span> <span class=\"n\">sevidge</span><span class=\"p\">(</span><span class=\"n\">G2</span><span class=\"p\">)</span>\n",
        "        \n",
        "        <span class=\"bp\">self</span><span class=\"o\">.</span><span class=\"n\">assertEqual</span><span class=\"p\">(</span><span class=\"n\">O</span><span class=\"p\">,</span> <span class=\"p\">[(</span><span class=\"s\">&#39;A1&#39;</span><span class=\"p\">,</span> <span class=\"mi\">60</span><span class=\"p\">),</span> <span class=\"p\">(</span><span class=\"s\">&#39;A2&#39;</span><span class=\"p\">,</span> <span class=\"mi\">60</span><span class=\"p\">)])</span>\n",
        "\n",
        "    <span class=\"k\">def</span> <span class=\"nf\">test_hurwitz</span><span class=\"p\">(</span><span class=\"bp\">self</span><span class=\"p\">):</span>\n",
        "        \n",
        "        <span class=\"n\">G3</span> <span class=\"o\">=</span> <span class=\"p\">[[</span><span class=\"mi\">19</span><span class=\"p\">,</span><span class=\"mi\">30</span><span class=\"p\">,</span><span class=\"mi\">41</span><span class=\"p\">,</span><span class=\"mi\">49</span><span class=\"p\">],</span>\n",
        "              <span class=\"p\">[</span><span class=\"mi\">51</span><span class=\"p\">,</span><span class=\"mi\">38</span><span class=\"p\">,</span><span class=\"mi\">10</span><span class=\"p\">,</span><span class=\"mi\">20</span><span class=\"p\">],</span>\n",
        "              <span class=\"p\">[</span><span class=\"mi\">73</span><span class=\"p\">,</span><span class=\"mi\">18</span><span class=\"p\">,</span><span class=\"mi\">81</span><span class=\"p\">,</span><span class=\"mi\">11</span><span class=\"p\">]]</span>\n",
        "\n",
        "        <span class=\"n\">O</span> <span class=\"o\">=</span> <span class=\"n\">hurwitz</span><span class=\"p\">(</span><span class=\"n\">G3</span><span class=\"p\">,</span> <span class=\"mf\">0.6</span><span class=\"p\">)</span>\n",
        "        \n",
        "        <span class=\"bp\">self</span><span class=\"o\">.</span><span class=\"n\">assertEqual</span><span class=\"p\">(</span><span class=\"n\">O</span><span class=\"p\">,</span> <span class=\"p\">[(</span><span class=\"s\">&#39;A2&#39;</span><span class=\"p\">,</span> <span class=\"p\">[</span><span class=\"mi\">11</span><span class=\"p\">,</span> <span class=\"mi\">81</span><span class=\"p\">,</span> <span class=\"mi\">39</span><span class=\"p\">])])</span>\n",
        "    \n",
        "\n",
        "<span class=\"k\">if</span> <span class=\"n\">__name__</span> <span class=\"o\">==</span> <span class=\"s\">&#39;__main__&#39;</span><span class=\"p\">:</span>\n",
        "    <span class=\"n\">unittest</span><span class=\"o\">.</span><span class=\"n\">main</span><span class=\"p\">()</span>\n",
        "</pre></div>\n"
       ],
       "metadata": {},
       "output_type": "display_data",
       "text": [
        "<IPython.core.display.HTML at 0x6161eb8>"
       ]
      }
     ],
     "prompt_number": 3
    },
    {
     "cell_type": "markdown",
     "metadata": {},
     "source": [
      "### \u0420\u0435\u0437\u0443\u043b\u044c\u0442\u0430\u0442"
     ]
    },
    {
     "cell_type": "code",
     "collapsed": false,
     "input": [
      "G = [[68, 93, 69, 30, 17, 65], \n",
      "     [81, 85, 74, 45, 60, 62],\n",
      "     [1, 59, 14, 22, 1, 63],\n",
      "     [18, 25, 71, 59, 35, 36],\n",
      "     [27, 79, 15, 76, 67, 90],\n",
      "     [4, 4, 8, 6, 5, 92]]"
     ],
     "language": "python",
     "metadata": {},
     "outputs": [],
     "prompt_number": 4
    },
    {
     "cell_type": "markdown",
     "metadata": {},
     "source": [
      "#### \u0412\u0438\u0440\u0456\u0448\u0435\u043d\u043d\u044f \u0437\u0430\u0434\u0430\u0447\u0456 \u043a\u0440\u0438\u0442\u0435\u0440\u0456\u0454\u043c \u0412\u0430\u043b\u044c\u0434\u0430"
     ]
    },
    {
     "cell_type": "code",
     "collapsed": false,
     "input": [
      "vald(G)"
     ],
     "language": "python",
     "metadata": {},
     "outputs": [
      {
       "metadata": {},
       "output_type": "pyout",
       "prompt_number": 5,
       "text": [
        "[('A1', 45)]"
       ]
      }
     ],
     "prompt_number": 5
    },
    {
     "cell_type": "markdown",
     "metadata": {},
     "source": [
      "#### \u0412\u0438\u0440\u0456\u0448\u0435\u043d\u043d\u044f \u0437\u0430\u0434\u0430\u0447\u0456 \u043a\u0440\u0438\u0442\u0435\u0440\u0456\u0454\u043c \u0421\u0435\u0432\u0456\u0434\u0436\u0430"
     ]
    },
    {
     "cell_type": "code",
     "collapsed": false,
     "input": [
      "sevidge(G)"
     ],
     "language": "python",
     "metadata": {},
     "outputs": [
      {
       "metadata": {},
       "output_type": "pyout",
       "prompt_number": 6,
       "text": [
        "[('A2', 63)]"
       ]
      }
     ],
     "prompt_number": 6
    },
    {
     "cell_type": "markdown",
     "metadata": {},
     "source": [
      "#### \u0412\u0438\u0440\u0456\u0448\u0435\u043d\u043d\u044f \u0437\u0430\u0434\u0430\u0447\u0456 \u043a\u0440\u0438\u0442\u0435\u0440\u0456\u0454\u043c \u0413\u0443\u0440\u0432\u0456\u0446\u0430 (x=0.3)"
     ]
    },
    {
     "cell_type": "code",
     "collapsed": false,
     "input": [
      "hurwitz(G, 0.3)"
     ],
     "language": "python",
     "metadata": {},
     "outputs": [
      {
       "metadata": {},
       "output_type": "pyout",
       "prompt_number": 7,
       "text": [
        "[('A1', [45, 85, 73])]"
       ]
      }
     ],
     "prompt_number": 7
    },
    {
     "cell_type": "markdown",
     "metadata": {},
     "source": [
      "### \u0412\u0438\u0441\u043d\u043e\u0432\u043a\u0438\n",
      "\u041e\u0437\u043d\u0430\u0439\u043e\u043c\u0438\u0432\u0441\u044f \u0437 \u0442\u0435\u043e\u0440\u0456\u0454\u044e \u0441\u0442\u0430\u0442\u0438\u0441\u0442\u0438\u0447\u043d\u0438\u0445 \u0440\u0456\u0448\u0435\u043d\u044c, \u043d\u0430\u0432\u0447\u0438\u0442\u0438\u0432\u0441\u044f \u0440\u043e\u0437\u0432\u2019\u044f\u0437\u0443\u0432\u0430\u0442\u0438 \u0437\u0430\u0434\u0430\u0447\u0456 \u043f\u0440\u0438\u0439\u043d\u044f\u0442\u0442\u044f \u0440\u0456\u0448\u0435\u043d\u044c \u0437\u0430 \u043a\u0440\u0438\u0442\u0435\u0440\u0456\u044f\u043c\u0438 \u0412\u0430\u043b\u044c\u0434\u0430, \u0421\u0435\u0432\u0456\u0434\u0436\u0430, \u0442\u0430 \u0413\u0443\u0440\u0432\u0456\u0446\u0430"
     ]
    }
   ],
   "metadata": {}
  }
 ]
}