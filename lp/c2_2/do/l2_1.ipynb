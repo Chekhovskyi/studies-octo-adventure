{
 "metadata": {
  "name": "",
  "signature": "sha256:e90c46dc0346193669ec2b1b17a4d0ae450c96f9101809af10d93314011f7709"
 },
 "nbformat": 3,
 "nbformat_minor": 0,
 "worksheets": [
  {
   "cells": [
    {
     "cell_type": "markdown",
     "metadata": {},
     "source": [
      "### \u0420\u043e\u0437\u0432'\u044f\u0437\u043e\u043a"
     ]
    },
    {
     "cell_type": "code",
     "collapsed": false,
     "input": [
      "from utils import *"
     ],
     "language": "python",
     "metadata": {},
     "outputs": [],
     "prompt_number": 1
    },
    {
     "cell_type": "code",
     "collapsed": false,
     "input": [
      "display_code(\"l2_1.py\")"
     ],
     "language": "python",
     "metadata": {},
     "outputs": [
      {
       "html": [
        "<style type='text/css'>.highlight .hll { background-color: #ffffcc }\n",
        ".highlight  { background: #f8f8f8; }\n",
        ".highlight .c { color: #408080; font-style: italic } /* Comment */\n",
        ".highlight .err { border: 1px solid #FF0000 } /* Error */\n",
        ".highlight .k { color: #008000; font-weight: bold } /* Keyword */\n",
        ".highlight .o { color: #666666 } /* Operator */\n",
        ".highlight .cm { color: #408080; font-style: italic } /* Comment.Multiline */\n",
        ".highlight .cp { color: #BC7A00 } /* Comment.Preproc */\n",
        ".highlight .c1 { color: #408080; font-style: italic } /* Comment.Single */\n",
        ".highlight .cs { color: #408080; font-style: italic } /* Comment.Special */\n",
        ".highlight .gd { color: #A00000 } /* Generic.Deleted */\n",
        ".highlight .ge { font-style: italic } /* Generic.Emph */\n",
        ".highlight .gr { color: #FF0000 } /* Generic.Error */\n",
        ".highlight .gh { color: #000080; font-weight: bold } /* Generic.Heading */\n",
        ".highlight .gi { color: #00A000 } /* Generic.Inserted */\n",
        ".highlight .go { color: #888888 } /* Generic.Output */\n",
        ".highlight .gp { color: #000080; font-weight: bold } /* Generic.Prompt */\n",
        ".highlight .gs { font-weight: bold } /* Generic.Strong */\n",
        ".highlight .gu { color: #800080; font-weight: bold } /* Generic.Subheading */\n",
        ".highlight .gt { color: #0044DD } /* Generic.Traceback */\n",
        ".highlight .kc { color: #008000; font-weight: bold } /* Keyword.Constant */\n",
        ".highlight .kd { color: #008000; font-weight: bold } /* Keyword.Declaration */\n",
        ".highlight .kn { color: #008000; font-weight: bold } /* Keyword.Namespace */\n",
        ".highlight .kp { color: #008000 } /* Keyword.Pseudo */\n",
        ".highlight .kr { color: #008000; font-weight: bold } /* Keyword.Reserved */\n",
        ".highlight .kt { color: #B00040 } /* Keyword.Type */\n",
        ".highlight .m { color: #666666 } /* Literal.Number */\n",
        ".highlight .s { color: #BA2121 } /* Literal.String */\n",
        ".highlight .na { color: #7D9029 } /* Name.Attribute */\n",
        ".highlight .nb { color: #008000 } /* Name.Builtin */\n",
        ".highlight .nc { color: #0000FF; font-weight: bold } /* Name.Class */\n",
        ".highlight .no { color: #880000 } /* Name.Constant */\n",
        ".highlight .nd { color: #AA22FF } /* Name.Decorator */\n",
        ".highlight .ni { color: #999999; font-weight: bold } /* Name.Entity */\n",
        ".highlight .ne { color: #D2413A; font-weight: bold } /* Name.Exception */\n",
        ".highlight .nf { color: #0000FF } /* Name.Function */\n",
        ".highlight .nl { color: #A0A000 } /* Name.Label */\n",
        ".highlight .nn { color: #0000FF; font-weight: bold } /* Name.Namespace */\n",
        ".highlight .nt { color: #008000; font-weight: bold } /* Name.Tag */\n",
        ".highlight .nv { color: #19177C } /* Name.Variable */\n",
        ".highlight .ow { color: #AA22FF; font-weight: bold } /* Operator.Word */\n",
        ".highlight .w { color: #bbbbbb } /* Text.Whitespace */\n",
        ".highlight .mf { color: #666666 } /* Literal.Number.Float */\n",
        ".highlight .mh { color: #666666 } /* Literal.Number.Hex */\n",
        ".highlight .mi { color: #666666 } /* Literal.Number.Integer */\n",
        ".highlight .mo { color: #666666 } /* Literal.Number.Oct */\n",
        ".highlight .sb { color: #BA2121 } /* Literal.String.Backtick */\n",
        ".highlight .sc { color: #BA2121 } /* Literal.String.Char */\n",
        ".highlight .sd { color: #BA2121; font-style: italic } /* Literal.String.Doc */\n",
        ".highlight .s2 { color: #BA2121 } /* Literal.String.Double */\n",
        ".highlight .se { color: #BB6622; font-weight: bold } /* Literal.String.Escape */\n",
        ".highlight .sh { color: #BA2121 } /* Literal.String.Heredoc */\n",
        ".highlight .si { color: #BB6688; font-weight: bold } /* Literal.String.Interpol */\n",
        ".highlight .sx { color: #008000 } /* Literal.String.Other */\n",
        ".highlight .sr { color: #BB6688 } /* Literal.String.Regex */\n",
        ".highlight .s1 { color: #BA2121 } /* Literal.String.Single */\n",
        ".highlight .ss { color: #19177C } /* Literal.String.Symbol */\n",
        ".highlight .bp { color: #008000 } /* Name.Builtin.Pseudo */\n",
        ".highlight .vc { color: #19177C } /* Name.Variable.Class */\n",
        ".highlight .vg { color: #19177C } /* Name.Variable.Global */\n",
        ".highlight .vi { color: #19177C } /* Name.Variable.Instance */\n",
        ".highlight .il { color: #666666 } /* Literal.Number.Integer.Long */</style><h3>File: l2_1.py</h3><div class=\"well highlight\"><pre><span class=\"k\">def</span> <span class=\"nf\">pareto</span><span class=\"p\">(</span><span class=\"n\">alternatives</span><span class=\"p\">):</span>\n",
        "    <span class=\"k\">def</span> <span class=\"nf\">more_or_equal</span><span class=\"p\">(</span><span class=\"n\">x</span><span class=\"p\">,</span><span class=\"n\">y</span><span class=\"p\">):</span>\n",
        "        <span class=\"k\">return</span> <span class=\"p\">(</span><span class=\"n\">x</span><span class=\"p\">[</span><span class=\"mi\">0</span><span class=\"p\">]</span> <span class=\"o\">&gt;=</span> <span class=\"n\">y</span><span class=\"p\">[</span><span class=\"mi\">0</span><span class=\"p\">]</span> <span class=\"ow\">and</span> <span class=\"n\">x</span><span class=\"p\">[</span><span class=\"mi\">1</span><span class=\"p\">]</span> <span class=\"o\">&gt;=</span> <span class=\"n\">y</span><span class=\"p\">[</span><span class=\"mi\">1</span><span class=\"p\">])</span>\n",
        "\n",
        "    <span class=\"nb\">next</span> <span class=\"o\">=</span> <span class=\"n\">alternatives</span>\t\n",
        "    <span class=\"k\">for</span> <span class=\"n\">f</span> <span class=\"ow\">in</span> <span class=\"n\">alternatives</span><span class=\"p\">:</span>\t\n",
        "        <span class=\"nb\">next</span> <span class=\"o\">=</span> <span class=\"p\">[</span><span class=\"n\">x</span> <span class=\"k\">for</span> <span class=\"n\">x</span> <span class=\"ow\">in</span> <span class=\"nb\">next</span> <span class=\"k\">if</span> <span class=\"p\">(</span><span class=\"ow\">not</span> <span class=\"p\">(</span><span class=\"n\">more_or_equal</span><span class=\"p\">(</span><span class=\"n\">f</span><span class=\"p\">,</span> <span class=\"n\">x</span><span class=\"p\">))</span> <span class=\"ow\">or</span> <span class=\"n\">x</span> <span class=\"o\">==</span> <span class=\"n\">f</span><span class=\"p\">)]</span>\n",
        "\n",
        "    <span class=\"k\">return</span> <span class=\"nb\">next</span>\n",
        "\n",
        "<span class=\"k\">def</span> <span class=\"nf\">slater</span><span class=\"p\">(</span><span class=\"n\">alternatives</span><span class=\"p\">):</span>\n",
        "    <span class=\"k\">def</span> <span class=\"nf\">more</span><span class=\"p\">(</span><span class=\"n\">x</span><span class=\"p\">,</span><span class=\"n\">y</span><span class=\"p\">):</span>\n",
        "        <span class=\"k\">return</span> <span class=\"p\">(</span><span class=\"n\">x</span><span class=\"p\">[</span><span class=\"mi\">0</span><span class=\"p\">]</span> <span class=\"o\">&gt;</span> <span class=\"n\">y</span><span class=\"p\">[</span><span class=\"mi\">0</span><span class=\"p\">]</span> <span class=\"ow\">and</span> <span class=\"n\">x</span><span class=\"p\">[</span><span class=\"mi\">1</span><span class=\"p\">]</span> <span class=\"o\">&gt;</span> <span class=\"n\">y</span><span class=\"p\">[</span><span class=\"mi\">1</span><span class=\"p\">])</span>\n",
        "\n",
        "    <span class=\"nb\">next</span> <span class=\"o\">=</span> <span class=\"n\">alternatives</span>\t\n",
        "    <span class=\"k\">for</span> <span class=\"n\">f</span> <span class=\"ow\">in</span> <span class=\"n\">alternatives</span><span class=\"p\">:</span>\t\n",
        "        <span class=\"nb\">next</span> <span class=\"o\">=</span> <span class=\"p\">[</span><span class=\"n\">x</span> <span class=\"k\">for</span> <span class=\"n\">x</span> <span class=\"ow\">in</span> <span class=\"nb\">next</span> <span class=\"k\">if</span> <span class=\"p\">(</span><span class=\"ow\">not</span> <span class=\"p\">(</span><span class=\"n\">more</span><span class=\"p\">(</span><span class=\"n\">f</span><span class=\"p\">,</span> <span class=\"n\">x</span><span class=\"p\">))</span> <span class=\"ow\">or</span> <span class=\"n\">x</span> <span class=\"o\">==</span> <span class=\"n\">f</span><span class=\"p\">)]</span>\t\t\n",
        "\n",
        "    <span class=\"k\">return</span> <span class=\"nb\">next</span>\n",
        "</pre></div>\n"
       ],
       "metadata": {},
       "output_type": "display_data",
       "text": [
        "<IPython.core.display.HTML at 0x37b4898>"
       ]
      }
     ],
     "prompt_number": 2
    },
    {
     "cell_type": "code",
     "collapsed": false,
     "input": [
      "display_code(\"l2_1_tests.py\")"
     ],
     "language": "python",
     "metadata": {},
     "outputs": [
      {
       "html": [
        "<style type='text/css'>.highlight .hll { background-color: #ffffcc }\n",
        ".highlight  { background: #f8f8f8; }\n",
        ".highlight .c { color: #408080; font-style: italic } /* Comment */\n",
        ".highlight .err { border: 1px solid #FF0000 } /* Error */\n",
        ".highlight .k { color: #008000; font-weight: bold } /* Keyword */\n",
        ".highlight .o { color: #666666 } /* Operator */\n",
        ".highlight .cm { color: #408080; font-style: italic } /* Comment.Multiline */\n",
        ".highlight .cp { color: #BC7A00 } /* Comment.Preproc */\n",
        ".highlight .c1 { color: #408080; font-style: italic } /* Comment.Single */\n",
        ".highlight .cs { color: #408080; font-style: italic } /* Comment.Special */\n",
        ".highlight .gd { color: #A00000 } /* Generic.Deleted */\n",
        ".highlight .ge { font-style: italic } /* Generic.Emph */\n",
        ".highlight .gr { color: #FF0000 } /* Generic.Error */\n",
        ".highlight .gh { color: #000080; font-weight: bold } /* Generic.Heading */\n",
        ".highlight .gi { color: #00A000 } /* Generic.Inserted */\n",
        ".highlight .go { color: #888888 } /* Generic.Output */\n",
        ".highlight .gp { color: #000080; font-weight: bold } /* Generic.Prompt */\n",
        ".highlight .gs { font-weight: bold } /* Generic.Strong */\n",
        ".highlight .gu { color: #800080; font-weight: bold } /* Generic.Subheading */\n",
        ".highlight .gt { color: #0044DD } /* Generic.Traceback */\n",
        ".highlight .kc { color: #008000; font-weight: bold } /* Keyword.Constant */\n",
        ".highlight .kd { color: #008000; font-weight: bold } /* Keyword.Declaration */\n",
        ".highlight .kn { color: #008000; font-weight: bold } /* Keyword.Namespace */\n",
        ".highlight .kp { color: #008000 } /* Keyword.Pseudo */\n",
        ".highlight .kr { color: #008000; font-weight: bold } /* Keyword.Reserved */\n",
        ".highlight .kt { color: #B00040 } /* Keyword.Type */\n",
        ".highlight .m { color: #666666 } /* Literal.Number */\n",
        ".highlight .s { color: #BA2121 } /* Literal.String */\n",
        ".highlight .na { color: #7D9029 } /* Name.Attribute */\n",
        ".highlight .nb { color: #008000 } /* Name.Builtin */\n",
        ".highlight .nc { color: #0000FF; font-weight: bold } /* Name.Class */\n",
        ".highlight .no { color: #880000 } /* Name.Constant */\n",
        ".highlight .nd { color: #AA22FF } /* Name.Decorator */\n",
        ".highlight .ni { color: #999999; font-weight: bold } /* Name.Entity */\n",
        ".highlight .ne { color: #D2413A; font-weight: bold } /* Name.Exception */\n",
        ".highlight .nf { color: #0000FF } /* Name.Function */\n",
        ".highlight .nl { color: #A0A000 } /* Name.Label */\n",
        ".highlight .nn { color: #0000FF; font-weight: bold } /* Name.Namespace */\n",
        ".highlight .nt { color: #008000; font-weight: bold } /* Name.Tag */\n",
        ".highlight .nv { color: #19177C } /* Name.Variable */\n",
        ".highlight .ow { color: #AA22FF; font-weight: bold } /* Operator.Word */\n",
        ".highlight .w { color: #bbbbbb } /* Text.Whitespace */\n",
        ".highlight .mf { color: #666666 } /* Literal.Number.Float */\n",
        ".highlight .mh { color: #666666 } /* Literal.Number.Hex */\n",
        ".highlight .mi { color: #666666 } /* Literal.Number.Integer */\n",
        ".highlight .mo { color: #666666 } /* Literal.Number.Oct */\n",
        ".highlight .sb { color: #BA2121 } /* Literal.String.Backtick */\n",
        ".highlight .sc { color: #BA2121 } /* Literal.String.Char */\n",
        ".highlight .sd { color: #BA2121; font-style: italic } /* Literal.String.Doc */\n",
        ".highlight .s2 { color: #BA2121 } /* Literal.String.Double */\n",
        ".highlight .se { color: #BB6622; font-weight: bold } /* Literal.String.Escape */\n",
        ".highlight .sh { color: #BA2121 } /* Literal.String.Heredoc */\n",
        ".highlight .si { color: #BB6688; font-weight: bold } /* Literal.String.Interpol */\n",
        ".highlight .sx { color: #008000 } /* Literal.String.Other */\n",
        ".highlight .sr { color: #BB6688 } /* Literal.String.Regex */\n",
        ".highlight .s1 { color: #BA2121 } /* Literal.String.Single */\n",
        ".highlight .ss { color: #19177C } /* Literal.String.Symbol */\n",
        ".highlight .bp { color: #008000 } /* Name.Builtin.Pseudo */\n",
        ".highlight .vc { color: #19177C } /* Name.Variable.Class */\n",
        ".highlight .vg { color: #19177C } /* Name.Variable.Global */\n",
        ".highlight .vi { color: #19177C } /* Name.Variable.Instance */\n",
        ".highlight .il { color: #666666 } /* Literal.Number.Integer.Long */</style><h3>File: l2_1_tests.py</h3><div class=\"well highlight\"><pre><span class=\"c\"># coding=utf-8</span>\n",
        "<span class=\"kn\">import</span> <span class=\"nn\">random</span>\n",
        "<span class=\"kn\">import</span> <span class=\"nn\">unittest</span>\n",
        "\n",
        "<span class=\"kn\">import</span> <span class=\"nn\">numpy</span>\n",
        "<span class=\"kn\">import</span> <span class=\"nn\">numpy.testing</span> <span class=\"kn\">as</span> <span class=\"nn\">nt</span>\n",
        "\n",
        "<span class=\"kn\">from</span> <span class=\"nn\">l2_1</span> <span class=\"kn\">import</span> <span class=\"o\">*</span>\n",
        "\n",
        "<span class=\"k\">class</span> <span class=\"nc\">TestL2_5</span><span class=\"p\">(</span><span class=\"n\">unittest</span><span class=\"o\">.</span><span class=\"n\">TestCase</span><span class=\"p\">):</span>      \n",
        "\n",
        "    <span class=\"k\">def</span> <span class=\"nf\">test_pareto</span><span class=\"p\">(</span><span class=\"bp\">self</span><span class=\"p\">):</span>\n",
        "        \n",
        "        <span class=\"n\">source</span> <span class=\"o\">=</span> <span class=\"p\">[</span><span class=\"mi\">79</span><span class=\"p\">,</span> <span class=\"mi\">95</span><span class=\"p\">,</span> <span class=\"mi\">4</span><span class=\"p\">,</span> <span class=\"mi\">37</span><span class=\"p\">,</span> <span class=\"mi\">92</span><span class=\"p\">,</span> <span class=\"mi\">95</span><span class=\"p\">,</span> <span class=\"mi\">12</span><span class=\"p\">,</span> <span class=\"mi\">52</span><span class=\"p\">,</span> <span class=\"mi\">70</span><span class=\"p\">,</span> <span class=\"mi\">14</span><span class=\"p\">]</span>\n",
        "        <span class=\"n\">alternatives</span> <span class=\"o\">=</span> <span class=\"p\">[[</span><span class=\"nb\">int</span><span class=\"p\">(</span><span class=\"n\">x</span><span class=\"o\">/</span><span class=\"mi\">10</span><span class=\"p\">),</span><span class=\"n\">x</span><span class=\"o\">%</span><span class=\"mi\">10</span><span class=\"p\">]</span> <span class=\"k\">for</span> <span class=\"n\">x</span> <span class=\"ow\">in</span> <span class=\"n\">source</span><span class=\"p\">]</span>\n",
        "        <span class=\"n\">results</span> <span class=\"o\">=</span> <span class=\"n\">pareto</span><span class=\"p\">(</span><span class=\"n\">alternatives</span><span class=\"p\">)</span>\n",
        "     \n",
        "        <span class=\"bp\">self</span><span class=\"o\">.</span><span class=\"n\">assertEqual</span><span class=\"p\">(</span><span class=\"n\">results</span><span class=\"p\">,</span> <span class=\"p\">[[</span><span class=\"mi\">7</span><span class=\"p\">,</span> <span class=\"mi\">9</span><span class=\"p\">],</span> <span class=\"p\">[</span><span class=\"mi\">9</span><span class=\"p\">,</span> <span class=\"mi\">5</span><span class=\"p\">],</span> <span class=\"p\">[</span><span class=\"mi\">9</span><span class=\"p\">,</span> <span class=\"mi\">5</span><span class=\"p\">]])</span>\n",
        "\n",
        "    <span class=\"k\">def</span> <span class=\"nf\">test_slater</span><span class=\"p\">(</span><span class=\"bp\">self</span><span class=\"p\">):</span>\n",
        "        \n",
        "        <span class=\"n\">source</span> <span class=\"o\">=</span> <span class=\"p\">[</span><span class=\"mi\">79</span><span class=\"p\">,</span> <span class=\"mi\">95</span><span class=\"p\">,</span> <span class=\"mi\">4</span><span class=\"p\">,</span> <span class=\"mi\">37</span><span class=\"p\">,</span> <span class=\"mi\">92</span><span class=\"p\">,</span> <span class=\"mi\">95</span><span class=\"p\">,</span> <span class=\"mi\">12</span><span class=\"p\">,</span> <span class=\"mi\">52</span><span class=\"p\">,</span> <span class=\"mi\">70</span><span class=\"p\">,</span> <span class=\"mi\">14</span><span class=\"p\">]</span>\n",
        "        <span class=\"n\">alternatives</span> <span class=\"o\">=</span> <span class=\"p\">[[</span><span class=\"nb\">int</span><span class=\"p\">(</span><span class=\"n\">x</span><span class=\"o\">/</span><span class=\"mi\">10</span><span class=\"p\">),</span><span class=\"n\">x</span><span class=\"o\">%</span><span class=\"mi\">10</span><span class=\"p\">]</span> <span class=\"k\">for</span> <span class=\"n\">x</span> <span class=\"ow\">in</span> <span class=\"n\">source</span><span class=\"p\">]</span>\n",
        "        <span class=\"n\">results</span> <span class=\"o\">=</span> <span class=\"n\">slater</span><span class=\"p\">(</span><span class=\"n\">alternatives</span><span class=\"p\">)</span>\n",
        "     \n",
        "        <span class=\"bp\">self</span><span class=\"o\">.</span><span class=\"n\">assertEqual</span><span class=\"p\">(</span><span class=\"n\">results</span><span class=\"p\">,</span> <span class=\"p\">[[</span><span class=\"mi\">7</span><span class=\"p\">,</span> <span class=\"mi\">9</span><span class=\"p\">],</span> <span class=\"p\">[</span><span class=\"mi\">9</span><span class=\"p\">,</span> <span class=\"mi\">5</span><span class=\"p\">],</span> <span class=\"p\">[</span><span class=\"mi\">9</span><span class=\"p\">,</span> <span class=\"mi\">2</span><span class=\"p\">],</span> <span class=\"p\">[</span><span class=\"mi\">9</span><span class=\"p\">,</span> <span class=\"mi\">5</span><span class=\"p\">]])</span>\n",
        "  \n",
        "\n",
        "<span class=\"k\">if</span> <span class=\"n\">__name__</span> <span class=\"o\">==</span> <span class=\"s\">&#39;__main__&#39;</span><span class=\"p\">:</span>\n",
        "    <span class=\"n\">unittest</span><span class=\"o\">.</span><span class=\"n\">main</span><span class=\"p\">()</span>\n",
        "</pre></div>\n"
       ],
       "metadata": {},
       "output_type": "display_data",
       "text": [
        "<IPython.core.display.HTML at 0x627fe80>"
       ]
      }
     ],
     "prompt_number": 3
    },
    {
     "cell_type": "markdown",
     "metadata": {},
     "source": [
      "### \u0420\u0435\u0437\u0443\u043b\u044c\u0442\u0430\u0442"
     ]
    },
    {
     "cell_type": "code",
     "collapsed": false,
     "input": [
      "%matplotlib inline\n",
      "from pylab import *\n",
      "from numpy import *\n",
      "from matplotlib.path import Path\n",
      "from l2_1 import *"
     ],
     "language": "python",
     "metadata": {},
     "outputs": [],
     "prompt_number": 4
    },
    {
     "cell_type": "code",
     "collapsed": false,
     "input": [
      "def plot_pareto_slater(source):\n",
      "    def plot_result(all_items, selected, name):\n",
      "        scatter([i[0] for i in all_items],\n",
      "                [i[1] for i in all_items])\n",
      "\n",
      "        plot([i[0] for i in selected],\n",
      "             [i[1] for i in selected])\n",
      "        \n",
      "        title(name)\n",
      "        \n",
      "    alternatives = [[int(x/10),x%10] for x in source]\n",
      "    print(\"Source: \")    \n",
      "    display_table([], transpose([[\"Q1\", \"Q2\"]] + alternatives))\n",
      "\n",
      "    pareto_results = pareto(alternatives)\n",
      "    print(\"Pareto: \")\n",
      "    display_table([], transpose([[\"Q1\", \"Q2\"]] + pareto_results))\n",
      "    subplot(1, 2, 1)\n",
      "    plot_result(alternatives, pareto_results, \"Pareto\")\n",
      "\n",
      "    slater_results = slater(alternatives)\n",
      "    print(\"Slater: \")\n",
      "    display_table([], transpose([[\"Q1\", \"Q2\"]] + slater_results))\n",
      "    subplot(1, 2, 2)\n",
      "    plot_result(alternatives, slater_results, \"Slater\")    "
     ],
     "language": "python",
     "metadata": {},
     "outputs": [],
     "prompt_number": 5
    },
    {
     "cell_type": "code",
     "collapsed": false,
     "input": [
      "s1 = [47, 24, 82, 35, 32, 4, 54, 43, 98, 86, 40, 78, 59, 62, 62, 83, 41, 48, 23, 24]\n",
      "s2 = [72, 22, 54, 35, 21, 57, 65, 47, 71, 76, 69, 18, 1, 3, 53, 33, 7, 59, 28, 6]\n",
      "s3 = [97, 20, 84, 8, 34, 98, 91, 76, 98, 15, 52, 71, 89, 59, 6, 10, 16, 24, 9, 39]"
     ],
     "language": "python",
     "metadata": {},
     "outputs": [],
     "prompt_number": 6
    },
    {
     "cell_type": "markdown",
     "metadata": {},
     "source": [
      "#### 4.1"
     ]
    },
    {
     "cell_type": "code",
     "collapsed": false,
     "input": [
      "plot_pareto_slater(s1)"
     ],
     "language": "python",
     "metadata": {},
     "outputs": [
      {
       "output_type": "stream",
       "stream": "stdout",
       "text": [
        "Source: \n"
       ]
      },
      {
       "html": [
        "<table class='table table-striped'><tr><tr><tr><td>Q1</td><td>4</td><td>2</td><td>8</td><td>3</td><td>3</td><td>0</td><td>5</td><td>4</td><td>9</td><td>8</td><td>4</td><td>7</td><td>5</td><td>6</td><td>6</td><td>8</td><td>4</td><td>4</td><td>2</td><td>2</td></tr><tr><td>Q2</td><td>7</td><td>4</td><td>2</td><td>5</td><td>2</td><td>4</td><td>4</td><td>3</td><td>8</td><td>6</td><td>0</td><td>8</td><td>9</td><td>2</td><td>2</td><td>3</td><td>1</td><td>8</td><td>3</td><td>4</td></tr></table>"
       ],
       "metadata": {},
       "output_type": "display_data",
       "text": [
        "<utils.Table at 0x7e72470>"
       ]
      },
      {
       "output_type": "stream",
       "stream": "stdout",
       "text": [
        "Pareto: \n"
       ]
      },
      {
       "html": [
        "<table class='table table-striped'><tr><tr><tr><td>Q1</td><td>9</td><td>5</td></tr><tr><td>Q2</td><td>8</td><td>9</td></tr></table>"
       ],
       "metadata": {},
       "output_type": "display_data",
       "text": [
        "<utils.Table at 0x3842198>"
       ]
      },
      {
       "output_type": "stream",
       "stream": "stdout",
       "text": [
        "Slater: \n"
       ]
      },
      {
       "html": [
        "<table class='table table-striped'><tr><tr><tr><td>Q1</td><td>9</td><td>7</td><td>5</td></tr><tr><td>Q2</td><td>8</td><td>8</td><td>9</td></tr></table>"
       ],
       "metadata": {},
       "output_type": "display_data",
       "text": [
        "<utils.Table at 0x7f7b9b0>"
       ]
      },
      {
       "metadata": {},
       "output_type": "display_data",
       "png": "[encoded data removed]",
       "text": [
        "<matplotlib.figure.Figure at 0x3842198>"
       ]
      }
     ],
     "prompt_number": 7
    },
    {
     "cell_type": "code",
     "collapsed": false,
     "input": [
      "plot_pareto_slater(s2)"
     ],
     "language": "python",
     "metadata": {},
     "outputs": [
      {
       "output_type": "stream",
       "stream": "stdout",
       "text": [
        "Source: \n"
       ]
      },
      {
       "html": [
        "<table class='table table-striped'><tr><tr><tr><td>Q1</td><td>7</td><td>2</td><td>5</td><td>3</td><td>2</td><td>5</td><td>6</td><td>4</td><td>7</td><td>7</td><td>6</td><td>1</td><td>0</td><td>0</td><td>5</td><td>3</td><td>0</td><td>5</td><td>2</td><td>0</td></tr><tr><td>Q2</td><td>2</td><td>2</td><td>4</td><td>5</td><td>1</td><td>7</td><td>5</td><td>7</td><td>1</td><td>6</td><td>9</td><td>8</td><td>1</td><td>3</td><td>3</td><td>3</td><td>7</td><td>9</td><td>8</td><td>6</td></tr></table>"
       ],
       "metadata": {},
       "output_type": "display_data",
       "text": [
        "<utils.Table at 0x7f24cc0>"
       ]
      },
      {
       "output_type": "stream",
       "stream": "stdout",
       "text": [
        "Pareto: \n"
       ]
      },
      {
       "html": [
        "<table class='table table-striped'><tr><tr><tr><td>Q1</td><td>7</td><td>6</td></tr><tr><td>Q2</td><td>6</td><td>9</td></tr></table>"
       ],
       "metadata": {},
       "output_type": "display_data",
       "text": [
        "<utils.Table at 0x7f24cc0>"
       ]
      },
      {
       "output_type": "stream",
       "stream": "stdout",
       "text": [
        "Slater: \n"
       ]
      },
      {
       "html": [
        "<table class='table table-striped'><tr><tr><tr><td>Q1</td><td>7</td><td>7</td><td>7</td><td>6</td><td>5</td></tr><tr><td>Q2</td><td>2</td><td>1</td><td>6</td><td>9</td><td>9</td></tr></table>"
       ],
       "metadata": {},
       "output_type": "display_data",
       "text": [
        "<utils.Table at 0x80db860>"
       ]
      },
      {
       "metadata": {},
       "output_type": "display_data",
       "png": "[encoded data removed]",
       "text": [
        "<matplotlib.figure.Figure at 0x7f24cc0>"
       ]
      }
     ],
     "prompt_number": 8
    },
    {
     "cell_type": "code",
     "collapsed": false,
     "input": [
      "plot_pareto_slater(s3)"
     ],
     "language": "python",
     "metadata": {},
     "outputs": [
      {
       "output_type": "stream",
       "stream": "stdout",
       "text": [
        "Source: \n"
       ]
      },
      {
       "html": [
        "<table class='table table-striped'><tr><tr><tr><td>Q1</td><td>9</td><td>2</td><td>8</td><td>0</td><td>3</td><td>9</td><td>9</td><td>7</td><td>9</td><td>1</td><td>5</td><td>7</td><td>8</td><td>5</td><td>0</td><td>1</td><td>1</td><td>2</td><td>0</td><td>3</td></tr><tr><td>Q2</td><td>7</td><td>0</td><td>4</td><td>8</td><td>4</td><td>8</td><td>1</td><td>6</td><td>8</td><td>5</td><td>2</td><td>1</td><td>9</td><td>9</td><td>6</td><td>0</td><td>6</td><td>4</td><td>9</td><td>9</td></tr></table>"
       ],
       "metadata": {},
       "output_type": "display_data",
       "text": [
        "<utils.Table at 0x6525eb8>"
       ]
      },
      {
       "output_type": "stream",
       "stream": "stdout",
       "text": [
        "Pareto: \n"
       ]
      },
      {
       "html": [
        "<table class='table table-striped'><tr><tr><tr><td>Q1</td><td>9</td><td>9</td><td>8</td></tr><tr><td>Q2</td><td>8</td><td>8</td><td>9</td></tr></table>"
       ],
       "metadata": {},
       "output_type": "display_data",
       "text": [
        "<utils.Table at 0x6525eb8>"
       ]
      },
      {
       "output_type": "stream",
       "stream": "stdout",
       "text": [
        "Slater: \n"
       ]
      },
      {
       "html": [
        "<table class='table table-striped'><tr><tr><tr><td>Q1</td><td>9</td><td>9</td><td>9</td><td>9</td><td>8</td><td>5</td><td>0</td><td>3</td></tr><tr><td>Q2</td><td>7</td><td>8</td><td>1</td><td>8</td><td>9</td><td>9</td><td>9</td><td>9</td></tr></table>"
       ],
       "metadata": {},
       "output_type": "display_data",
       "text": [
        "<utils.Table at 0x7f1e630>"
       ]
      },
      {
       "metadata": {},
       "output_type": "display_data",
       "png": "[encoded data removed]",
       "text": [
        "<matplotlib.figure.Figure at 0x6525eb8>"
       ]
      }
     ],
     "prompt_number": 9
    },
    {
     "cell_type": "markdown",
     "metadata": {},
     "source": [
      "#### 4.2"
     ]
    },
    {
     "cell_type": "code",
     "collapsed": false,
     "input": [
      "plot_pareto_slater(s1 + s2 + s3)"
     ],
     "language": "python",
     "metadata": {},
     "outputs": [
      {
       "output_type": "stream",
       "stream": "stdout",
       "text": [
        "Source: \n"
       ]
      },
      {
       "html": [
        "<table class='table table-striped'><tr><tr><tr><td>Q1</td><td>4</td><td>2</td><td>8</td><td>3</td><td>3</td><td>0</td><td>5</td><td>4</td><td>9</td><td>8</td><td>4</td><td>7</td><td>5</td><td>6</td><td>6</td><td>8</td><td>4</td><td>4</td><td>2</td><td>2</td><td>7</td><td>2</td><td>5</td><td>3</td><td>2</td><td>5</td><td>6</td><td>4</td><td>7</td><td>7</td><td>6</td><td>1</td><td>0</td><td>0</td><td>5</td><td>3</td><td>0</td><td>5</td><td>2</td><td>0</td><td>9</td><td>2</td><td>8</td><td>0</td><td>3</td><td>9</td><td>9</td><td>7</td><td>9</td><td>1</td><td>5</td><td>7</td><td>8</td><td>5</td><td>0</td><td>1</td><td>1</td><td>2</td><td>0</td><td>3</td></tr><tr><td>Q2</td><td>7</td><td>4</td><td>2</td><td>5</td><td>2</td><td>4</td><td>4</td><td>3</td><td>8</td><td>6</td><td>0</td><td>8</td><td>9</td><td>2</td><td>2</td><td>3</td><td>1</td><td>8</td><td>3</td><td>4</td><td>2</td><td>2</td><td>4</td><td>5</td><td>1</td><td>7</td><td>5</td><td>7</td><td>1</td><td>6</td><td>9</td><td>8</td><td>1</td><td>3</td><td>3</td><td>3</td><td>7</td><td>9</td><td>8</td><td>6</td><td>7</td><td>0</td><td>4</td><td>8</td><td>4</td><td>8</td><td>1</td><td>6</td><td>8</td><td>5</td><td>2</td><td>1</td><td>9</td><td>9</td><td>6</td><td>0</td><td>6</td><td>4</td><td>9</td><td>9</td></tr></table>"
       ],
       "metadata": {},
       "output_type": "display_data",
       "text": [
        "<utils.Table at 0x80954e0>"
       ]
      },
      {
       "output_type": "stream",
       "stream": "stdout",
       "text": [
        "Pareto: \n"
       ]
      },
      {
       "html": [
        "<table class='table table-striped'><tr><tr><tr><td>Q1</td><td>9</td><td>9</td><td>9</td><td>8</td></tr><tr><td>Q2</td><td>8</td><td>8</td><td>8</td><td>9</td></tr></table>"
       ],
       "metadata": {},
       "output_type": "display_data",
       "text": [
        "<utils.Table at 0x80954e0>"
       ]
      },
      {
       "output_type": "stream",
       "stream": "stdout",
       "text": [
        "Slater: \n"
       ]
      },
      {
       "html": [
        "<table class='table table-striped'><tr><tr><tr><td>Q1</td><td>9</td><td>5</td><td>6</td><td>5</td><td>9</td><td>9</td><td>9</td><td>9</td><td>8</td><td>5</td><td>0</td><td>3</td></tr><tr><td>Q2</td><td>8</td><td>9</td><td>9</td><td>9</td><td>7</td><td>8</td><td>1</td><td>8</td><td>9</td><td>9</td><td>9</td><td>9</td></tr></table>"
       ],
       "metadata": {},
       "output_type": "display_data",
       "text": [
        "<utils.Table at 0x8357d68>"
       ]
      },
      {
       "metadata": {},
       "output_type": "display_data",
       "png": "[encoded data removed]",
       "text": [
        "<matplotlib.figure.Figure at 0x80954e0>"
       ]
      }
     ],
     "prompt_number": 10
    },
    {
     "cell_type": "markdown",
     "metadata": {},
     "source": [
      "### \u0412\u0438\u0441\u043d\u043e\u0432\u043a\n",
      "\u041e\u0437\u043d\u0430\u0439\u043e\u043c\u0438\u0432\u0441\u044f \u0437 \u043f\u043e\u043d\u044f\u0442\u0442\u044f\u043c\u0438 \u043e\u043f\u0442\u0438\u043c\u0430\u043b\u044c\u043d\u043e\u0441\u0442\u0456 \u0437\u0430 \u041f\u0430\u0440\u0435\u0442\u043e \u0442\u0430 \u0437\u0430 \u0421\u043b\u0435\u0439\u0442\u0435\u0440\u043e\u043c \u043f\u0440\u0438 \u0431\u0430\u0433\u0430\u0442\u043e\u043a\u0440\u0438\u0442\u0435\u0440\u0456\u0430\u043b\u044c\u043d\u043e\u043c\u0443 \u0432\u0438\u0431\u043e\u0440\u0456"
     ]
    }
   ],
   "metadata": {}
  }
 ]
}