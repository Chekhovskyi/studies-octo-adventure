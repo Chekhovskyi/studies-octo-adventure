{
 "metadata": {
  "name": "",
  "signature": "sha256:0eb279eba0b3f5692a7959991ea122141d60677d0dad9b3e0d65372c07ad31bd"
 },
 "nbformat": 3,
 "nbformat_minor": 0,
 "worksheets": [
  {
   "cells": [
    {
     "cell_type": "code",
     "collapsed": false,
     "input": [
      "## \u0420\u0456\u0448\u0435\u043d\u043d\u044f"
     ],
     "language": "python",
     "metadata": {},
     "outputs": [],
     "prompt_number": 1
    },
    {
     "cell_type": "code",
     "collapsed": false,
     "input": [
      "%matplotlib inline\n",
      "from utils import *"
     ],
     "language": "python",
     "metadata": {},
     "outputs": [],
     "prompt_number": 2
    },
    {
     "cell_type": "code",
     "collapsed": false,
     "input": [
      "display_code(\"l4.py\")"
     ],
     "language": "python",
     "metadata": {},
     "outputs": [
      {
       "html": [
        "<style type='text/css'>.highlight .hll { background-color: #ffffcc }\n",
        ".highlight  { background: #f8f8f8; }\n",
        ".highlight .c { color: #408080; font-style: italic } /* Comment */\n",
        ".highlight .err { border: 1px solid #FF0000 } /* Error */\n",
        ".highlight .k { color: #008000; font-weight: bold } /* Keyword */\n",
        ".highlight .o { color: #666666 } /* Operator */\n",
        ".highlight .cm { color: #408080; font-style: italic } /* Comment.Multiline */\n",
        ".highlight .cp { color: #BC7A00 } /* Comment.Preproc */\n",
        ".highlight .c1 { color: #408080; font-style: italic } /* Comment.Single */\n",
        ".highlight .cs { color: #408080; font-style: italic } /* Comment.Special */\n",
        ".highlight .gd { color: #A00000 } /* Generic.Deleted */\n",
        ".highlight .ge { font-style: italic } /* Generic.Emph */\n",
        ".highlight .gr { color: #FF0000 } /* Generic.Error */\n",
        ".highlight .gh { color: #000080; font-weight: bold } /* Generic.Heading */\n",
        ".highlight .gi { color: #00A000 } /* Generic.Inserted */\n",
        ".highlight .go { color: #888888 } /* Generic.Output */\n",
        ".highlight .gp { color: #000080; font-weight: bold } /* Generic.Prompt */\n",
        ".highlight .gs { font-weight: bold } /* Generic.Strong */\n",
        ".highlight .gu { color: #800080; font-weight: bold } /* Generic.Subheading */\n",
        ".highlight .gt { color: #0044DD } /* Generic.Traceback */\n",
        ".highlight .kc { color: #008000; font-weight: bold } /* Keyword.Constant */\n",
        ".highlight .kd { color: #008000; font-weight: bold } /* Keyword.Declaration */\n",
        ".highlight .kn { color: #008000; font-weight: bold } /* Keyword.Namespace */\n",
        ".highlight .kp { color: #008000 } /* Keyword.Pseudo */\n",
        ".highlight .kr { color: #008000; font-weight: bold } /* Keyword.Reserved */\n",
        ".highlight .kt { color: #B00040 } /* Keyword.Type */\n",
        ".highlight .m { color: #666666 } /* Literal.Number */\n",
        ".highlight .s { color: #BA2121 } /* Literal.String */\n",
        ".highlight .na { color: #7D9029 } /* Name.Attribute */\n",
        ".highlight .nb { color: #008000 } /* Name.Builtin */\n",
        ".highlight .nc { color: #0000FF; font-weight: bold } /* Name.Class */\n",
        ".highlight .no { color: #880000 } /* Name.Constant */\n",
        ".highlight .nd { color: #AA22FF } /* Name.Decorator */\n",
        ".highlight .ni { color: #999999; font-weight: bold } /* Name.Entity */\n",
        ".highlight .ne { color: #D2413A; font-weight: bold } /* Name.Exception */\n",
        ".highlight .nf { color: #0000FF } /* Name.Function */\n",
        ".highlight .nl { color: #A0A000 } /* Name.Label */\n",
        ".highlight .nn { color: #0000FF; font-weight: bold } /* Name.Namespace */\n",
        ".highlight .nt { color: #008000; font-weight: bold } /* Name.Tag */\n",
        ".highlight .nv { color: #19177C } /* Name.Variable */\n",
        ".highlight .ow { color: #AA22FF; font-weight: bold } /* Operator.Word */\n",
        ".highlight .w { color: #bbbbbb } /* Text.Whitespace */\n",
        ".highlight .mf { color: #666666 } /* Literal.Number.Float */\n",
        ".highlight .mh { color: #666666 } /* Literal.Number.Hex */\n",
        ".highlight .mi { color: #666666 } /* Literal.Number.Integer */\n",
        ".highlight .mo { color: #666666 } /* Literal.Number.Oct */\n",
        ".highlight .sb { color: #BA2121 } /* Literal.String.Backtick */\n",
        ".highlight .sc { color: #BA2121 } /* Literal.String.Char */\n",
        ".highlight .sd { color: #BA2121; font-style: italic } /* Literal.String.Doc */\n",
        ".highlight .s2 { color: #BA2121 } /* Literal.String.Double */\n",
        ".highlight .se { color: #BB6622; font-weight: bold } /* Literal.String.Escape */\n",
        ".highlight .sh { color: #BA2121 } /* Literal.String.Heredoc */\n",
        ".highlight .si { color: #BB6688; font-weight: bold } /* Literal.String.Interpol */\n",
        ".highlight .sx { color: #008000 } /* Literal.String.Other */\n",
        ".highlight .sr { color: #BB6688 } /* Literal.String.Regex */\n",
        ".highlight .s1 { color: #BA2121 } /* Literal.String.Single */\n",
        ".highlight .ss { color: #19177C } /* Literal.String.Symbol */\n",
        ".highlight .bp { color: #008000 } /* Name.Builtin.Pseudo */\n",
        ".highlight .vc { color: #19177C } /* Name.Variable.Class */\n",
        ".highlight .vg { color: #19177C } /* Name.Variable.Global */\n",
        ".highlight .vi { color: #19177C } /* Name.Variable.Instance */\n",
        ".highlight .il { color: #666666 } /* Literal.Number.Integer.Long */</style><h3>File: l4.py</h3><div class=\"well highlight\"><pre><span class=\"c\"># coding=utf-8</span>\n",
        "<span class=\"kn\">from</span> <span class=\"nn\">numpy</span> <span class=\"kn\">import</span> <span class=\"o\">*</span>\n",
        "\n",
        "<span class=\"k\">def</span> <span class=\"nf\">iterative</span><span class=\"p\">(</span><span class=\"n\">A</span><span class=\"p\">,</span> <span class=\"n\">B</span><span class=\"p\">,</span> <span class=\"n\">e</span><span class=\"p\">):</span>\n",
        "    <span class=\"n\">numrows</span><span class=\"p\">,</span> <span class=\"n\">numcols</span> <span class=\"o\">=</span> <span class=\"n\">A</span><span class=\"o\">.</span><span class=\"n\">shape</span>\n",
        "\n",
        "    <span class=\"n\">Ad</span> <span class=\"o\">=</span> <span class=\"n\">A</span><span class=\"o\">.</span><span class=\"n\">diagonal</span><span class=\"p\">()</span><span class=\"o\">.</span><span class=\"n\">T</span>\n",
        "\n",
        "    <span class=\"c\"># DgZ = abs((eye(numcols) - 1))</span>\n",
        "    <span class=\"c\"># Aa = matrix([(-A[i]/A[i,i]).getA1() for i in range(numcols)] * DgZ)</span>\n",
        "    <span class=\"c\"># or use fill_diagonal</span>\n",
        "    <span class=\"n\">Aa</span> <span class=\"o\">=</span> <span class=\"n\">matrix</span><span class=\"p\">([[(</span><span class=\"mi\">0</span> <span class=\"k\">if</span> <span class=\"n\">i</span><span class=\"o\">==</span><span class=\"n\">j</span> <span class=\"k\">else</span> <span class=\"p\">(</span><span class=\"o\">-</span><span class=\"n\">A</span><span class=\"p\">[</span><span class=\"n\">i</span><span class=\"p\">,</span> <span class=\"n\">j</span><span class=\"p\">]</span><span class=\"o\">/</span><span class=\"n\">A</span><span class=\"p\">[</span><span class=\"n\">i</span><span class=\"p\">,</span> <span class=\"n\">i</span><span class=\"p\">]))</span> <span class=\"k\">for</span> <span class=\"n\">j</span> <span class=\"ow\">in</span> <span class=\"nb\">range</span><span class=\"p\">(</span><span class=\"n\">numcols</span><span class=\"p\">)]</span>\n",
        "                        <span class=\"k\">for</span> <span class=\"n\">i</span> <span class=\"ow\">in</span> <span class=\"nb\">range</span><span class=\"p\">(</span><span class=\"n\">numrows</span><span class=\"p\">)])</span>\n",
        "\n",
        "    <span class=\"k\">if</span> <span class=\"ow\">not</span> <span class=\"p\">(</span><span class=\"n\">Ad</span><span class=\"o\">.</span><span class=\"n\">T</span> <span class=\"o\">&gt;=</span> <span class=\"p\">[</span><span class=\"nb\">sum</span><span class=\"p\">(</span><span class=\"n\">l</span><span class=\"p\">)</span> <span class=\"k\">for</span> <span class=\"n\">l</span> <span class=\"ow\">in</span> <span class=\"n\">array</span><span class=\"p\">(</span><span class=\"n\">Aa</span><span class=\"o\">.</span><span class=\"n\">tolist</span><span class=\"p\">())])</span><span class=\"o\">.</span><span class=\"n\">all</span><span class=\"p\">():</span>\n",
        "        <span class=\"k\">raise</span> <span class=\"ne\">Exception</span><span class=\"p\">(</span><span class=\"s\">u&#39;\u0406\u0442\u0435\u0440\u0430\u0442\u0438\u0432\u043d\u0438\u0439 \u043c\u0435\u0442\u043e\u0434 \u043d\u0435 \u0441\u0445\u043e\u0434\u0438\u0442\u044c\u0441\u044f&#39;</span><span class=\"p\">)</span>\n",
        "\n",
        "    <span class=\"n\">Bb</span> <span class=\"o\">=</span> <span class=\"p\">(</span><span class=\"n\">B</span> <span class=\"o\">/</span> <span class=\"n\">Ad</span><span class=\"p\">)</span>\n",
        "    <span class=\"n\">Xc</span> <span class=\"o\">=</span> <span class=\"n\">B</span><span class=\"p\">[:]</span>\n",
        "\n",
        "    <span class=\"k\">def</span> <span class=\"nf\">all_right</span><span class=\"p\">(</span><span class=\"n\">Xc</span><span class=\"p\">):</span>\n",
        "        <span class=\"k\">return</span> <span class=\"nb\">abs</span><span class=\"p\">(</span><span class=\"nb\">sum</span><span class=\"p\">((</span><span class=\"n\">A</span> <span class=\"o\">*</span> <span class=\"n\">Xc</span><span class=\"p\">)</span> <span class=\"o\">-</span> <span class=\"n\">B</span><span class=\"p\">))</span> <span class=\"o\">&lt;</span> <span class=\"n\">e</span>\n",
        "\n",
        "    <span class=\"c\">#for i in range(10):</span>\n",
        "    <span class=\"k\">while</span> <span class=\"ow\">not</span> <span class=\"n\">all_right</span><span class=\"p\">(</span><span class=\"n\">Xc</span><span class=\"p\">):</span>\n",
        "        <span class=\"n\">Xc</span> <span class=\"o\">=</span> <span class=\"n\">Bb</span> <span class=\"o\">+</span> <span class=\"p\">(</span><span class=\"n\">Aa</span> <span class=\"o\">*</span> <span class=\"n\">Xc</span><span class=\"p\">)</span>\n",
        "        <span class=\"c\">#Xc = (1/Ad) * (B + (Aa * Xc))</span>\n",
        "\n",
        "    <span class=\"k\">return</span> <span class=\"n\">Xc</span>\n",
        "\n",
        "\n",
        "<span class=\"k\">def</span> <span class=\"nf\">gaussseidel</span><span class=\"p\">(</span><span class=\"n\">a</span><span class=\"p\">,</span> <span class=\"n\">b</span><span class=\"p\">,</span> <span class=\"n\">x</span><span class=\"p\">,</span> <span class=\"n\">e</span><span class=\"p\">):</span>\n",
        "\n",
        "    <span class=\"k\">def</span> <span class=\"nf\">error</span><span class=\"p\">(</span><span class=\"n\">x1</span><span class=\"p\">,</span> <span class=\"n\">x</span><span class=\"p\">):</span>\n",
        "        <span class=\"k\">return</span> <span class=\"nb\">max</span><span class=\"p\">(</span><span class=\"nb\">abs</span><span class=\"p\">(</span><span class=\"n\">x1</span> <span class=\"o\">-</span> <span class=\"n\">x</span><span class=\"p\">))</span>\n",
        "\n",
        "    <span class=\"n\">xx</span> <span class=\"o\">=</span> <span class=\"n\">copy</span><span class=\"p\">(</span><span class=\"n\">x</span><span class=\"p\">)</span>\n",
        "    <span class=\"n\">x1x</span> <span class=\"o\">=</span> <span class=\"n\">zeros_like</span><span class=\"p\">(</span><span class=\"n\">x</span><span class=\"p\">)</span>\n",
        "\n",
        "    <span class=\"k\">for</span> <span class=\"n\">i</span> <span class=\"ow\">in</span> <span class=\"nb\">range</span><span class=\"p\">(</span><span class=\"mi\">10</span><span class=\"p\">):</span>\n",
        "        <span class=\"k\">if</span> <span class=\"n\">error</span><span class=\"p\">(</span><span class=\"n\">x1x</span><span class=\"p\">,</span> <span class=\"n\">xx</span><span class=\"p\">)</span> <span class=\"o\">&lt;=</span> <span class=\"n\">e</span><span class=\"p\">:</span>\n",
        "            <span class=\"k\">return</span> <span class=\"n\">xx</span>\n",
        "        <span class=\"n\">x1x</span> <span class=\"o\">=</span> <span class=\"n\">copy</span><span class=\"p\">(</span><span class=\"n\">xx</span><span class=\"p\">)</span>\n",
        "        <span class=\"k\">for</span> <span class=\"n\">i</span> <span class=\"ow\">in</span> <span class=\"nb\">range</span><span class=\"p\">(</span><span class=\"nb\">len</span><span class=\"p\">(</span><span class=\"n\">x1x</span><span class=\"p\">)):</span>\n",
        "            <span class=\"n\">sum_a</span> <span class=\"o\">=</span> <span class=\"nb\">sum</span><span class=\"p\">(</span><span class=\"n\">a</span><span class=\"p\">[</span><span class=\"n\">i</span><span class=\"p\">,</span> <span class=\"p\">:</span><span class=\"n\">i</span><span class=\"p\">]</span> <span class=\"o\">*</span> <span class=\"n\">x1x</span><span class=\"p\">[:</span><span class=\"n\">i</span><span class=\"p\">])</span>\n",
        "            <span class=\"n\">sum_b</span> <span class=\"o\">=</span> <span class=\"nb\">sum</span><span class=\"p\">(</span><span class=\"n\">a</span><span class=\"p\">[</span><span class=\"n\">i</span><span class=\"p\">,</span> <span class=\"n\">i</span><span class=\"o\">+</span><span class=\"mi\">1</span><span class=\"p\">:]</span> <span class=\"o\">*</span> <span class=\"n\">x1x</span><span class=\"p\">[</span><span class=\"n\">i</span><span class=\"o\">+</span><span class=\"mi\">1</span><span class=\"p\">:])</span>\n",
        "            <span class=\"n\">xx</span><span class=\"p\">[</span><span class=\"n\">i</span><span class=\"p\">]</span> <span class=\"o\">=</span> <span class=\"p\">(</span><span class=\"mi\">1</span> <span class=\"o\">/</span> <span class=\"n\">a</span><span class=\"p\">[</span><span class=\"n\">i</span><span class=\"p\">,</span> <span class=\"n\">i</span><span class=\"p\">])</span> <span class=\"o\">*</span> <span class=\"p\">(</span><span class=\"n\">b</span><span class=\"p\">[</span><span class=\"n\">i</span><span class=\"p\">]</span> <span class=\"o\">-</span> <span class=\"n\">sum_a</span> <span class=\"o\">-</span> <span class=\"n\">sum_b</span><span class=\"p\">)</span>\n",
        "    <span class=\"k\">else</span><span class=\"p\">:</span>\n",
        "        <span class=\"k\">raise</span> <span class=\"ne\">Exception</span><span class=\"p\">(</span><span class=\"s\">&quot;\u041f\u043e\u0442\u0440\u0456\u0431\u043d\u043e \u0431\u0456\u043b\u044c\u0448\u0435 10\u0442\u0438 \u0456\u0442\u0435\u0440\u0430\u0446\u0456\u0439, \u0441\u0445\u043e\u0436\u0435 \u0441\u0438\u0441\u0442\u0435\u043c\u0430 \u043d\u0435 \u0441\u0445\u043e\u0434\u0438\u0442\u044c\u0441\u044f.&quot;</span><span class=\"p\">)</span>\n",
        "\n",
        "    <span class=\"k\">return</span> <span class=\"n\">xx</span>\n",
        "</pre></div>\n"
       ],
       "metadata": {},
       "output_type": "display_data",
       "text": [
        "<IPython.core.display.HTML at 0x7d138d0>"
       ]
      }
     ],
     "prompt_number": 3
    },
    {
     "cell_type": "code",
     "collapsed": false,
     "input": [
      "display_code(\"l4_tests.py\")"
     ],
     "language": "python",
     "metadata": {},
     "outputs": [
      {
       "html": [
        "<style type='text/css'>.highlight .hll { background-color: #ffffcc }\n",
        ".highlight  { background: #f8f8f8; }\n",
        ".highlight .c { color: #408080; font-style: italic } /* Comment */\n",
        ".highlight .err { border: 1px solid #FF0000 } /* Error */\n",
        ".highlight .k { color: #008000; font-weight: bold } /* Keyword */\n",
        ".highlight .o { color: #666666 } /* Operator */\n",
        ".highlight .cm { color: #408080; font-style: italic } /* Comment.Multiline */\n",
        ".highlight .cp { color: #BC7A00 } /* Comment.Preproc */\n",
        ".highlight .c1 { color: #408080; font-style: italic } /* Comment.Single */\n",
        ".highlight .cs { color: #408080; font-style: italic } /* Comment.Special */\n",
        ".highlight .gd { color: #A00000 } /* Generic.Deleted */\n",
        ".highlight .ge { font-style: italic } /* Generic.Emph */\n",
        ".highlight .gr { color: #FF0000 } /* Generic.Error */\n",
        ".highlight .gh { color: #000080; font-weight: bold } /* Generic.Heading */\n",
        ".highlight .gi { color: #00A000 } /* Generic.Inserted */\n",
        ".highlight .go { color: #888888 } /* Generic.Output */\n",
        ".highlight .gp { color: #000080; font-weight: bold } /* Generic.Prompt */\n",
        ".highlight .gs { font-weight: bold } /* Generic.Strong */\n",
        ".highlight .gu { color: #800080; font-weight: bold } /* Generic.Subheading */\n",
        ".highlight .gt { color: #0044DD } /* Generic.Traceback */\n",
        ".highlight .kc { color: #008000; font-weight: bold } /* Keyword.Constant */\n",
        ".highlight .kd { color: #008000; font-weight: bold } /* Keyword.Declaration */\n",
        ".highlight .kn { color: #008000; font-weight: bold } /* Keyword.Namespace */\n",
        ".highlight .kp { color: #008000 } /* Keyword.Pseudo */\n",
        ".highlight .kr { color: #008000; font-weight: bold } /* Keyword.Reserved */\n",
        ".highlight .kt { color: #B00040 } /* Keyword.Type */\n",
        ".highlight .m { color: #666666 } /* Literal.Number */\n",
        ".highlight .s { color: #BA2121 } /* Literal.String */\n",
        ".highlight .na { color: #7D9029 } /* Name.Attribute */\n",
        ".highlight .nb { color: #008000 } /* Name.Builtin */\n",
        ".highlight .nc { color: #0000FF; font-weight: bold } /* Name.Class */\n",
        ".highlight .no { color: #880000 } /* Name.Constant */\n",
        ".highlight .nd { color: #AA22FF } /* Name.Decorator */\n",
        ".highlight .ni { color: #999999; font-weight: bold } /* Name.Entity */\n",
        ".highlight .ne { color: #D2413A; font-weight: bold } /* Name.Exception */\n",
        ".highlight .nf { color: #0000FF } /* Name.Function */\n",
        ".highlight .nl { color: #A0A000 } /* Name.Label */\n",
        ".highlight .nn { color: #0000FF; font-weight: bold } /* Name.Namespace */\n",
        ".highlight .nt { color: #008000; font-weight: bold } /* Name.Tag */\n",
        ".highlight .nv { color: #19177C } /* Name.Variable */\n",
        ".highlight .ow { color: #AA22FF; font-weight: bold } /* Operator.Word */\n",
        ".highlight .w { color: #bbbbbb } /* Text.Whitespace */\n",
        ".highlight .mf { color: #666666 } /* Literal.Number.Float */\n",
        ".highlight .mh { color: #666666 } /* Literal.Number.Hex */\n",
        ".highlight .mi { color: #666666 } /* Literal.Number.Integer */\n",
        ".highlight .mo { color: #666666 } /* Literal.Number.Oct */\n",
        ".highlight .sb { color: #BA2121 } /* Literal.String.Backtick */\n",
        ".highlight .sc { color: #BA2121 } /* Literal.String.Char */\n",
        ".highlight .sd { color: #BA2121; font-style: italic } /* Literal.String.Doc */\n",
        ".highlight .s2 { color: #BA2121 } /* Literal.String.Double */\n",
        ".highlight .se { color: #BB6622; font-weight: bold } /* Literal.String.Escape */\n",
        ".highlight .sh { color: #BA2121 } /* Literal.String.Heredoc */\n",
        ".highlight .si { color: #BB6688; font-weight: bold } /* Literal.String.Interpol */\n",
        ".highlight .sx { color: #008000 } /* Literal.String.Other */\n",
        ".highlight .sr { color: #BB6688 } /* Literal.String.Regex */\n",
        ".highlight .s1 { color: #BA2121 } /* Literal.String.Single */\n",
        ".highlight .ss { color: #19177C } /* Literal.String.Symbol */\n",
        ".highlight .bp { color: #008000 } /* Name.Builtin.Pseudo */\n",
        ".highlight .vc { color: #19177C } /* Name.Variable.Class */\n",
        ".highlight .vg { color: #19177C } /* Name.Variable.Global */\n",
        ".highlight .vi { color: #19177C } /* Name.Variable.Instance */\n",
        ".highlight .il { color: #666666 } /* Literal.Number.Integer.Long */</style><h3>File: l4_tests.py</h3><div class=\"well highlight\"><pre><span class=\"c\"># coding=utf-8</span>\n",
        "<span class=\"kn\">import</span> <span class=\"nn\">random</span>\n",
        "<span class=\"kn\">import</span> <span class=\"nn\">unittest</span>\n",
        "\n",
        "<span class=\"kn\">import</span> <span class=\"nn\">numpy</span>\n",
        "\n",
        "<span class=\"kn\">from</span> <span class=\"nn\">l4</span> <span class=\"kn\">import</span> <span class=\"o\">*</span>\n",
        "\n",
        "<span class=\"k\">class</span> <span class=\"nc\">TestL4</span><span class=\"p\">(</span><span class=\"n\">unittest</span><span class=\"o\">.</span><span class=\"n\">TestCase</span><span class=\"p\">):</span>\n",
        "\n",
        "    <span class=\"k\">def</span> <span class=\"nf\">setUp</span><span class=\"p\">(</span><span class=\"bp\">self</span><span class=\"p\">):</span>\n",
        "        <span class=\"k\">pass</span>\n",
        "\n",
        "  \n",
        "    <span class=\"k\">def</span> <span class=\"nf\">test_iterative</span><span class=\"p\">(</span><span class=\"bp\">self</span><span class=\"p\">):</span>  \n",
        "\n",
        "        <span class=\"n\">A</span> <span class=\"o\">=</span> <span class=\"n\">matrix</span><span class=\"p\">([[</span><span class=\"mf\">4.</span><span class=\"p\">,</span> <span class=\"mf\">0.24</span><span class=\"p\">,</span> <span class=\"o\">-</span><span class=\"mf\">0.08</span><span class=\"p\">],</span> \n",
        "                    <span class=\"p\">[</span><span class=\"mf\">0.09</span><span class=\"p\">,</span> <span class=\"mi\">3</span><span class=\"p\">,</span> <span class=\"o\">-</span><span class=\"mf\">0.15</span><span class=\"p\">],</span> \n",
        "                    <span class=\"p\">[</span><span class=\"mf\">0.04</span><span class=\"p\">,</span> <span class=\"o\">-</span><span class=\"mf\">0.08</span><span class=\"p\">,</span> <span class=\"mi\">4</span><span class=\"p\">]])</span>\n",
        "\n",
        "        <span class=\"n\">B</span> <span class=\"o\">=</span> <span class=\"n\">matrix</span><span class=\"p\">([[</span><span class=\"mf\">8.</span><span class=\"p\">],</span>\n",
        "                    <span class=\"p\">[</span><span class=\"mf\">9.</span><span class=\"p\">],</span>\n",
        "                    <span class=\"p\">[</span><span class=\"mf\">20.</span><span class=\"p\">]])</span>\n",
        "\n",
        "        <span class=\"n\">X</span> <span class=\"o\">=</span> <span class=\"n\">iterative</span><span class=\"p\">(</span><span class=\"n\">A</span><span class=\"p\">,</span> <span class=\"n\">B</span><span class=\"p\">,</span> <span class=\"mf\">0.000001</span><span class=\"p\">)</span>\n",
        "        \n",
        "        <span class=\"bp\">self</span><span class=\"o\">.</span><span class=\"n\">assertTrue</span><span class=\"p\">(</span><span class=\"n\">allclose</span><span class=\"p\">(</span><span class=\"n\">X</span><span class=\"p\">,</span> <span class=\"p\">[[</span> <span class=\"mf\">1.90919836</span><span class=\"p\">],</span>\n",
        "                                     <span class=\"p\">[</span> <span class=\"mf\">3.19496436</span><span class=\"p\">],</span>\n",
        "                                     <span class=\"p\">[</span> <span class=\"mf\">5.04480727</span><span class=\"p\">]]))</span>\n",
        "\n",
        "\n",
        "    <span class=\"k\">def</span> <span class=\"nf\">test_iterative_not_close</span><span class=\"p\">(</span><span class=\"bp\">self</span><span class=\"p\">):</span>  \n",
        "\n",
        "        <span class=\"n\">A</span> <span class=\"o\">=</span> <span class=\"n\">matrix</span><span class=\"p\">([</span>\n",
        "            <span class=\"p\">[</span><span class=\"o\">-</span><span class=\"mf\">5.</span><span class=\"p\">,</span> <span class=\"mf\">1.</span><span class=\"p\">,</span> <span class=\"o\">-</span><span class=\"mf\">7.</span><span class=\"p\">,</span> <span class=\"mf\">8.</span><span class=\"p\">],</span>\n",
        "            <span class=\"p\">[</span><span class=\"mf\">0.</span><span class=\"p\">,</span> <span class=\"mf\">9.</span><span class=\"p\">,</span> <span class=\"o\">-</span><span class=\"mf\">3.</span><span class=\"p\">,</span> <span class=\"o\">-</span><span class=\"mf\">4.</span><span class=\"p\">],</span>\n",
        "            <span class=\"p\">[</span><span class=\"o\">-</span><span class=\"mf\">3.</span><span class=\"p\">,</span> <span class=\"mf\">7.</span><span class=\"p\">,</span> <span class=\"mf\">5.</span><span class=\"p\">,</span> <span class=\"mf\">0.</span><span class=\"p\">],</span>\n",
        "            <span class=\"p\">[</span><span class=\"mf\">0.</span><span class=\"p\">,</span> <span class=\"o\">-</span><span class=\"mf\">7.</span><span class=\"p\">,</span> <span class=\"o\">-</span><span class=\"mf\">11.</span><span class=\"p\">,</span> <span class=\"o\">-</span><span class=\"mf\">4.</span><span class=\"p\">]</span>\n",
        "        <span class=\"p\">])</span>\n",
        "\n",
        "        <span class=\"n\">B</span> <span class=\"o\">=</span> <span class=\"n\">matrix</span><span class=\"p\">([[</span><span class=\"mf\">33.</span><span class=\"p\">],</span>\n",
        "                    <span class=\"p\">[</span><span class=\"o\">-</span><span class=\"mf\">6.</span><span class=\"p\">],</span>\n",
        "                    <span class=\"p\">[</span><span class=\"o\">-</span><span class=\"mf\">13.</span><span class=\"p\">],</span>\n",
        "                    <span class=\"p\">[</span><span class=\"mf\">10.</span><span class=\"p\">]])</span>\n",
        "\n",
        "        <span class=\"bp\">self</span><span class=\"o\">.</span><span class=\"n\">assertRaises</span><span class=\"p\">(</span><span class=\"ne\">Exception</span><span class=\"p\">,</span> <span class=\"n\">iterative</span><span class=\"p\">,</span> <span class=\"p\">(</span><span class=\"n\">A</span><span class=\"p\">,</span> <span class=\"n\">B</span><span class=\"p\">,</span> <span class=\"mf\">0.000001</span><span class=\"p\">))</span>\n",
        "\n",
        "\n",
        "<span class=\"k\">if</span> <span class=\"n\">__name__</span> <span class=\"o\">==</span> <span class=\"s\">&#39;__main__&#39;</span><span class=\"p\">:</span>\n",
        "    <span class=\"n\">unittest</span><span class=\"o\">.</span><span class=\"n\">main</span><span class=\"p\">()</span>\n",
        "</pre></div>\n"
       ],
       "metadata": {},
       "output_type": "display_data",
       "text": [
        "<IPython.core.display.HTML at 0x7ce42b0>"
       ]
      }
     ],
     "prompt_number": 4
    },
    {
     "cell_type": "markdown",
     "metadata": {},
     "source": [
      "## \u0420\u0435\u0437\u0443\u043b\u044c\u0442\u0430\u0442\u0438"
     ]
    },
    {
     "cell_type": "code",
     "collapsed": false,
     "input": [
      "from l4 import *"
     ],
     "language": "python",
     "metadata": {},
     "outputs": [],
     "prompt_number": 5
    },
    {
     "cell_type": "code",
     "collapsed": false,
     "input": [
      "A = matrix([\n",
      "    [-5., 1., -7., 8.],\n",
      "    [0., 9., -3., -4.],\n",
      "    [-3., 7., 5., 0.],\n",
      "    [0., -7., -11., -4.]\n",
      "])\n",
      "\n",
      "B = matrix([[33.],\n",
      "            [-6.],\n",
      "            [-13.],\n",
      "            [10.]])"
     ],
     "language": "python",
     "metadata": {},
     "outputs": [],
     "prompt_number": 6
    },
    {
     "cell_type": "markdown",
     "metadata": {},
     "source": [
      "### \u0420\u043e\u0437\u0432'\u044f\u0437\u0430\u043d\u043d\u044f \u043c\u0435\u0442\u043e\u0434\u043e\u043c \u0413\u0430\u0443\u0441\u0430"
     ]
    },
    {
     "cell_type": "code",
     "collapsed": false,
     "input": [
      "Xg = A.I * B\n",
      "Xg"
     ],
     "language": "python",
     "metadata": {},
     "outputs": [
      {
       "metadata": {},
       "output_type": "pyout",
       "prompt_number": 7,
       "text": [
        "matrix([[  1.00000000e+00],\n",
        "        [ -2.22044605e-16],\n",
        "        [ -2.00000000e+00],\n",
        "        [  3.00000000e+00]])"
       ]
      }
     ],
     "prompt_number": 7
    },
    {
     "cell_type": "markdown",
     "metadata": {},
     "source": [
      "### \u041c\u0435\u0442\u043e\u0434 \u043f\u0440\u043e\u0441\u0442\u043e\u0457 \u0456\u0442\u0435\u0440\u0430\u0446\u0456\u0457"
     ]
    },
    {
     "cell_type": "code",
     "collapsed": false,
     "input": [
      "Xi = iterative(A, B, 0.000001)\n",
      "Xi"
     ],
     "language": "python",
     "metadata": {},
     "outputs": [
      {
       "ename": "Exception",
       "evalue": "\u0406\u0442\u0435\u0440\u0430\u0442\u0438\u0432\u043d\u0438\u0439 \u043c\u0435\u0442\u043e\u0434 \u043d\u0435 \u0441\u0445\u043e\u0434\u0438\u0442\u044c\u0441\u044f",
       "output_type": "pyerr",
       "traceback": [
        "\u001b[1;31m---------------------------------------------------------------------------\u001b[0m\n\u001b[1;31mException\u001b[0m                                 Traceback (most recent call last)",
        "\u001b[1;32m<ipython-input-8-066798a04be1>\u001b[0m in \u001b[0;36m<module>\u001b[1;34m()\u001b[0m\n\u001b[1;32m----> 1\u001b[1;33m \u001b[0mXi\u001b[0m \u001b[1;33m=\u001b[0m \u001b[0miterative\u001b[0m\u001b[1;33m(\u001b[0m\u001b[0mA\u001b[0m\u001b[1;33m,\u001b[0m \u001b[0mB\u001b[0m\u001b[1;33m,\u001b[0m \u001b[1;36m0.000001\u001b[0m\u001b[1;33m)\u001b[0m\u001b[1;33m\u001b[0m\u001b[0m\n\u001b[0m\u001b[0;32m      2\u001b[0m \u001b[0mXi\u001b[0m\u001b[1;33m\u001b[0m\u001b[0m\n",
        "\u001b[1;32mC:\\Users\\Mike\\Projects\\studies-octo-adventure\\lp\\c2_2\\ch\\l4.py\u001b[0m in \u001b[0;36miterative\u001b[1;34m(A, B, e)\u001b[0m\n\u001b[0;32m     14\u001b[0m \u001b[1;33m\u001b[0m\u001b[0m\n\u001b[0;32m     15\u001b[0m     \u001b[1;32mif\u001b[0m \u001b[1;32mnot\u001b[0m \u001b[1;33m(\u001b[0m\u001b[0mAd\u001b[0m\u001b[1;33m.\u001b[0m\u001b[0mT\u001b[0m \u001b[1;33m>=\u001b[0m \u001b[1;33m[\u001b[0m\u001b[0msum\u001b[0m\u001b[1;33m(\u001b[0m\u001b[0ml\u001b[0m\u001b[1;33m)\u001b[0m \u001b[1;32mfor\u001b[0m \u001b[0ml\u001b[0m \u001b[1;32min\u001b[0m \u001b[0marray\u001b[0m\u001b[1;33m(\u001b[0m\u001b[0mAa\u001b[0m\u001b[1;33m.\u001b[0m\u001b[0mtolist\u001b[0m\u001b[1;33m(\u001b[0m\u001b[1;33m)\u001b[0m\u001b[1;33m)\u001b[0m\u001b[1;33m]\u001b[0m\u001b[1;33m)\u001b[0m\u001b[1;33m.\u001b[0m\u001b[0mall\u001b[0m\u001b[1;33m(\u001b[0m\u001b[1;33m)\u001b[0m\u001b[1;33m:\u001b[0m\u001b[1;33m\u001b[0m\u001b[0m\n\u001b[1;32m---> 16\u001b[1;33m         \u001b[1;32mraise\u001b[0m \u001b[0mException\u001b[0m\u001b[1;33m(\u001b[0m\u001b[1;34mu'\u0406\u0442\u0435\u0440\u0430\u0442\u0438\u0432\u043d\u0438\u0439 \u043c\u0435\u0442\u043e\u0434 \u043d\u0435 \u0441\u0445\u043e\u0434\u0438\u0442\u044c\u0441\u044f'\u001b[0m\u001b[1;33m)\u001b[0m\u001b[1;33m\u001b[0m\u001b[0m\n\u001b[0m\u001b[0;32m     17\u001b[0m \u001b[1;33m\u001b[0m\u001b[0m\n\u001b[0;32m     18\u001b[0m     \u001b[0mBb\u001b[0m \u001b[1;33m=\u001b[0m \u001b[1;33m(\u001b[0m\u001b[0mB\u001b[0m \u001b[1;33m/\u001b[0m \u001b[0mAd\u001b[0m\u001b[1;33m)\u001b[0m\u001b[1;33m\u001b[0m\u001b[0m\n",
        "\u001b[1;31mException\u001b[0m: \u0406\u0442\u0435\u0440\u0430\u0442\u0438\u0432\u043d\u0438\u0439 \u043c\u0435\u0442\u043e\u0434 \u043d\u0435 \u0441\u0445\u043e\u0434\u0438\u0442\u044c\u0441\u044f"
       ]
      }
     ],
     "prompt_number": 8
    },
    {
     "cell_type": "markdown",
     "metadata": {},
     "source": [
      "### \u041c\u0435\u0442\u043e\u0434 \u0417\u0435\u0439\u0434\u0435\u043b\u044f"
     ]
    },
    {
     "cell_type": "code",
     "collapsed": false,
     "input": [
      "Xz = gaussseidel(A, B, B[:], 0.00001)\n",
      "Xz"
     ],
     "language": "python",
     "metadata": {},
     "outputs": []
    },
    {
     "cell_type": "markdown",
     "metadata": {},
     "source": [
      "### \u041c\u0435\u0442\u043e\u0434 \u043f\u043e \u0437\u0430\u043c\u043e\u0432\u0447\u0443\u0432\u0430\u043d\u043d\u044e"
     ]
    },
    {
     "cell_type": "code",
     "collapsed": false,
     "input": [
      "Xd = linalg.solve(A,B)\n",
      "Xd"
     ],
     "language": "python",
     "metadata": {},
     "outputs": []
    },
    {
     "cell_type": "markdown",
     "metadata": {},
     "source": [
      "## \u0412\u0438\u0441\u043d\u043e\u0432\u043a\u0438\n",
      "\u041e\u0437\u043d\u0430\u0439\u043e\u043c\u0438\u0432\u0441\u044f \u0456\u0437 \u0447\u0438\u0441\u0435\u043b\u044c\u043d\u0438\u043c\u0438 \u043c\u0435\u0442\u043e\u0434\u0430\u043c\u0438 \u0440\u043e\u0437\u0432'\u044f\u0437\u0443\u0432\u0430\u043d\u043d\u044f \u0441\u0438\u0441\u0442\u0435\u043c \u043b\u0456\u043d\u0456\u0439\u043d\u0438\u0445 \u0430\u043b\u0433\u0435\u0431\u0440\u0430\u0457\u0447\u043d\u0438\u0445 \u0440\u0456\u0432\u043d\u044f\u043d\u044c \u0442\u0430 \u0457\u0445 \u043f\u0440\u0430\u043a\u0442\u0438\u0447\u043d\u0438\u043c \u0437\u0430\u0441\u0442\u043e\u0441\u0443\u0432\u0430\u043d\u043d\u044f\u043c"
     ]
    }
   ],
   "metadata": {}
  }
 ]
}