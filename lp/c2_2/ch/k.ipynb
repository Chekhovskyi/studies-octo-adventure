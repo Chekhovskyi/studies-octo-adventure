{
 "metadata": {
  "name": "",
  "signature": "sha256:b40758640746425403774a37b58fc0343bd572af2413f7ad24058111781273b7"
 },
 "nbformat": 3,
 "nbformat_minor": 0,
 "worksheets": [
  {
   "cells": [
    {
     "cell_type": "markdown",
     "metadata": {},
     "source": [
      "## \u0417\u0430\u0432\u0434\u0430\u043d\u043d\u044f 1"
     ]
    },
    {
     "cell_type": "markdown",
     "metadata": {},
     "source": [
      "\u0420\u043e\u0437\u0432'\u044f\u0437\u0430\u0442\u0438 \u0441\u0438\u0441\u0442\u0435\u043c\u0443 \u043b\u0456\u043d\u0456\u0439\u043d\u0438\u0445 \u0430\u043b\u0433\u0435\u0431\u0440\u0430\u0457\u0447\u043d\u0438\u0445 \u0440\u0456\u0432\u043d\u044f\u043d\u044c \u043c\u0435\u0442\u043e\u0434\u043e\u043c \u0413\u0430\u0443\u0441\u0441\u0430 \u0437\u0430 \u0441\u0445\u0435\u043c\u043e\u044e \u0425\u0430\u043b\u0435\u0446\u044c\u043a\u043e\u0433\u043e \u043d\u0430\u0432\u0435\u0434\u0435\u043d\u0443 \u0443 \u0414\u043e\u0434\u0430\u0442\u043a\u0443 1 \u0437\u0433\u0456\u0434\u043d\u043e \u0432\u0430\u0440\u0456\u0430\u043d\u0442\u0443 \u0456\u043d\u0434\u0438\u0432\u0456\u0434\u0443\u0430\u043b\u044c\u043d\u043e\u0433\u043e \u0437\u0430\u0432\u0434\u0430\u043d\u043d\u044f \u043e\u0442\u0440\u0438\u043c\u0430\u043d\u043e\u0433\u043e \u0443 \u0432\u0438\u043a\u043b\u0430\u0434\u0430\u0447\u0430. \u041d\u0430\u0432\u0435\u0441\u0442\u0438 \u0445\u0456\u0434 \u0440\u043e\u0437\u0432\u2019\u044f\u0437\u043a\u0443. \u0417\u0434\u0456\u0439\u0441\u043d\u0438\u0442\u0438 \u043f\u0435\u0440\u0435\u0432\u0456\u0440\u043a\u0443 \u0440\u043e\u0437\u0432\u2019\u044f\u0437\u043a\u0443 \u0421\u041b\u0410\u0420 \u0437\u0430 \u0434\u043e\u043f\u043e\u043c\u043e\u0433\u043e\u044e 2 \u0456\u0442\u0435\u0440\u0430\u0446\u0456\u0439 \u043c\u0435\u0442\u043e\u0434\u043e\u043c \u043f\u0440\u043e\u0441\u0442\u043e\u0457 \u0456\u0442\u0435\u0440\u0430\u0446\u0456\u0457. \u041d\u0430\u043f\u0438\u0441\u0430\u0442\u0438 \u043f\u0440\u043e\u0433\u0440\u0430\u043c\u0443.\n",
      "![](k_1_task.png)"
     ]
    },
    {
     "cell_type": "markdown",
     "metadata": {},
     "source": [
      "### \u0420\u0456\u0448\u0435\u043d\u043d\u044f"
     ]
    },
    {
     "cell_type": "code",
     "collapsed": false,
     "input": [
      "from utils import *"
     ],
     "language": "python",
     "metadata": {},
     "outputs": [],
     "prompt_number": 1
    },
    {
     "cell_type": "code",
     "collapsed": false,
     "input": [
      "display_code(\"linalg_solve.py\")"
     ],
     "language": "python",
     "metadata": {},
     "outputs": [
      {
       "html": [
        "<style type='text/css'>.highlight .hll { background-color: #ffffcc }\n",
        ".highlight  { background: #f8f8f8; }\n",
        ".highlight .c { color: #408080; font-style: italic } /* Comment */\n",
        ".highlight .err { border: 1px solid #FF0000 } /* Error */\n",
        ".highlight .k { color: #008000; font-weight: bold } /* Keyword */\n",
        ".highlight .o { color: #666666 } /* Operator */\n",
        ".highlight .cm { color: #408080; font-style: italic } /* Comment.Multiline */\n",
        ".highlight .cp { color: #BC7A00 } /* Comment.Preproc */\n",
        ".highlight .c1 { color: #408080; font-style: italic } /* Comment.Single */\n",
        ".highlight .cs { color: #408080; font-style: italic } /* Comment.Special */\n",
        ".highlight .gd { color: #A00000 } /* Generic.Deleted */\n",
        ".highlight .ge { font-style: italic } /* Generic.Emph */\n",
        ".highlight .gr { color: #FF0000 } /* Generic.Error */\n",
        ".highlight .gh { color: #000080; font-weight: bold } /* Generic.Heading */\n",
        ".highlight .gi { color: #00A000 } /* Generic.Inserted */\n",
        ".highlight .go { color: #888888 } /* Generic.Output */\n",
        ".highlight .gp { color: #000080; font-weight: bold } /* Generic.Prompt */\n",
        ".highlight .gs { font-weight: bold } /* Generic.Strong */\n",
        ".highlight .gu { color: #800080; font-weight: bold } /* Generic.Subheading */\n",
        ".highlight .gt { color: #0044DD } /* Generic.Traceback */\n",
        ".highlight .kc { color: #008000; font-weight: bold } /* Keyword.Constant */\n",
        ".highlight .kd { color: #008000; font-weight: bold } /* Keyword.Declaration */\n",
        ".highlight .kn { color: #008000; font-weight: bold } /* Keyword.Namespace */\n",
        ".highlight .kp { color: #008000 } /* Keyword.Pseudo */\n",
        ".highlight .kr { color: #008000; font-weight: bold } /* Keyword.Reserved */\n",
        ".highlight .kt { color: #B00040 } /* Keyword.Type */\n",
        ".highlight .m { color: #666666 } /* Literal.Number */\n",
        ".highlight .s { color: #BA2121 } /* Literal.String */\n",
        ".highlight .na { color: #7D9029 } /* Name.Attribute */\n",
        ".highlight .nb { color: #008000 } /* Name.Builtin */\n",
        ".highlight .nc { color: #0000FF; font-weight: bold } /* Name.Class */\n",
        ".highlight .no { color: #880000 } /* Name.Constant */\n",
        ".highlight .nd { color: #AA22FF } /* Name.Decorator */\n",
        ".highlight .ni { color: #999999; font-weight: bold } /* Name.Entity */\n",
        ".highlight .ne { color: #D2413A; font-weight: bold } /* Name.Exception */\n",
        ".highlight .nf { color: #0000FF } /* Name.Function */\n",
        ".highlight .nl { color: #A0A000 } /* Name.Label */\n",
        ".highlight .nn { color: #0000FF; font-weight: bold } /* Name.Namespace */\n",
        ".highlight .nt { color: #008000; font-weight: bold } /* Name.Tag */\n",
        ".highlight .nv { color: #19177C } /* Name.Variable */\n",
        ".highlight .ow { color: #AA22FF; font-weight: bold } /* Operator.Word */\n",
        ".highlight .w { color: #bbbbbb } /* Text.Whitespace */\n",
        ".highlight .mf { color: #666666 } /* Literal.Number.Float */\n",
        ".highlight .mh { color: #666666 } /* Literal.Number.Hex */\n",
        ".highlight .mi { color: #666666 } /* Literal.Number.Integer */\n",
        ".highlight .mo { color: #666666 } /* Literal.Number.Oct */\n",
        ".highlight .sb { color: #BA2121 } /* Literal.String.Backtick */\n",
        ".highlight .sc { color: #BA2121 } /* Literal.String.Char */\n",
        ".highlight .sd { color: #BA2121; font-style: italic } /* Literal.String.Doc */\n",
        ".highlight .s2 { color: #BA2121 } /* Literal.String.Double */\n",
        ".highlight .se { color: #BB6622; font-weight: bold } /* Literal.String.Escape */\n",
        ".highlight .sh { color: #BA2121 } /* Literal.String.Heredoc */\n",
        ".highlight .si { color: #BB6688; font-weight: bold } /* Literal.String.Interpol */\n",
        ".highlight .sx { color: #008000 } /* Literal.String.Other */\n",
        ".highlight .sr { color: #BB6688 } /* Literal.String.Regex */\n",
        ".highlight .s1 { color: #BA2121 } /* Literal.String.Single */\n",
        ".highlight .ss { color: #19177C } /* Literal.String.Symbol */\n",
        ".highlight .bp { color: #008000 } /* Name.Builtin.Pseudo */\n",
        ".highlight .vc { color: #19177C } /* Name.Variable.Class */\n",
        ".highlight .vg { color: #19177C } /* Name.Variable.Global */\n",
        ".highlight .vi { color: #19177C } /* Name.Variable.Instance */\n",
        ".highlight .il { color: #666666 } /* Literal.Number.Integer.Long */</style><h3>File: linalg_solve.py</h3><div class=\"well highlight\"><pre><span class=\"c\"># coding=utf-8</span>\n",
        "<span class=\"kn\">from</span> <span class=\"nn\">numpy</span> <span class=\"kn\">import</span> <span class=\"o\">*</span>\n",
        "\n",
        "<span class=\"k\">def</span> <span class=\"nf\">iterative</span><span class=\"p\">(</span><span class=\"n\">A</span><span class=\"p\">,</span> <span class=\"n\">B</span><span class=\"p\">,</span> <span class=\"n\">e</span><span class=\"p\">):</span>\n",
        "    <span class=\"n\">numrows</span><span class=\"p\">,</span> <span class=\"n\">numcols</span> <span class=\"o\">=</span> <span class=\"n\">A</span><span class=\"o\">.</span><span class=\"n\">shape</span>\n",
        "\n",
        "    <span class=\"n\">Ad</span> <span class=\"o\">=</span> <span class=\"n\">A</span><span class=\"o\">.</span><span class=\"n\">diagonal</span><span class=\"p\">()</span><span class=\"o\">.</span><span class=\"n\">T</span>\n",
        "\n",
        "    <span class=\"c\"># DgZ = abs((eye(numcols) - 1))</span>\n",
        "    <span class=\"c\"># Aa = matrix([(-A[i]/A[i,i]).getA1() for i in range(numcols)] * DgZ)</span>\n",
        "    <span class=\"c\"># or use fill_diagonal</span>\n",
        "    <span class=\"n\">Aa</span> <span class=\"o\">=</span> <span class=\"n\">matrix</span><span class=\"p\">([[(</span><span class=\"mi\">0</span> <span class=\"k\">if</span> <span class=\"n\">i</span><span class=\"o\">==</span><span class=\"n\">j</span> <span class=\"k\">else</span> <span class=\"p\">(</span><span class=\"o\">-</span><span class=\"n\">A</span><span class=\"p\">[</span><span class=\"n\">i</span><span class=\"p\">,</span> <span class=\"n\">j</span><span class=\"p\">]</span><span class=\"o\">/</span><span class=\"n\">A</span><span class=\"p\">[</span><span class=\"n\">i</span><span class=\"p\">,</span> <span class=\"n\">i</span><span class=\"p\">]))</span> <span class=\"k\">for</span> <span class=\"n\">j</span> <span class=\"ow\">in</span> <span class=\"nb\">range</span><span class=\"p\">(</span><span class=\"n\">numcols</span><span class=\"p\">)]</span>\n",
        "                        <span class=\"k\">for</span> <span class=\"n\">i</span> <span class=\"ow\">in</span> <span class=\"nb\">range</span><span class=\"p\">(</span><span class=\"n\">numrows</span><span class=\"p\">)])</span>\n",
        "\n",
        "    <span class=\"k\">if</span> <span class=\"ow\">not</span> <span class=\"p\">(</span><span class=\"n\">Ad</span><span class=\"o\">.</span><span class=\"n\">T</span> <span class=\"o\">&gt;=</span> <span class=\"p\">[</span><span class=\"nb\">sum</span><span class=\"p\">(</span><span class=\"n\">l</span><span class=\"p\">)</span> <span class=\"k\">for</span> <span class=\"n\">l</span> <span class=\"ow\">in</span> <span class=\"n\">array</span><span class=\"p\">(</span><span class=\"n\">Aa</span><span class=\"o\">.</span><span class=\"n\">tolist</span><span class=\"p\">())])</span><span class=\"o\">.</span><span class=\"n\">all</span><span class=\"p\">():</span>\n",
        "        <span class=\"k\">raise</span> <span class=\"ne\">Exception</span><span class=\"p\">(</span><span class=\"s\">u&#39;\u0406\u0442\u0435\u0440\u0430\u0442\u0438\u0432\u043d\u0438\u0439 \u043c\u0435\u0442\u043e\u0434 \u043d\u0435 \u0441\u0445\u043e\u0434\u0438\u0442\u044c\u0441\u044f&#39;</span><span class=\"p\">)</span>\n",
        "\n",
        "    <span class=\"n\">Bb</span> <span class=\"o\">=</span> <span class=\"p\">(</span><span class=\"n\">B</span> <span class=\"o\">/</span> <span class=\"n\">Ad</span><span class=\"p\">)</span>\n",
        "    <span class=\"n\">Xc</span> <span class=\"o\">=</span> <span class=\"n\">B</span><span class=\"p\">[:]</span>\n",
        "\n",
        "    <span class=\"k\">def</span> <span class=\"nf\">all_right</span><span class=\"p\">(</span><span class=\"n\">Xc</span><span class=\"p\">):</span>\n",
        "        <span class=\"k\">return</span> <span class=\"nb\">abs</span><span class=\"p\">(</span><span class=\"nb\">sum</span><span class=\"p\">((</span><span class=\"n\">A</span> <span class=\"o\">*</span> <span class=\"n\">Xc</span><span class=\"p\">)</span> <span class=\"o\">-</span> <span class=\"n\">B</span><span class=\"p\">))</span> <span class=\"o\">&lt;</span> <span class=\"n\">e</span>\n",
        "\n",
        "    <span class=\"c\">#for i in range(10):</span>\n",
        "    <span class=\"k\">while</span> <span class=\"ow\">not</span> <span class=\"n\">all_right</span><span class=\"p\">(</span><span class=\"n\">Xc</span><span class=\"p\">):</span>\n",
        "        <span class=\"n\">Xc</span> <span class=\"o\">=</span> <span class=\"n\">Bb</span> <span class=\"o\">+</span> <span class=\"p\">(</span><span class=\"n\">Aa</span> <span class=\"o\">*</span> <span class=\"n\">Xc</span><span class=\"p\">)</span>\n",
        "        <span class=\"c\">#Xc = (1/Ad) * (B + (Aa * Xc))</span>\n",
        "\n",
        "    <span class=\"k\">return</span> <span class=\"n\">Xc</span>\n",
        "\n",
        "\n",
        "<span class=\"k\">def</span> <span class=\"nf\">is_seidel_conv</span><span class=\"p\">(</span><span class=\"n\">A</span><span class=\"p\">):</span>\n",
        "    <span class=\"n\">n</span><span class=\"p\">,</span><span class=\"n\">m</span> <span class=\"o\">=</span> <span class=\"n\">A</span><span class=\"o\">.</span><span class=\"n\">shape</span>    \n",
        "    <span class=\"k\">for</span> <span class=\"n\">i</span> <span class=\"ow\">in</span> <span class=\"nb\">range</span><span class=\"p\">(</span><span class=\"n\">n</span><span class=\"p\">):</span>        \n",
        "      <span class=\"k\">for</span> <span class=\"n\">j</span> <span class=\"ow\">in</span> <span class=\"nb\">range</span><span class=\"p\">(</span><span class=\"n\">m</span><span class=\"p\">):</span>\n",
        "        <span class=\"k\">if</span> <span class=\"n\">j</span> <span class=\"o\">!=</span> <span class=\"n\">i</span><span class=\"p\">:</span>\n",
        "            <span class=\"c\"># TODO incorrect: Should be summ of other items</span>\n",
        "          <span class=\"k\">if</span> <span class=\"nb\">abs</span><span class=\"p\">(</span><span class=\"n\">A</span><span class=\"p\">[</span><span class=\"n\">i</span><span class=\"p\">,</span> <span class=\"n\">j</span><span class=\"p\">])</span> <span class=\"o\">&gt;=</span> <span class=\"nb\">abs</span><span class=\"p\">(</span><span class=\"n\">A</span><span class=\"p\">[</span><span class=\"n\">i</span><span class=\"p\">,</span> <span class=\"n\">i</span><span class=\"p\">]):</span>\n",
        "            <span class=\"k\">return</span> <span class=\"bp\">False</span>\n",
        "    <span class=\"k\">return</span> <span class=\"bp\">True</span>\n",
        "\n",
        "\n",
        "<span class=\"k\">def</span> <span class=\"nf\">gaussseidel</span><span class=\"p\">(</span><span class=\"n\">A</span><span class=\"p\">,</span> <span class=\"n\">b</span><span class=\"p\">,</span> <span class=\"n\">x</span><span class=\"p\">,</span> <span class=\"n\">e</span><span class=\"p\">):</span>\n",
        "\n",
        "    <span class=\"k\">def</span> <span class=\"nf\">error</span><span class=\"p\">(</span><span class=\"n\">x1</span><span class=\"p\">,</span> <span class=\"n\">x</span><span class=\"p\">):</span>\n",
        "        <span class=\"k\">return</span> <span class=\"nb\">max</span><span class=\"p\">(</span><span class=\"nb\">abs</span><span class=\"p\">(</span><span class=\"n\">x1</span> <span class=\"o\">-</span> <span class=\"n\">x</span><span class=\"p\">))</span>\n",
        "\n",
        "    <span class=\"n\">n</span><span class=\"p\">,</span> <span class=\"n\">m</span> <span class=\"o\">=</span> <span class=\"n\">A</span><span class=\"o\">.</span><span class=\"n\">shape</span>\n",
        "\n",
        "    <span class=\"n\">Ad</span> <span class=\"o\">=</span> <span class=\"n\">A</span><span class=\"o\">.</span><span class=\"n\">diagonal</span><span class=\"p\">()</span><span class=\"o\">.</span><span class=\"n\">T</span>\n",
        "    <span class=\"n\">bb</span> <span class=\"o\">=</span> <span class=\"p\">(</span><span class=\"n\">b</span> <span class=\"o\">/</span> <span class=\"n\">Ad</span><span class=\"p\">)</span>    \n",
        "\n",
        "    <span class=\"n\">Aa</span> <span class=\"o\">=</span> <span class=\"n\">matrix</span><span class=\"p\">([[(</span><span class=\"mi\">0</span> <span class=\"k\">if</span> <span class=\"n\">i</span><span class=\"o\">==</span><span class=\"n\">j</span> <span class=\"k\">else</span> <span class=\"p\">(</span><span class=\"n\">A</span><span class=\"p\">[</span><span class=\"n\">i</span><span class=\"p\">,</span> <span class=\"n\">j</span><span class=\"p\">]</span><span class=\"o\">/</span><span class=\"n\">A</span><span class=\"p\">[</span><span class=\"n\">i</span><span class=\"p\">,</span> <span class=\"n\">i</span><span class=\"p\">]))</span> <span class=\"k\">for</span> <span class=\"n\">j</span> <span class=\"ow\">in</span> <span class=\"nb\">range</span><span class=\"p\">(</span><span class=\"n\">m</span><span class=\"p\">)]</span>\n",
        "                        <span class=\"k\">for</span> <span class=\"n\">i</span> <span class=\"ow\">in</span> <span class=\"nb\">range</span><span class=\"p\">(</span><span class=\"n\">n</span><span class=\"p\">)])</span>\n",
        "\n",
        "    <span class=\"n\">xx</span> <span class=\"o\">=</span> <span class=\"n\">matrix</span><span class=\"p\">(</span><span class=\"n\">x</span><span class=\"p\">,</span> <span class=\"n\">copy</span><span class=\"o\">=</span><span class=\"bp\">True</span><span class=\"p\">)</span>    \n",
        "\n",
        "    <span class=\"k\">for</span> <span class=\"n\">counter</span> <span class=\"ow\">in</span> <span class=\"nb\">range</span><span class=\"p\">(</span><span class=\"mi\">10</span><span class=\"p\">):</span>        \n",
        "        <span class=\"n\">x_prev</span> <span class=\"o\">=</span> <span class=\"n\">copy</span><span class=\"p\">(</span><span class=\"n\">xx</span><span class=\"p\">)</span>\n",
        "        <span class=\"k\">for</span> <span class=\"n\">i</span> <span class=\"ow\">in</span> <span class=\"nb\">range</span><span class=\"p\">(</span><span class=\"n\">n</span><span class=\"p\">):</span>\n",
        "                        \n",
        "            <span class=\"n\">sum_a</span> <span class=\"o\">=</span> <span class=\"nb\">sum</span><span class=\"p\">(</span><span class=\"n\">Aa</span><span class=\"p\">[</span><span class=\"n\">i</span><span class=\"p\">,</span> <span class=\"p\">:</span><span class=\"n\">i</span><span class=\"p\">]</span><span class=\"o\">.</span><span class=\"n\">getA1</span><span class=\"p\">()</span> <span class=\"o\">*</span> <span class=\"n\">xx</span><span class=\"p\">[:</span><span class=\"n\">i</span><span class=\"p\">]</span><span class=\"o\">.</span><span class=\"n\">getA1</span><span class=\"p\">())</span>\n",
        "            <span class=\"n\">sum_b</span> <span class=\"o\">=</span> <span class=\"nb\">sum</span><span class=\"p\">(</span><span class=\"n\">Aa</span><span class=\"p\">[</span><span class=\"n\">i</span><span class=\"p\">,</span> <span class=\"n\">i</span><span class=\"o\">+</span><span class=\"mi\">1</span><span class=\"p\">:]</span><span class=\"o\">.</span><span class=\"n\">getA1</span><span class=\"p\">()</span> <span class=\"o\">*</span> <span class=\"n\">xx</span><span class=\"p\">[</span><span class=\"n\">i</span><span class=\"o\">+</span><span class=\"mi\">1</span><span class=\"p\">:]</span><span class=\"o\">.</span><span class=\"n\">getA1</span><span class=\"p\">())</span>\n",
        "            \n",
        "            <span class=\"n\">xn</span> <span class=\"o\">=</span> <span class=\"n\">bb</span><span class=\"p\">[</span><span class=\"n\">i</span><span class=\"p\">]</span> <span class=\"o\">-</span> <span class=\"p\">(</span><span class=\"n\">sum_a</span> <span class=\"o\">+</span> <span class=\"n\">sum_b</span><span class=\"p\">);</span>\n",
        "\n",
        "            <span class=\"c\"># print(i, bb[i], &quot;L&quot;, Aa[i, :i].getA1(), xx[:i].getA1(), &quot;*&quot;, Aa[i, :i].getA1() * xx[:i].getA1(),</span>\n",
        "            <span class=\"c\">#                 &quot;R&quot;, Aa[i, i+1:].getA1(), xx[i+1:].getA1(), &quot;*&quot;, Aa[i, i+1:].getA1() * xx[i+1:].getA1(), &quot;=&quot;, xn)</span>\n",
        "            <span class=\"n\">xx</span><span class=\"p\">[</span><span class=\"n\">i</span><span class=\"p\">]</span> <span class=\"o\">=</span> <span class=\"n\">xn</span>            \n",
        "        <span class=\"k\">if</span> <span class=\"n\">error</span><span class=\"p\">(</span><span class=\"n\">x_prev</span><span class=\"p\">,</span> <span class=\"n\">xx</span><span class=\"p\">)</span> <span class=\"o\">&lt;=</span> <span class=\"n\">e</span><span class=\"p\">:</span>\n",
        "            <span class=\"k\">return</span> <span class=\"n\">xx</span>\n",
        "        <span class=\"c\"># print(&quot;X&quot;, xx)</span>\n",
        "    <span class=\"k\">else</span><span class=\"p\">:</span>        \n",
        "        <span class=\"k\">raise</span> <span class=\"ne\">Exception</span><span class=\"p\">(</span><span class=\"s\">&quot;\u041f\u043e\u0442\u0440\u0456\u0431\u043d\u043e \u0431\u0456\u043b\u044c\u0448\u0435 10\u0442\u0438 \u0456\u0442\u0435\u0440\u0430\u0446\u0456\u0439, \u0441\u0445\u043e\u0436\u0435 \u0441\u0438\u0441\u0442\u0435\u043c\u0430 \u043d\u0435 \u0441\u0445\u043e\u0434\u0438\u0442\u044c\u0441\u044f.&quot;</span><span class=\"p\">)</span>\n",
        "\n",
        "    <span class=\"k\">return</span> <span class=\"n\">xx</span>\n",
        "\n",
        "\n",
        "<span class=\"k\">def</span> <span class=\"nf\">gaussseidel_matrix</span><span class=\"p\">(</span><span class=\"n\">A</span><span class=\"p\">,</span> <span class=\"n\">B</span><span class=\"p\">):</span>\n",
        "    <span class=\"k\">print</span><span class=\"p\">(</span><span class=\"n\">tril</span><span class=\"p\">(</span><span class=\"n\">A</span><span class=\"p\">))</span>\n",
        "    <span class=\"k\">print</span><span class=\"p\">(</span><span class=\"n\">triu</span><span class=\"p\">(</span><span class=\"n\">A</span><span class=\"p\">))</span>\n",
        "    <span class=\"n\">n</span><span class=\"p\">,</span><span class=\"n\">m</span> <span class=\"o\">=</span> <span class=\"n\">A</span><span class=\"o\">.</span><span class=\"n\">shape</span>  \n",
        "    <span class=\"n\">GgZ</span> <span class=\"o\">=</span> <span class=\"nb\">abs</span><span class=\"p\">((</span><span class=\"n\">eye</span><span class=\"p\">(</span><span class=\"n\">n</span><span class=\"p\">)</span> <span class=\"o\">-</span> <span class=\"mi\">1</span><span class=\"p\">))</span>\n",
        "    <span class=\"k\">print</span><span class=\"p\">(</span><span class=\"n\">GgZ</span><span class=\"p\">)</span>\n",
        "    <span class=\"n\">U</span> <span class=\"o\">=</span> <span class=\"n\">triu</span><span class=\"p\">(</span><span class=\"n\">A</span><span class=\"p\">)</span> <span class=\"o\">**</span> <span class=\"n\">GgZ</span>\n",
        "    <span class=\"k\">print</span><span class=\"p\">(</span><span class=\"n\">U</span><span class=\"p\">)</span>\n",
        "</pre></div>\n"
       ],
       "metadata": {},
       "output_type": "display_data",
       "text": [
        "<IPython.core.display.HTML at 0x38068d0>"
       ]
      }
     ],
     "prompt_number": 2
    },
    {
     "cell_type": "code",
     "collapsed": false,
     "input": [
      "from linalg_solve import *"
     ],
     "language": "python",
     "metadata": {},
     "outputs": [],
     "prompt_number": 3
    },
    {
     "cell_type": "code",
     "collapsed": false,
     "input": [
      "A = matrix([\n",
      "    [-15.0, -2.0, 4.0, -4.0],\n",
      "    [1.0, 9.0, -5.0, -1.0],\n",
      "    [1.0, 3.0, 14.0, -3.0],\n",
      "    [2.0, -1.0, 1.0, -5.0]\n",
      "])\n",
      "\n",
      "B = matrix([[9.0],\n",
      "            [-4.0],\n",
      "            [6.0],\n",
      "            [-7.0]])"
     ],
     "language": "python",
     "metadata": {},
     "outputs": [],
     "prompt_number": 4
    },
    {
     "cell_type": "markdown",
     "metadata": {},
     "source": [
      "#### \u0420\u0456\u0448\u0435\u043d\u043d\u044f \u0432\u0431\u0443\u0434\u043e\u0432\u0430\u043d\u0438\u043c"
     ]
    },
    {
     "cell_type": "code",
     "collapsed": false,
     "input": [
      "Xd = linalg.solve(A,B)\n",
      "Xd"
     ],
     "language": "python",
     "metadata": {},
     "outputs": [
      {
       "metadata": {},
       "output_type": "pyout",
       "prompt_number": 5,
       "text": [
        "matrix([[-0.75547945],\n",
        "        [ 0.16541096],\n",
        "        [ 0.70547945],\n",
        "        [ 1.20582192]])"
       ]
      }
     ],
     "prompt_number": 5
    },
    {
     "cell_type": "markdown",
     "metadata": {},
     "source": [
      "#### \u0420\u0456\u0448\u0435\u043d\u043d\u044f \u0437\u0430 \u0413\u0430\u0443\u0441\u043e\u043c-\u0417\u0435\u0434\u0435\u043b\u0435\u043c"
     ]
    },
    {
     "cell_type": "code",
     "collapsed": false,
     "input": [
      "Xz = gaussseidel(A, B, B[:], 0.001)\n",
      "Xz"
     ],
     "language": "python",
     "metadata": {},
     "outputs": [
      {
       "metadata": {},
       "output_type": "pyout",
       "prompt_number": 6,
       "text": [
        "matrix([[-0.75542113],\n",
        "        [ 0.16545089],\n",
        "        [ 0.70545666],\n",
        "        [ 1.2058327 ]])"
       ]
      }
     ],
     "prompt_number": 6
    }
   ],
   "metadata": {}
  }
 ]
}