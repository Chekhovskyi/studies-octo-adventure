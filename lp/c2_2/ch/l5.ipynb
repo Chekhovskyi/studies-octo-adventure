{
 "metadata": {
  "name": "",
  "signature": "sha256:0583858a4a46066950ae59a5fb0725829b498994add6471d1660a87e0d317a86"
 },
 "nbformat": 3,
 "nbformat_minor": 0,
 "worksheets": [
  {
   "cells": [
    {
     "cell_type": "markdown",
     "metadata": {},
     "source": [
      "# \u0420\u0435\u0437\u0443\u043b\u044c\u0442\u0430\u0442"
     ]
    },
    {
     "cell_type": "code",
     "collapsed": false,
     "input": [
      "%matplotlib inline\n",
      "from pylab import *\n",
      "from numpy import *\n",
      "from utils import *\n",
      "from l5 import *"
     ],
     "language": "python",
     "metadata": {},
     "outputs": [],
     "prompt_number": 1
    },
    {
     "cell_type": "code",
     "collapsed": false,
     "input": [
      "f = lambda x: 2.0*(x**4.0) - (x**2.0) - 10.0\n",
      "f1 = lambda x: 8.0*(x**3.0) - 2.0*x\n",
      "a = 1.0\n",
      "b = 2.0\n",
      "e = 0.001"
     ],
     "language": "python",
     "metadata": {},
     "outputs": [],
     "prompt_number": 2
    },
    {
     "cell_type": "heading",
     "level": 2,
     "metadata": {},
     "source": [
      "\u041c\u0435\u0442\u043e\u0434 \u0431\u0456\u0441\u0435\u043a\u0446\u0456\u0457"
     ]
    },
    {
     "cell_type": "code",
     "collapsed": false,
     "input": [
      "bisection(f, a, b, e)"
     ],
     "language": "python",
     "metadata": {},
     "outputs": [
      {
       "metadata": {},
       "output_type": "pyout",
       "prompt_number": 3,
       "text": [
        "1.58111572265625"
       ]
      }
     ],
     "prompt_number": 3
    },
    {
     "cell_type": "heading",
     "level": 2,
     "metadata": {},
     "source": [
      "\u041c\u0435\u0442\u043e\u0434 \u0445\u043e\u0440\u0434"
     ]
    },
    {
     "cell_type": "code",
     "collapsed": false,
     "input": [
      "hord(f, a, b, e)"
     ],
     "language": "python",
     "metadata": {},
     "outputs": [
      {
       "metadata": {},
       "output_type": "pyout",
       "prompt_number": 4,
       "text": [
        "1.581131832931482"
       ]
      }
     ],
     "prompt_number": 4
    },
    {
     "cell_type": "heading",
     "level": 2,
     "metadata": {},
     "source": [
      "\u041c\u0435\u0442\u043e\u0434 \u041d\u044c\u044e\u0442\u043e\u043d\u0430(\u0414\u043e\u0442\u0438\u0447\u043d\u0438\u0445)"
     ]
    },
    {
     "cell_type": "code",
     "collapsed": false,
     "input": [
      "newton(f, f1, a, b, e)"
     ],
     "language": "python",
     "metadata": {},
     "outputs": [
      {
       "metadata": {},
       "output_type": "pyout",
       "prompt_number": 5,
       "text": [
        "1.5811388562058806"
       ]
      }
     ],
     "prompt_number": 5
    },
    {
     "cell_type": "heading",
     "level": 2,
     "metadata": {},
     "source": [
      "\u041c\u0435\u0442\u043e\u0434 \u043f\u0440\u043e\u0441\u0442\u0438\u0457 \u0456\u0442\u0435\u0440\u0430\u0446\u0456\u0439"
     ]
    },
    {
     "cell_type": "code",
     "collapsed": false,
     "input": [
      "fixed_point(f, (a + b)/2, e)"
     ],
     "language": "python",
     "metadata": {},
     "outputs": [
      {
       "ename": "Exception",
       "evalue": "\u041d\u0435\u043c\u043e\u0436\u043b\u0438\u0432\u043e \u043f\u043e\u0440\u0430\u0445\u0443\u0432\u0430\u0442\u0438. \u041d\u0435\u0437\u0431\u0456\u0436\u043d\u0430...",
       "output_type": "pyerr",
       "traceback": [
        "\u001b[1;31m---------------------------------------------------------------------------\u001b[0m\n\u001b[1;31mException\u001b[0m                                 Traceback (most recent call last)",
        "\u001b[1;32m<ipython-input-6-0650214b68db>\u001b[0m in \u001b[0;36m<module>\u001b[1;34m()\u001b[0m\n\u001b[1;32m----> 1\u001b[1;33m \u001b[0mfixed_point\u001b[0m\u001b[1;33m(\u001b[0m\u001b[0mf\u001b[0m\u001b[1;33m,\u001b[0m \u001b[1;33m(\u001b[0m\u001b[0ma\u001b[0m \u001b[1;33m+\u001b[0m \u001b[0mb\u001b[0m\u001b[1;33m)\u001b[0m\u001b[1;33m/\u001b[0m\u001b[1;36m2\u001b[0m\u001b[1;33m,\u001b[0m \u001b[0me\u001b[0m\u001b[1;33m)\u001b[0m\u001b[1;33m\u001b[0m\u001b[0m\n\u001b[0m",
        "\u001b[1;32mC:\\Users\\Mike\\Projects\\studies-octo-adventure\\lp\\c2_2\\ch\\l5.py\u001b[0m in \u001b[0;36mfixed_point\u001b[1;34m(f, x0, e)\u001b[0m\n\u001b[0;32m     71\u001b[0m \u001b[1;33m\u001b[0m\u001b[0m\n\u001b[0;32m     72\u001b[0m         \u001b[1;32mif\u001b[0m \u001b[0mabs\u001b[0m\u001b[1;33m(\u001b[0m\u001b[0mx0\u001b[0m \u001b[1;33m-\u001b[0m \u001b[0mx\u001b[0m\u001b[1;33m)\u001b[0m \u001b[1;33m>\u001b[0m \u001b[1;36m1000.0\u001b[0m\u001b[1;33m:\u001b[0m\u001b[1;33m\u001b[0m\u001b[0m\n\u001b[1;32m---> 73\u001b[1;33m             \u001b[1;32mraise\u001b[0m \u001b[0mException\u001b[0m\u001b[1;33m(\u001b[0m\u001b[1;34mu\"\u041d\u0435\u043c\u043e\u0436\u043b\u0438\u0432\u043e \u043f\u043e\u0440\u0430\u0445\u0443\u0432\u0430\u0442\u0438. \u041d\u0435\u0437\u0431\u0456\u0436\u043d\u0430...\"\u001b[0m\u001b[1;33m)\u001b[0m\u001b[1;33m\u001b[0m\u001b[0m\n\u001b[0m\u001b[0;32m     74\u001b[0m \u001b[1;33m\u001b[0m\u001b[0m\n\u001b[0;32m     75\u001b[0m         \u001b[0mxc\u001b[0m \u001b[1;33m=\u001b[0m \u001b[0mx\u001b[0m\u001b[1;33m\u001b[0m\u001b[0m\n",
        "\u001b[1;31mException\u001b[0m: \u041d\u0435\u043c\u043e\u0436\u043b\u0438\u0432\u043e \u043f\u043e\u0440\u0430\u0445\u0443\u0432\u0430\u0442\u0438. \u041d\u0435\u0437\u0431\u0456\u0436\u043d\u0430..."
       ]
      }
     ],
     "prompt_number": 6
    },
    {
     "cell_type": "markdown",
     "metadata": {},
     "source": [
      "# \u0412\u0438\u0441\u043d\u043e\u0432\u043a\u0438\n",
      "\u041e\u0437\u043d\u0430\u0439\u043e\u043c\u0438\u0432\u0441\u044f \u0456\u0437 \u0447\u0438\u0441\u0435\u043b\u044c\u043d\u0438\u043c\u0438 \u043c\u0435\u0442\u043e\u0434\u0430\u043c\u0438 \u0440\u043e\u0437\u0432'\u044f\u0437\u0443\u0432\u0430\u043d\u043d\u044f \u0441\u0438\u0441\u0442\u0435\u043c \u043b\u0456\u043d\u0456\u0439\u043d\u0438\u0445 \u0430\u043b\u0433\u0435\u0431\u0440\u0430\u0457\u0447\u043d\u0438\u0445 \u0440\u0456\u0432\u043d\u044f\u043d\u044c \u0442\u0430 \u0457\u0445 \u043f\u0440\u0430\u043a\u0442\u0438\u0447\u043d\u0438\u043c \u0437\u0430\u0441\u0442\u043e\u0441\u0443\u0432\u0430\u043d\u043d\u044f\u043c."
     ]
    }
   ],
   "metadata": {}
  }
 ]
}