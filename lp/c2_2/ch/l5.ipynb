{
 "metadata": {
  "name": "",
  "signature": "sha256:e95371b671e8f280ccacc7d1bb0bfcafdd693f49ea62b1ed61f32a301f3f94be"
 },
 "nbformat": 3,
 "nbformat_minor": 0,
 "worksheets": [
  {
   "cells": [
    {
     "cell_type": "markdown",
     "metadata": {},
     "source": [
      "## \u0420\u0456\u0448\u0435\u043d\u043d\u044f"
     ]
    },
    {
     "cell_type": "code",
     "collapsed": false,
     "input": [
      "%matplotlib inline\n",
      "from utils import *"
     ],
     "language": "python",
     "metadata": {},
     "outputs": [],
     "prompt_number": 1
    },
    {
     "cell_type": "code",
     "collapsed": false,
     "input": [
      "display_code(\"l5.py\")"
     ],
     "language": "python",
     "metadata": {},
     "outputs": [
      {
       "html": [
        "<style type='text/css'>.highlight .hll { background-color: #ffffcc }\n",
        ".highlight  { background: #f8f8f8; }\n",
        ".highlight .c { color: #408080; font-style: italic } /* Comment */\n",
        ".highlight .err { border: 1px solid #FF0000 } /* Error */\n",
        ".highlight .k { color: #008000; font-weight: bold } /* Keyword */\n",
        ".highlight .o { color: #666666 } /* Operator */\n",
        ".highlight .cm { color: #408080; font-style: italic } /* Comment.Multiline */\n",
        ".highlight .cp { color: #BC7A00 } /* Comment.Preproc */\n",
        ".highlight .c1 { color: #408080; font-style: italic } /* Comment.Single */\n",
        ".highlight .cs { color: #408080; font-style: italic } /* Comment.Special */\n",
        ".highlight .gd { color: #A00000 } /* Generic.Deleted */\n",
        ".highlight .ge { font-style: italic } /* Generic.Emph */\n",
        ".highlight .gr { color: #FF0000 } /* Generic.Error */\n",
        ".highlight .gh { color: #000080; font-weight: bold } /* Generic.Heading */\n",
        ".highlight .gi { color: #00A000 } /* Generic.Inserted */\n",
        ".highlight .go { color: #888888 } /* Generic.Output */\n",
        ".highlight .gp { color: #000080; font-weight: bold } /* Generic.Prompt */\n",
        ".highlight .gs { font-weight: bold } /* Generic.Strong */\n",
        ".highlight .gu { color: #800080; font-weight: bold } /* Generic.Subheading */\n",
        ".highlight .gt { color: #0044DD } /* Generic.Traceback */\n",
        ".highlight .kc { color: #008000; font-weight: bold } /* Keyword.Constant */\n",
        ".highlight .kd { color: #008000; font-weight: bold } /* Keyword.Declaration */\n",
        ".highlight .kn { color: #008000; font-weight: bold } /* Keyword.Namespace */\n",
        ".highlight .kp { color: #008000 } /* Keyword.Pseudo */\n",
        ".highlight .kr { color: #008000; font-weight: bold } /* Keyword.Reserved */\n",
        ".highlight .kt { color: #B00040 } /* Keyword.Type */\n",
        ".highlight .m { color: #666666 } /* Literal.Number */\n",
        ".highlight .s { color: #BA2121 } /* Literal.String */\n",
        ".highlight .na { color: #7D9029 } /* Name.Attribute */\n",
        ".highlight .nb { color: #008000 } /* Name.Builtin */\n",
        ".highlight .nc { color: #0000FF; font-weight: bold } /* Name.Class */\n",
        ".highlight .no { color: #880000 } /* Name.Constant */\n",
        ".highlight .nd { color: #AA22FF } /* Name.Decorator */\n",
        ".highlight .ni { color: #999999; font-weight: bold } /* Name.Entity */\n",
        ".highlight .ne { color: #D2413A; font-weight: bold } /* Name.Exception */\n",
        ".highlight .nf { color: #0000FF } /* Name.Function */\n",
        ".highlight .nl { color: #A0A000 } /* Name.Label */\n",
        ".highlight .nn { color: #0000FF; font-weight: bold } /* Name.Namespace */\n",
        ".highlight .nt { color: #008000; font-weight: bold } /* Name.Tag */\n",
        ".highlight .nv { color: #19177C } /* Name.Variable */\n",
        ".highlight .ow { color: #AA22FF; font-weight: bold } /* Operator.Word */\n",
        ".highlight .w { color: #bbbbbb } /* Text.Whitespace */\n",
        ".highlight .mf { color: #666666 } /* Literal.Number.Float */\n",
        ".highlight .mh { color: #666666 } /* Literal.Number.Hex */\n",
        ".highlight .mi { color: #666666 } /* Literal.Number.Integer */\n",
        ".highlight .mo { color: #666666 } /* Literal.Number.Oct */\n",
        ".highlight .sb { color: #BA2121 } /* Literal.String.Backtick */\n",
        ".highlight .sc { color: #BA2121 } /* Literal.String.Char */\n",
        ".highlight .sd { color: #BA2121; font-style: italic } /* Literal.String.Doc */\n",
        ".highlight .s2 { color: #BA2121 } /* Literal.String.Double */\n",
        ".highlight .se { color: #BB6622; font-weight: bold } /* Literal.String.Escape */\n",
        ".highlight .sh { color: #BA2121 } /* Literal.String.Heredoc */\n",
        ".highlight .si { color: #BB6688; font-weight: bold } /* Literal.String.Interpol */\n",
        ".highlight .sx { color: #008000 } /* Literal.String.Other */\n",
        ".highlight .sr { color: #BB6688 } /* Literal.String.Regex */\n",
        ".highlight .s1 { color: #BA2121 } /* Literal.String.Single */\n",
        ".highlight .ss { color: #19177C } /* Literal.String.Symbol */\n",
        ".highlight .bp { color: #008000 } /* Name.Builtin.Pseudo */\n",
        ".highlight .vc { color: #19177C } /* Name.Variable.Class */\n",
        ".highlight .vg { color: #19177C } /* Name.Variable.Global */\n",
        ".highlight .vi { color: #19177C } /* Name.Variable.Instance */\n",
        ".highlight .il { color: #666666 } /* Literal.Number.Integer.Long */</style><h3>File: l5.py</h3><div class=\"well highlight\"><pre><span class=\"c\"># coding=utf-8</span>\n",
        "<span class=\"kn\">from</span> <span class=\"nn\">numpy</span> <span class=\"kn\">import</span> <span class=\"o\">*</span>\n",
        "\n",
        "\n",
        "<span class=\"n\">sign</span> <span class=\"o\">=</span> <span class=\"k\">lambda</span> <span class=\"n\">x</span><span class=\"p\">:</span> <span class=\"n\">math</span><span class=\"o\">.</span><span class=\"n\">copysign</span><span class=\"p\">(</span><span class=\"mi\">1</span><span class=\"p\">,</span> <span class=\"n\">x</span><span class=\"p\">)</span>\n",
        "\n",
        "<span class=\"k\">def</span> <span class=\"nf\">bisection</span><span class=\"p\">(</span><span class=\"n\">f</span><span class=\"p\">,</span> <span class=\"n\">a</span><span class=\"p\">,</span> <span class=\"n\">b</span><span class=\"p\">,</span> <span class=\"n\">e</span><span class=\"p\">):</span>\n",
        "\n",
        "    <span class=\"n\">xl</span> <span class=\"o\">=</span> <span class=\"n\">a</span>\n",
        "    <span class=\"n\">xr</span> <span class=\"o\">=</span> <span class=\"n\">b</span>\n",
        "    <span class=\"n\">m</span> <span class=\"o\">=</span> <span class=\"n\">xr</span> <span class=\"o\">-</span> <span class=\"n\">xl</span>\n",
        "    <span class=\"n\">xd</span> <span class=\"o\">=</span> <span class=\"n\">xr</span> <span class=\"o\">-</span> <span class=\"n\">xl</span>\n",
        "    <span class=\"n\">xm</span> <span class=\"o\">=</span> <span class=\"p\">(</span><span class=\"n\">xr</span> <span class=\"o\">+</span> <span class=\"n\">xl</span><span class=\"p\">)</span> <span class=\"o\">/</span> <span class=\"mi\">2</span>\n",
        "    <span class=\"k\">for</span> <span class=\"n\">i</span> <span class=\"ow\">in</span> <span class=\"nb\">range</span><span class=\"p\">(</span><span class=\"mi\">1000</span><span class=\"p\">):</span>\n",
        "        <span class=\"n\">xd</span> <span class=\"o\">=</span> <span class=\"n\">xd</span> <span class=\"o\">/</span> <span class=\"mi\">2</span>\n",
        "        <span class=\"n\">xm</span> <span class=\"o\">=</span> <span class=\"n\">xl</span> <span class=\"o\">+</span> <span class=\"n\">xd</span>\n",
        "        \n",
        "        <span class=\"k\">if</span> <span class=\"n\">sign</span><span class=\"p\">(</span><span class=\"n\">f</span><span class=\"p\">(</span><span class=\"n\">xl</span><span class=\"p\">))</span> <span class=\"o\">!=</span> <span class=\"n\">sign</span><span class=\"p\">(</span><span class=\"n\">f</span><span class=\"p\">(</span><span class=\"n\">xm</span><span class=\"p\">)):</span>\n",
        "            <span class=\"n\">xr</span> <span class=\"o\">=</span> <span class=\"n\">xm</span>\n",
        "        <span class=\"k\">else</span><span class=\"p\">:</span>\n",
        "            <span class=\"n\">xl</span> <span class=\"o\">=</span> <span class=\"n\">xm</span>\n",
        "\n",
        "        <span class=\"k\">if</span> <span class=\"nb\">abs</span><span class=\"p\">(</span><span class=\"n\">f</span><span class=\"p\">(</span><span class=\"n\">xm</span><span class=\"p\">))</span> <span class=\"o\">&lt;</span> <span class=\"n\">e</span><span class=\"p\">:</span>\n",
        "            <span class=\"k\">return</span> <span class=\"n\">xm</span>\n",
        "    <span class=\"k\">else</span><span class=\"p\">:</span>\n",
        "        <span class=\"k\">raise</span> <span class=\"ne\">Exception</span><span class=\"p\">(</span><span class=\"s\">u&quot;\u041d\u0435\u043c\u043e\u0436\u043b\u0438\u0432\u043e \u043f\u043e\u0440\u0430\u0445\u0443\u0432\u0430\u0442\u0438. \u0411\u0456\u043b\u044c\u0448\u0435 \u043d\u0456\u0436 1000 \u0456\u0442\u0435\u0440\u0430\u0446\u0456\u0439...&quot;</span><span class=\"p\">)</span>\n",
        "\n",
        "\n",
        "<span class=\"k\">def</span> <span class=\"nf\">hord</span><span class=\"p\">(</span><span class=\"n\">f</span><span class=\"p\">,</span> <span class=\"n\">a</span><span class=\"p\">,</span> <span class=\"n\">b</span><span class=\"p\">,</span> <span class=\"n\">e</span><span class=\"p\">):</span>\n",
        "    <span class=\"k\">for</span> <span class=\"n\">i</span> <span class=\"ow\">in</span> <span class=\"nb\">range</span><span class=\"p\">(</span><span class=\"mi\">1000</span><span class=\"p\">):</span>\n",
        "        <span class=\"n\">va</span> <span class=\"o\">=</span> <span class=\"n\">f</span><span class=\"p\">(</span><span class=\"n\">a</span><span class=\"p\">)</span>\n",
        "        <span class=\"n\">vb</span> <span class=\"o\">=</span> <span class=\"n\">f</span><span class=\"p\">(</span><span class=\"n\">b</span><span class=\"p\">)</span>\n",
        "\n",
        "        <span class=\"n\">c</span> <span class=\"o\">=</span> <span class=\"n\">a</span> <span class=\"o\">-</span> <span class=\"p\">((</span><span class=\"n\">va</span><span class=\"o\">/</span><span class=\"p\">(</span><span class=\"n\">vb</span> <span class=\"o\">-</span> <span class=\"n\">va</span><span class=\"p\">))</span> <span class=\"o\">*</span> <span class=\"p\">(</span><span class=\"n\">a</span> <span class=\"o\">-</span> <span class=\"n\">b</span><span class=\"p\">))</span>\n",
        "        <span class=\"k\">if</span> <span class=\"n\">f</span><span class=\"p\">(</span><span class=\"n\">c</span><span class=\"p\">)</span><span class=\"o\">*</span><span class=\"n\">va</span> <span class=\"o\">&gt;</span> <span class=\"mf\">0.0</span><span class=\"p\">:</span>\n",
        "            <span class=\"n\">a</span> <span class=\"o\">=</span> <span class=\"n\">c</span>\n",
        "        <span class=\"k\">else</span><span class=\"p\">:</span>\n",
        "            <span class=\"n\">b</span> <span class=\"o\">=</span> <span class=\"n\">c</span>\n",
        "\n",
        "        <span class=\"k\">if</span> <span class=\"nb\">abs</span><span class=\"p\">(</span><span class=\"n\">f</span><span class=\"p\">(</span><span class=\"n\">c</span><span class=\"p\">))</span> <span class=\"o\">&lt;</span> <span class=\"n\">e</span><span class=\"p\">:</span>\n",
        "            <span class=\"k\">return</span> <span class=\"n\">c</span>\n",
        "    <span class=\"k\">else</span><span class=\"p\">:</span>\n",
        "        <span class=\"k\">raise</span> <span class=\"ne\">Exception</span><span class=\"p\">(</span><span class=\"s\">u&quot;\u041d\u0435\u043c\u043e\u0436\u043b\u0438\u0432\u043e \u043f\u043e\u0440\u0430\u0445\u0443\u0432\u0430\u0442\u0438. \u0411\u0456\u043b\u044c\u0448\u0435 \u043d\u0456\u0436 1000 \u0456\u0442\u0435\u0440\u0430\u0446\u0456\u0439...&quot;</span><span class=\"p\">)</span>     \n",
        "\n",
        "\n",
        "<span class=\"k\">def</span> <span class=\"nf\">newton</span><span class=\"p\">(</span><span class=\"n\">f</span><span class=\"p\">,</span> <span class=\"n\">f1</span><span class=\"p\">,</span> <span class=\"n\">a</span><span class=\"p\">,</span> <span class=\"n\">b</span><span class=\"p\">,</span> <span class=\"n\">e</span><span class=\"p\">):</span>\n",
        "    <span class=\"sd\">&quot;&quot;&quot; \u041c\u0435\u0442\u043e\u0434 \u041d\u044c\u044e\u0442\u043e\u043d\u0430(\u0414\u043e\u0442\u0438\u0447\u043d\u0438\u0445) &quot;&quot;&quot;</span>\n",
        "\n",
        "    <span class=\"k\">if</span> <span class=\"n\">f</span><span class=\"p\">(</span><span class=\"n\">a</span><span class=\"p\">)</span><span class=\"o\">*</span><span class=\"n\">f1</span><span class=\"p\">(</span><span class=\"n\">a</span><span class=\"p\">)</span> <span class=\"o\">&gt;</span> <span class=\"mi\">0</span><span class=\"p\">:</span>\n",
        "        <span class=\"n\">c</span><span class=\"o\">=</span><span class=\"n\">a</span>\n",
        "    <span class=\"k\">else</span><span class=\"p\">:</span> \n",
        "        <span class=\"n\">c</span><span class=\"o\">=</span><span class=\"n\">b</span>\n",
        "\n",
        "    <span class=\"k\">for</span> <span class=\"n\">i</span> <span class=\"ow\">in</span> <span class=\"nb\">range</span><span class=\"p\">(</span><span class=\"mi\">1000</span><span class=\"p\">):</span>\n",
        "\n",
        "        <span class=\"n\">c</span> <span class=\"o\">=</span> <span class=\"n\">c</span><span class=\"o\">-</span><span class=\"p\">(</span><span class=\"n\">f</span><span class=\"p\">(</span><span class=\"n\">c</span><span class=\"p\">)</span><span class=\"o\">/</span><span class=\"n\">f1</span><span class=\"p\">(</span><span class=\"n\">c</span><span class=\"p\">))</span>\n",
        "\n",
        "        <span class=\"k\">if</span> <span class=\"nb\">abs</span><span class=\"p\">(</span><span class=\"n\">f</span><span class=\"p\">(</span><span class=\"n\">c</span><span class=\"p\">))</span> <span class=\"o\">&lt;</span> <span class=\"n\">e</span><span class=\"p\">:</span>\n",
        "            <span class=\"k\">return</span> <span class=\"n\">c</span>\n",
        "    <span class=\"k\">else</span><span class=\"p\">:</span>\n",
        "        <span class=\"k\">raise</span> <span class=\"ne\">Exception</span><span class=\"p\">(</span><span class=\"s\">u&quot;\u041d\u0435\u043c\u043e\u0436\u043b\u0438\u0432\u043e \u043f\u043e\u0440\u0430\u0445\u0443\u0432\u0430\u0442\u0438. \u0411\u0456\u043b\u044c\u0448\u0435 \u043d\u0456\u0436 1000 \u0456\u0442\u0435\u0440\u0430\u0446\u0456\u0439...&quot;</span><span class=\"p\">)</span>     \n",
        "\n",
        "\n",
        "<span class=\"k\">def</span> <span class=\"nf\">fixed_point</span><span class=\"p\">(</span><span class=\"n\">f</span><span class=\"p\">,</span> <span class=\"n\">x0</span><span class=\"p\">,</span> <span class=\"n\">e</span><span class=\"p\">):</span>\n",
        "    <span class=\"sd\">&quot;&quot;&quot; \u041c\u0435\u0442\u043e\u0434 \u043f\u0440\u043e\u0441\u0442\u043e\u0457 \u0456\u0442\u0435\u0440\u0430\u0446\u0456\u0457 &quot;&quot;&quot;</span>\n",
        "    <span class=\"n\">xc</span> <span class=\"o\">=</span> <span class=\"n\">x0</span>    \n",
        "    <span class=\"k\">for</span> <span class=\"n\">i</span> <span class=\"ow\">in</span> <span class=\"nb\">range</span><span class=\"p\">(</span><span class=\"mi\">1000</span><span class=\"p\">):</span>\n",
        "        <span class=\"n\">x</span> <span class=\"o\">=</span> <span class=\"n\">f</span><span class=\"p\">(</span><span class=\"n\">xc</span><span class=\"p\">)</span>\n",
        "        <span class=\"k\">if</span> <span class=\"nb\">abs</span><span class=\"p\">(</span><span class=\"n\">xc</span> <span class=\"o\">-</span> <span class=\"n\">x</span><span class=\"p\">)</span> <span class=\"o\">&lt;</span> <span class=\"n\">e</span><span class=\"p\">:</span>\n",
        "            <span class=\"k\">return</span> <span class=\"n\">x</span>\n",
        "\n",
        "        <span class=\"k\">if</span> <span class=\"nb\">abs</span><span class=\"p\">(</span><span class=\"n\">x0</span> <span class=\"o\">-</span> <span class=\"n\">x</span><span class=\"p\">)</span> <span class=\"o\">&gt;</span> <span class=\"mf\">1000.0</span><span class=\"p\">:</span>\n",
        "            <span class=\"k\">raise</span> <span class=\"ne\">Exception</span><span class=\"p\">(</span><span class=\"s\">u&quot;\u041d\u0435\u043c\u043e\u0436\u043b\u0438\u0432\u043e \u043f\u043e\u0440\u0430\u0445\u0443\u0432\u0430\u0442\u0438. \u041d\u0435\u0437\u0431\u0456\u0436\u043d\u0430...&quot;</span><span class=\"p\">)</span>\n",
        "\n",
        "        <span class=\"n\">xc</span> <span class=\"o\">=</span> <span class=\"n\">x</span>\n",
        "    <span class=\"k\">else</span><span class=\"p\">:</span>\n",
        "        <span class=\"k\">raise</span> <span class=\"ne\">Exception</span><span class=\"p\">(</span><span class=\"s\">u&quot;\u041d\u0435\u043c\u043e\u0436\u043b\u0438\u0432\u043e \u043f\u043e\u0440\u0430\u0445\u0443\u0432\u0430\u0442\u0438. \u0411\u0456\u043b\u044c\u0448\u0435 \u043d\u0456\u0436 1000 \u0456\u0442\u0435\u0440\u0430\u0446\u0456\u0439...&quot;</span><span class=\"p\">)</span>\n",
        "    \n",
        "</pre></div>\n"
       ],
       "metadata": {},
       "output_type": "display_data",
       "text": [
        "<IPython.core.display.HTML at 0x7e2df60>"
       ]
      }
     ],
     "prompt_number": 2
    },
    {
     "cell_type": "code",
     "collapsed": false,
     "input": [
      "display_code(\"l5_tests.py\")"
     ],
     "language": "python",
     "metadata": {},
     "outputs": [
      {
       "html": [
        "<style type='text/css'>.highlight .hll { background-color: #ffffcc }\n",
        ".highlight  { background: #f8f8f8; }\n",
        ".highlight .c { color: #408080; font-style: italic } /* Comment */\n",
        ".highlight .err { border: 1px solid #FF0000 } /* Error */\n",
        ".highlight .k { color: #008000; font-weight: bold } /* Keyword */\n",
        ".highlight .o { color: #666666 } /* Operator */\n",
        ".highlight .cm { color: #408080; font-style: italic } /* Comment.Multiline */\n",
        ".highlight .cp { color: #BC7A00 } /* Comment.Preproc */\n",
        ".highlight .c1 { color: #408080; font-style: italic } /* Comment.Single */\n",
        ".highlight .cs { color: #408080; font-style: italic } /* Comment.Special */\n",
        ".highlight .gd { color: #A00000 } /* Generic.Deleted */\n",
        ".highlight .ge { font-style: italic } /* Generic.Emph */\n",
        ".highlight .gr { color: #FF0000 } /* Generic.Error */\n",
        ".highlight .gh { color: #000080; font-weight: bold } /* Generic.Heading */\n",
        ".highlight .gi { color: #00A000 } /* Generic.Inserted */\n",
        ".highlight .go { color: #888888 } /* Generic.Output */\n",
        ".highlight .gp { color: #000080; font-weight: bold } /* Generic.Prompt */\n",
        ".highlight .gs { font-weight: bold } /* Generic.Strong */\n",
        ".highlight .gu { color: #800080; font-weight: bold } /* Generic.Subheading */\n",
        ".highlight .gt { color: #0044DD } /* Generic.Traceback */\n",
        ".highlight .kc { color: #008000; font-weight: bold } /* Keyword.Constant */\n",
        ".highlight .kd { color: #008000; font-weight: bold } /* Keyword.Declaration */\n",
        ".highlight .kn { color: #008000; font-weight: bold } /* Keyword.Namespace */\n",
        ".highlight .kp { color: #008000 } /* Keyword.Pseudo */\n",
        ".highlight .kr { color: #008000; font-weight: bold } /* Keyword.Reserved */\n",
        ".highlight .kt { color: #B00040 } /* Keyword.Type */\n",
        ".highlight .m { color: #666666 } /* Literal.Number */\n",
        ".highlight .s { color: #BA2121 } /* Literal.String */\n",
        ".highlight .na { color: #7D9029 } /* Name.Attribute */\n",
        ".highlight .nb { color: #008000 } /* Name.Builtin */\n",
        ".highlight .nc { color: #0000FF; font-weight: bold } /* Name.Class */\n",
        ".highlight .no { color: #880000 } /* Name.Constant */\n",
        ".highlight .nd { color: #AA22FF } /* Name.Decorator */\n",
        ".highlight .ni { color: #999999; font-weight: bold } /* Name.Entity */\n",
        ".highlight .ne { color: #D2413A; font-weight: bold } /* Name.Exception */\n",
        ".highlight .nf { color: #0000FF } /* Name.Function */\n",
        ".highlight .nl { color: #A0A000 } /* Name.Label */\n",
        ".highlight .nn { color: #0000FF; font-weight: bold } /* Name.Namespace */\n",
        ".highlight .nt { color: #008000; font-weight: bold } /* Name.Tag */\n",
        ".highlight .nv { color: #19177C } /* Name.Variable */\n",
        ".highlight .ow { color: #AA22FF; font-weight: bold } /* Operator.Word */\n",
        ".highlight .w { color: #bbbbbb } /* Text.Whitespace */\n",
        ".highlight .mf { color: #666666 } /* Literal.Number.Float */\n",
        ".highlight .mh { color: #666666 } /* Literal.Number.Hex */\n",
        ".highlight .mi { color: #666666 } /* Literal.Number.Integer */\n",
        ".highlight .mo { color: #666666 } /* Literal.Number.Oct */\n",
        ".highlight .sb { color: #BA2121 } /* Literal.String.Backtick */\n",
        ".highlight .sc { color: #BA2121 } /* Literal.String.Char */\n",
        ".highlight .sd { color: #BA2121; font-style: italic } /* Literal.String.Doc */\n",
        ".highlight .s2 { color: #BA2121 } /* Literal.String.Double */\n",
        ".highlight .se { color: #BB6622; font-weight: bold } /* Literal.String.Escape */\n",
        ".highlight .sh { color: #BA2121 } /* Literal.String.Heredoc */\n",
        ".highlight .si { color: #BB6688; font-weight: bold } /* Literal.String.Interpol */\n",
        ".highlight .sx { color: #008000 } /* Literal.String.Other */\n",
        ".highlight .sr { color: #BB6688 } /* Literal.String.Regex */\n",
        ".highlight .s1 { color: #BA2121 } /* Literal.String.Single */\n",
        ".highlight .ss { color: #19177C } /* Literal.String.Symbol */\n",
        ".highlight .bp { color: #008000 } /* Name.Builtin.Pseudo */\n",
        ".highlight .vc { color: #19177C } /* Name.Variable.Class */\n",
        ".highlight .vg { color: #19177C } /* Name.Variable.Global */\n",
        ".highlight .vi { color: #19177C } /* Name.Variable.Instance */\n",
        ".highlight .il { color: #666666 } /* Literal.Number.Integer.Long */</style><h3>File: l5_tests.py</h3><div class=\"well highlight\"><pre><span class=\"c\"># coding=utf-8</span>\n",
        "<span class=\"kn\">import</span> <span class=\"nn\">random</span>\n",
        "<span class=\"kn\">import</span> <span class=\"nn\">unittest</span>\n",
        "\n",
        "<span class=\"kn\">import</span> <span class=\"nn\">numpy</span>\n",
        "<span class=\"kn\">import</span> <span class=\"nn\">numpy.testing</span> <span class=\"kn\">as</span> <span class=\"nn\">nt</span>\n",
        "\n",
        "<span class=\"kn\">from</span> <span class=\"nn\">l5</span> <span class=\"kn\">import</span> <span class=\"o\">*</span>\n",
        "\n",
        "<span class=\"k\">class</span> <span class=\"nc\">TestL5</span><span class=\"p\">(</span><span class=\"n\">unittest</span><span class=\"o\">.</span><span class=\"n\">TestCase</span><span class=\"p\">):</span>\n",
        "\n",
        "    <span class=\"k\">def</span> <span class=\"nf\">setUp</span><span class=\"p\">(</span><span class=\"bp\">self</span><span class=\"p\">):</span>\n",
        "        <span class=\"bp\">self</span><span class=\"o\">.</span><span class=\"n\">f</span> <span class=\"o\">=</span> <span class=\"k\">lambda</span> <span class=\"n\">x</span><span class=\"p\">:</span> <span class=\"mf\">2.0</span><span class=\"o\">*</span><span class=\"p\">(</span><span class=\"n\">x</span><span class=\"o\">**</span><span class=\"mf\">4.0</span><span class=\"p\">)</span> <span class=\"o\">-</span> <span class=\"p\">(</span><span class=\"n\">x</span><span class=\"o\">**</span><span class=\"mf\">2.0</span><span class=\"p\">)</span> <span class=\"o\">-</span> <span class=\"mf\">10.0</span>\n",
        "        <span class=\"bp\">self</span><span class=\"o\">.</span><span class=\"n\">f1</span> <span class=\"o\">=</span> <span class=\"k\">lambda</span> <span class=\"n\">x</span><span class=\"p\">:</span> <span class=\"mf\">8.0</span><span class=\"o\">*</span><span class=\"p\">(</span><span class=\"n\">x</span><span class=\"o\">**</span><span class=\"mf\">3.0</span><span class=\"p\">)</span> <span class=\"o\">-</span> <span class=\"mf\">2.0</span><span class=\"o\">*</span><span class=\"n\">x</span>\n",
        "        <span class=\"bp\">self</span><span class=\"o\">.</span><span class=\"n\">a</span> <span class=\"o\">=</span> <span class=\"mf\">1.0</span>\n",
        "        <span class=\"bp\">self</span><span class=\"o\">.</span><span class=\"n\">b</span> <span class=\"o\">=</span> <span class=\"mf\">2.0</span>\n",
        "        <span class=\"bp\">self</span><span class=\"o\">.</span><span class=\"n\">e</span> <span class=\"o\">=</span> <span class=\"mf\">0.0001</span>        \n",
        "\n",
        "    <span class=\"k\">def</span> <span class=\"nf\">test_bisection</span><span class=\"p\">(</span><span class=\"bp\">self</span><span class=\"p\">):</span>\n",
        "        \n",
        "        <span class=\"n\">x</span> <span class=\"o\">=</span> <span class=\"n\">bisection</span><span class=\"p\">(</span><span class=\"bp\">self</span><span class=\"o\">.</span><span class=\"n\">f</span><span class=\"p\">,</span> <span class=\"bp\">self</span><span class=\"o\">.</span><span class=\"n\">a</span><span class=\"p\">,</span> <span class=\"bp\">self</span><span class=\"o\">.</span><span class=\"n\">b</span><span class=\"p\">,</span> <span class=\"bp\">self</span><span class=\"o\">.</span><span class=\"n\">e</span><span class=\"p\">)</span>\n",
        "        \n",
        "        <span class=\"n\">nt</span><span class=\"o\">.</span><span class=\"n\">assert_approx_equal</span><span class=\"p\">(</span><span class=\"n\">x</span><span class=\"p\">,</span> <span class=\"mf\">1.581138</span><span class=\"p\">,</span> <span class=\"n\">significant</span><span class=\"o\">=</span><span class=\"mi\">5</span><span class=\"p\">)</span>\n",
        "\n",
        "    <span class=\"k\">def</span> <span class=\"nf\">test_hord</span><span class=\"p\">(</span><span class=\"bp\">self</span><span class=\"p\">):</span>\n",
        "        \n",
        "        <span class=\"n\">x</span> <span class=\"o\">=</span> <span class=\"n\">hord</span><span class=\"p\">(</span><span class=\"bp\">self</span><span class=\"o\">.</span><span class=\"n\">f</span><span class=\"p\">,</span> <span class=\"bp\">self</span><span class=\"o\">.</span><span class=\"n\">a</span><span class=\"p\">,</span> <span class=\"bp\">self</span><span class=\"o\">.</span><span class=\"n\">b</span><span class=\"p\">,</span> <span class=\"bp\">self</span><span class=\"o\">.</span><span class=\"n\">e</span><span class=\"p\">)</span>\n",
        "        \n",
        "        <span class=\"n\">nt</span><span class=\"o\">.</span><span class=\"n\">assert_approx_equal</span><span class=\"p\">(</span><span class=\"n\">x</span><span class=\"p\">,</span> <span class=\"mf\">1.581138</span><span class=\"p\">,</span> <span class=\"n\">significant</span><span class=\"o\">=</span><span class=\"mi\">5</span><span class=\"p\">)</span>\n",
        "\n",
        "    <span class=\"k\">def</span> <span class=\"nf\">test_newton</span><span class=\"p\">(</span><span class=\"bp\">self</span><span class=\"p\">):</span>\n",
        "        \n",
        "        <span class=\"n\">x</span> <span class=\"o\">=</span> <span class=\"n\">newton</span><span class=\"p\">(</span><span class=\"bp\">self</span><span class=\"o\">.</span><span class=\"n\">f</span><span class=\"p\">,</span> <span class=\"bp\">self</span><span class=\"o\">.</span><span class=\"n\">f1</span><span class=\"p\">,</span> <span class=\"bp\">self</span><span class=\"o\">.</span><span class=\"n\">a</span><span class=\"p\">,</span> <span class=\"bp\">self</span><span class=\"o\">.</span><span class=\"n\">b</span><span class=\"p\">,</span> <span class=\"bp\">self</span><span class=\"o\">.</span><span class=\"n\">e</span><span class=\"p\">)</span>\n",
        "        \n",
        "        <span class=\"n\">nt</span><span class=\"o\">.</span><span class=\"n\">assert_approx_equal</span><span class=\"p\">(</span><span class=\"n\">x</span><span class=\"p\">,</span> <span class=\"mf\">1.581138</span><span class=\"p\">,</span> <span class=\"n\">significant</span><span class=\"o\">=</span><span class=\"mi\">5</span><span class=\"p\">)</span>\n",
        "  \n",
        "    <span class=\"k\">def</span> <span class=\"nf\">test_fixed_point</span><span class=\"p\">(</span><span class=\"bp\">self</span><span class=\"p\">):</span>\n",
        "        <span class=\"n\">f</span> <span class=\"o\">=</span> <span class=\"k\">lambda</span> <span class=\"n\">x</span> <span class=\"p\">:</span> <span class=\"n\">sqrt</span><span class=\"p\">(</span><span class=\"n\">x</span><span class=\"p\">)</span>\n",
        "\n",
        "        <span class=\"n\">x</span> <span class=\"o\">=</span> <span class=\"n\">fixed_point</span><span class=\"p\">(</span><span class=\"n\">f</span><span class=\"p\">,</span> <span class=\"o\">.</span><span class=\"mi\">5</span><span class=\"p\">,</span> <span class=\"mf\">0.001</span><span class=\"p\">)</span>\n",
        "        \n",
        "        <span class=\"n\">nt</span><span class=\"o\">.</span><span class=\"n\">assert_approx_equal</span><span class=\"p\">(</span><span class=\"n\">x</span><span class=\"p\">,</span> <span class=\"mf\">1.0</span><span class=\"p\">,</span> <span class=\"n\">significant</span><span class=\"o\">=</span><span class=\"mi\">3</span><span class=\"p\">)</span>\n",
        "\n",
        "    \n",
        "\n",
        "<span class=\"k\">if</span> <span class=\"n\">__name__</span> <span class=\"o\">==</span> <span class=\"s\">&#39;__main__&#39;</span><span class=\"p\">:</span>\n",
        "    <span class=\"n\">unittest</span><span class=\"o\">.</span><span class=\"n\">main</span><span class=\"p\">()</span>\n",
        "</pre></div>\n"
       ],
       "metadata": {},
       "output_type": "display_data",
       "text": [
        "<IPython.core.display.HTML at 0x7e3d208>"
       ]
      }
     ],
     "prompt_number": 3
    },
    {
     "cell_type": "markdown",
     "metadata": {},
     "source": [
      "# \u0420\u0435\u0437\u0443\u043b\u044c\u0442\u0430\u0442"
     ]
    },
    {
     "cell_type": "code",
     "collapsed": false,
     "input": [
      "from l5 import *"
     ],
     "language": "python",
     "metadata": {},
     "outputs": [],
     "prompt_number": 4
    },
    {
     "cell_type": "code",
     "collapsed": false,
     "input": [
      "f = lambda x: 2.0*(x**4.0) - (x**2.0) - 10.0\n",
      "f1 = lambda x: 8.0*(x**3.0) - 2.0*x\n",
      "a = 1.0\n",
      "b = 2.0\n",
      "e = 0.001"
     ],
     "language": "python",
     "metadata": {},
     "outputs": [],
     "prompt_number": 5
    },
    {
     "cell_type": "heading",
     "level": 2,
     "metadata": {},
     "source": [
      "\u041c\u0435\u0442\u043e\u0434 \u0431\u0456\u0441\u0435\u043a\u0446\u0456\u0457"
     ]
    },
    {
     "cell_type": "code",
     "collapsed": false,
     "input": [
      "bisection(f, a, b, e)"
     ],
     "language": "python",
     "metadata": {},
     "outputs": [
      {
       "metadata": {},
       "output_type": "pyout",
       "prompt_number": 6,
       "text": [
        "1.58111572265625"
       ]
      }
     ],
     "prompt_number": 6
    },
    {
     "cell_type": "heading",
     "level": 2,
     "metadata": {},
     "source": [
      "\u041c\u0435\u0442\u043e\u0434 \u0445\u043e\u0440\u0434"
     ]
    },
    {
     "cell_type": "code",
     "collapsed": false,
     "input": [
      "hord(f, a, b, e)"
     ],
     "language": "python",
     "metadata": {},
     "outputs": [
      {
       "metadata": {},
       "output_type": "pyout",
       "prompt_number": 7,
       "text": [
        "1.581131832931482"
       ]
      }
     ],
     "prompt_number": 7
    },
    {
     "cell_type": "heading",
     "level": 2,
     "metadata": {},
     "source": [
      "\u041c\u0435\u0442\u043e\u0434 \u041d\u044c\u044e\u0442\u043e\u043d\u0430(\u0414\u043e\u0442\u0438\u0447\u043d\u0438\u0445)"
     ]
    },
    {
     "cell_type": "code",
     "collapsed": false,
     "input": [
      "newton(f, f1, a, b, e)"
     ],
     "language": "python",
     "metadata": {},
     "outputs": [
      {
       "metadata": {},
       "output_type": "pyout",
       "prompt_number": 8,
       "text": [
        "1.5811388562058806"
       ]
      }
     ],
     "prompt_number": 8
    },
    {
     "cell_type": "heading",
     "level": 2,
     "metadata": {},
     "source": [
      "\u041c\u0435\u0442\u043e\u0434 \u043f\u0440\u043e\u0441\u0442\u0438\u0457 \u0456\u0442\u0435\u0440\u0430\u0446\u0456\u0439"
     ]
    },
    {
     "cell_type": "code",
     "collapsed": false,
     "input": [
      "fixed_point(f, (a + b)/2, e)"
     ],
     "language": "python",
     "metadata": {},
     "outputs": [
      {
       "ename": "Exception",
       "evalue": "\u041d\u0435\u043c\u043e\u0436\u043b\u0438\u0432\u043e \u043f\u043e\u0440\u0430\u0445\u0443\u0432\u0430\u0442\u0438. \u041d\u0435\u0437\u0431\u0456\u0436\u043d\u0430...",
       "output_type": "pyerr",
       "traceback": [
        "\u001b[1;31m---------------------------------------------------------------------------\u001b[0m\n\u001b[1;31mException\u001b[0m                                 Traceback (most recent call last)",
        "\u001b[1;32m<ipython-input-9-0650214b68db>\u001b[0m in \u001b[0;36m<module>\u001b[1;34m()\u001b[0m\n\u001b[1;32m----> 1\u001b[1;33m \u001b[0mfixed_point\u001b[0m\u001b[1;33m(\u001b[0m\u001b[0mf\u001b[0m\u001b[1;33m,\u001b[0m \u001b[1;33m(\u001b[0m\u001b[0ma\u001b[0m \u001b[1;33m+\u001b[0m \u001b[0mb\u001b[0m\u001b[1;33m)\u001b[0m\u001b[1;33m/\u001b[0m\u001b[1;36m2\u001b[0m\u001b[1;33m,\u001b[0m \u001b[0me\u001b[0m\u001b[1;33m)\u001b[0m\u001b[1;33m\u001b[0m\u001b[0m\n\u001b[0m",
        "\u001b[1;32mC:\\Users\\Mike\\Projects\\studies-octo-adventure\\lp\\c2_2\\ch\\l5.py\u001b[0m in \u001b[0;36mfixed_point\u001b[1;34m(f, x0, e)\u001b[0m\n\u001b[0;32m     71\u001b[0m \u001b[1;33m\u001b[0m\u001b[0m\n\u001b[0;32m     72\u001b[0m         \u001b[1;32mif\u001b[0m \u001b[0mabs\u001b[0m\u001b[1;33m(\u001b[0m\u001b[0mx0\u001b[0m \u001b[1;33m-\u001b[0m \u001b[0mx\u001b[0m\u001b[1;33m)\u001b[0m \u001b[1;33m>\u001b[0m \u001b[1;36m1000.0\u001b[0m\u001b[1;33m:\u001b[0m\u001b[1;33m\u001b[0m\u001b[0m\n\u001b[1;32m---> 73\u001b[1;33m             \u001b[1;32mraise\u001b[0m \u001b[0mException\u001b[0m\u001b[1;33m(\u001b[0m\u001b[1;34mu\"\u041d\u0435\u043c\u043e\u0436\u043b\u0438\u0432\u043e \u043f\u043e\u0440\u0430\u0445\u0443\u0432\u0430\u0442\u0438. \u041d\u0435\u0437\u0431\u0456\u0436\u043d\u0430...\"\u001b[0m\u001b[1;33m)\u001b[0m\u001b[1;33m\u001b[0m\u001b[0m\n\u001b[0m\u001b[0;32m     74\u001b[0m \u001b[1;33m\u001b[0m\u001b[0m\n\u001b[0;32m     75\u001b[0m         \u001b[0mxc\u001b[0m \u001b[1;33m=\u001b[0m \u001b[0mx\u001b[0m\u001b[1;33m\u001b[0m\u001b[0m\n",
        "\u001b[1;31mException\u001b[0m: \u041d\u0435\u043c\u043e\u0436\u043b\u0438\u0432\u043e \u043f\u043e\u0440\u0430\u0445\u0443\u0432\u0430\u0442\u0438. \u041d\u0435\u0437\u0431\u0456\u0436\u043d\u0430..."
       ]
      }
     ],
     "prompt_number": 9
    },
    {
     "cell_type": "markdown",
     "metadata": {},
     "source": [
      "# \u0412\u0438\u0441\u043d\u043e\u0432\u043a\u0438\n",
      "\u041e\u0437\u043d\u0430\u0439\u043e\u043c\u0438\u0432\u0441\u044f \u0456\u0437 \u0447\u0438\u0441\u0435\u043b\u044c\u043d\u0438\u043c\u0438 \u043c\u0435\u0442\u043e\u0434\u0430\u043c\u0438 \u0440\u043e\u0437\u0432'\u044f\u0437\u0443\u0432\u0430\u043d\u043d\u044f \u0441\u0438\u0441\u0442\u0435\u043c \u043b\u0456\u043d\u0456\u0439\u043d\u0438\u0445 \u0430\u043b\u0433\u0435\u0431\u0440\u0430\u0457\u0447\u043d\u0438\u0445 \u0440\u0456\u0432\u043d\u044f\u043d\u044c \u0442\u0430 \u0457\u0445 \u043f\u0440\u0430\u043a\u0442\u0438\u0447\u043d\u0438\u043c \u0437\u0430\u0441\u0442\u043e\u0441\u0443\u0432\u0430\u043d\u043d\u044f\u043c."
     ]
    }
   ],
   "metadata": {}
  }
 ]
}