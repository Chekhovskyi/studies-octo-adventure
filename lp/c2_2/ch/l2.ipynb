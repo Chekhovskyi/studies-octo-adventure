{
 "metadata": {
  "name": "",
  "signature": "sha256:60d937af396d09e55d214470022b68fed91b53b5a04d2c762a1403d22042324c"
 },
 "nbformat": 3,
 "nbformat_minor": 0,
 "worksheets": [
  {
   "cells": [
    {
     "cell_type": "markdown",
     "metadata": {},
     "source": [
      "# \u0420\u0456\u0448\u0435\u043d\u043d\u044f"
     ]
    },
    {
     "cell_type": "code",
     "collapsed": false,
     "input": [
      "%matplotlib inline\n",
      "from utils import *"
     ],
     "language": "python",
     "metadata": {},
     "outputs": [],
     "prompt_number": 1
    },
    {
     "cell_type": "code",
     "collapsed": false,
     "input": [
      "display_code(\"l2.py\")"
     ],
     "language": "python",
     "metadata": {},
     "outputs": [
      {
       "html": [
        "<style type='text/css'>.highlight .hll { background-color: #ffffcc }\n",
        ".highlight  { background: #f8f8f8; }\n",
        ".highlight .c { color: #408080; font-style: italic } /* Comment */\n",
        ".highlight .err { border: 1px solid #FF0000 } /* Error */\n",
        ".highlight .k { color: #008000; font-weight: bold } /* Keyword */\n",
        ".highlight .o { color: #666666 } /* Operator */\n",
        ".highlight .cm { color: #408080; font-style: italic } /* Comment.Multiline */\n",
        ".highlight .cp { color: #BC7A00 } /* Comment.Preproc */\n",
        ".highlight .c1 { color: #408080; font-style: italic } /* Comment.Single */\n",
        ".highlight .cs { color: #408080; font-style: italic } /* Comment.Special */\n",
        ".highlight .gd { color: #A00000 } /* Generic.Deleted */\n",
        ".highlight .ge { font-style: italic } /* Generic.Emph */\n",
        ".highlight .gr { color: #FF0000 } /* Generic.Error */\n",
        ".highlight .gh { color: #000080; font-weight: bold } /* Generic.Heading */\n",
        ".highlight .gi { color: #00A000 } /* Generic.Inserted */\n",
        ".highlight .go { color: #888888 } /* Generic.Output */\n",
        ".highlight .gp { color: #000080; font-weight: bold } /* Generic.Prompt */\n",
        ".highlight .gs { font-weight: bold } /* Generic.Strong */\n",
        ".highlight .gu { color: #800080; font-weight: bold } /* Generic.Subheading */\n",
        ".highlight .gt { color: #0044DD } /* Generic.Traceback */\n",
        ".highlight .kc { color: #008000; font-weight: bold } /* Keyword.Constant */\n",
        ".highlight .kd { color: #008000; font-weight: bold } /* Keyword.Declaration */\n",
        ".highlight .kn { color: #008000; font-weight: bold } /* Keyword.Namespace */\n",
        ".highlight .kp { color: #008000 } /* Keyword.Pseudo */\n",
        ".highlight .kr { color: #008000; font-weight: bold } /* Keyword.Reserved */\n",
        ".highlight .kt { color: #B00040 } /* Keyword.Type */\n",
        ".highlight .m { color: #666666 } /* Literal.Number */\n",
        ".highlight .s { color: #BA2121 } /* Literal.String */\n",
        ".highlight .na { color: #7D9029 } /* Name.Attribute */\n",
        ".highlight .nb { color: #008000 } /* Name.Builtin */\n",
        ".highlight .nc { color: #0000FF; font-weight: bold } /* Name.Class */\n",
        ".highlight .no { color: #880000 } /* Name.Constant */\n",
        ".highlight .nd { color: #AA22FF } /* Name.Decorator */\n",
        ".highlight .ni { color: #999999; font-weight: bold } /* Name.Entity */\n",
        ".highlight .ne { color: #D2413A; font-weight: bold } /* Name.Exception */\n",
        ".highlight .nf { color: #0000FF } /* Name.Function */\n",
        ".highlight .nl { color: #A0A000 } /* Name.Label */\n",
        ".highlight .nn { color: #0000FF; font-weight: bold } /* Name.Namespace */\n",
        ".highlight .nt { color: #008000; font-weight: bold } /* Name.Tag */\n",
        ".highlight .nv { color: #19177C } /* Name.Variable */\n",
        ".highlight .ow { color: #AA22FF; font-weight: bold } /* Operator.Word */\n",
        ".highlight .w { color: #bbbbbb } /* Text.Whitespace */\n",
        ".highlight .mf { color: #666666 } /* Literal.Number.Float */\n",
        ".highlight .mh { color: #666666 } /* Literal.Number.Hex */\n",
        ".highlight .mi { color: #666666 } /* Literal.Number.Integer */\n",
        ".highlight .mo { color: #666666 } /* Literal.Number.Oct */\n",
        ".highlight .sb { color: #BA2121 } /* Literal.String.Backtick */\n",
        ".highlight .sc { color: #BA2121 } /* Literal.String.Char */\n",
        ".highlight .sd { color: #BA2121; font-style: italic } /* Literal.String.Doc */\n",
        ".highlight .s2 { color: #BA2121 } /* Literal.String.Double */\n",
        ".highlight .se { color: #BB6622; font-weight: bold } /* Literal.String.Escape */\n",
        ".highlight .sh { color: #BA2121 } /* Literal.String.Heredoc */\n",
        ".highlight .si { color: #BB6688; font-weight: bold } /* Literal.String.Interpol */\n",
        ".highlight .sx { color: #008000 } /* Literal.String.Other */\n",
        ".highlight .sr { color: #BB6688 } /* Literal.String.Regex */\n",
        ".highlight .s1 { color: #BA2121 } /* Literal.String.Single */\n",
        ".highlight .ss { color: #19177C } /* Literal.String.Symbol */\n",
        ".highlight .bp { color: #008000 } /* Name.Builtin.Pseudo */\n",
        ".highlight .vc { color: #19177C } /* Name.Variable.Class */\n",
        ".highlight .vg { color: #19177C } /* Name.Variable.Global */\n",
        ".highlight .vi { color: #19177C } /* Name.Variable.Instance */\n",
        ".highlight .il { color: #666666 } /* Literal.Number.Integer.Long */</style><h3>File: l2.py</h3><div class=\"well highlight\"><pre><span class=\"c\"># coding=utf-8</span>\n",
        "<span class=\"kn\">from</span> <span class=\"nn\">numpy</span> <span class=\"kn\">import</span> <span class=\"o\">*</span>\n",
        "\n",
        "<span class=\"k\">def</span> <span class=\"nf\">func_diff</span><span class=\"p\">(</span><span class=\"n\">y</span><span class=\"p\">,</span> <span class=\"n\">n</span><span class=\"p\">,</span> <span class=\"n\">i</span><span class=\"p\">):</span>\n",
        "    <span class=\"k\">def</span> <span class=\"nf\">diff</span><span class=\"p\">(</span><span class=\"n\">n</span><span class=\"p\">,</span> <span class=\"n\">i</span><span class=\"p\">):</span>\n",
        "        <span class=\"k\">if</span> <span class=\"n\">n</span> <span class=\"o\">==</span> <span class=\"mi\">1</span><span class=\"p\">:</span>\n",
        "            <span class=\"k\">return</span> <span class=\"n\">y</span><span class=\"p\">[</span><span class=\"n\">i</span><span class=\"o\">+</span><span class=\"mi\">1</span><span class=\"p\">]</span> <span class=\"o\">-</span> <span class=\"n\">y</span><span class=\"p\">[</span><span class=\"n\">i</span><span class=\"p\">]</span>\n",
        "        <span class=\"k\">if</span> <span class=\"n\">n</span> <span class=\"o\">==</span> <span class=\"mi\">0</span><span class=\"p\">:</span>\n",
        "            <span class=\"k\">return</span> <span class=\"n\">y</span><span class=\"p\">[</span><span class=\"n\">i</span><span class=\"p\">]</span>\n",
        "        <span class=\"k\">return</span> <span class=\"n\">diff</span><span class=\"p\">(</span><span class=\"n\">n</span><span class=\"o\">-</span><span class=\"mi\">1</span><span class=\"p\">,</span> <span class=\"n\">i</span><span class=\"o\">+</span><span class=\"mi\">1</span><span class=\"p\">)</span> <span class=\"o\">-</span> <span class=\"n\">diff</span><span class=\"p\">(</span><span class=\"n\">n</span><span class=\"o\">-</span><span class=\"mi\">1</span><span class=\"p\">,</span> <span class=\"n\">i</span><span class=\"p\">)</span>\n",
        "\n",
        "    <span class=\"k\">return</span> <span class=\"n\">diff</span><span class=\"p\">(</span><span class=\"n\">n</span><span class=\"p\">,</span> <span class=\"n\">i</span><span class=\"p\">)</span>\n",
        "\n",
        "<span class=\"k\">def</span> <span class=\"nf\">newton1</span><span class=\"p\">(</span><span class=\"n\">x</span><span class=\"p\">,</span> <span class=\"n\">y</span><span class=\"p\">,</span> <span class=\"n\">point</span><span class=\"p\">,</span> <span class=\"n\">degree</span><span class=\"p\">):</span>\n",
        "    <span class=\"n\">h</span> <span class=\"o\">=</span> <span class=\"n\">x</span><span class=\"p\">[</span><span class=\"mi\">1</span><span class=\"p\">]</span> <span class=\"o\">-</span> <span class=\"n\">x</span><span class=\"p\">[</span><span class=\"mi\">0</span><span class=\"p\">]</span>\n",
        "    <span class=\"n\">q</span> <span class=\"o\">=</span> <span class=\"p\">(</span><span class=\"n\">point</span> <span class=\"o\">-</span> <span class=\"n\">x</span><span class=\"p\">[</span><span class=\"mi\">0</span><span class=\"p\">])</span><span class=\"o\">/</span><span class=\"n\">h</span>\n",
        "\n",
        "    <span class=\"k\">def</span> <span class=\"nf\">item</span><span class=\"p\">(</span><span class=\"n\">n</span><span class=\"p\">):</span>\n",
        "        <span class=\"n\">qq</span> <span class=\"o\">=</span> <span class=\"n\">q</span>\n",
        "        <span class=\"k\">for</span> <span class=\"n\">j</span> <span class=\"ow\">in</span> <span class=\"nb\">range</span><span class=\"p\">(</span><span class=\"mi\">1</span><span class=\"p\">,</span> <span class=\"n\">n</span><span class=\"p\">):</span>\n",
        "            <span class=\"n\">qq</span> <span class=\"o\">*=</span> <span class=\"p\">(</span><span class=\"n\">q</span> <span class=\"o\">-</span> <span class=\"n\">j</span> <span class=\"o\">+</span> <span class=\"mi\">1</span><span class=\"p\">)</span>\n",
        "        <span class=\"c\">#print(n, &quot;q:&quot;, qq, &quot;diff:&quot;, func_diff(y, n, 0))</span>\n",
        "        <span class=\"k\">return</span> <span class=\"p\">(</span><span class=\"n\">qq</span><span class=\"o\">/</span><span class=\"n\">math</span><span class=\"o\">.</span><span class=\"n\">factorial</span><span class=\"p\">(</span><span class=\"n\">n</span><span class=\"p\">))</span> <span class=\"o\">*</span> <span class=\"n\">func_diff</span><span class=\"p\">(</span><span class=\"n\">y</span><span class=\"p\">,</span> <span class=\"n\">n</span><span class=\"p\">,</span> <span class=\"mi\">0</span><span class=\"p\">)</span>\n",
        "\n",
        "    <span class=\"k\">return</span> <span class=\"nb\">sum</span><span class=\"p\">([</span><span class=\"n\">y</span><span class=\"p\">[</span><span class=\"mi\">0</span><span class=\"p\">]]</span> <span class=\"o\">+</span> <span class=\"p\">[</span><span class=\"n\">item</span><span class=\"p\">(</span><span class=\"n\">j</span><span class=\"p\">)</span> <span class=\"k\">for</span> <span class=\"n\">j</span> <span class=\"ow\">in</span> <span class=\"nb\">range</span><span class=\"p\">(</span><span class=\"mi\">1</span><span class=\"p\">,</span> <span class=\"n\">degree</span> <span class=\"o\">+</span> <span class=\"mi\">1</span><span class=\"p\">)])</span>\n",
        "\n",
        "<span class=\"k\">def</span> <span class=\"nf\">newton2</span><span class=\"p\">(</span><span class=\"n\">x</span><span class=\"p\">,</span> <span class=\"n\">y</span><span class=\"p\">,</span> <span class=\"n\">point</span><span class=\"p\">,</span> <span class=\"n\">degree</span><span class=\"p\">):</span>\n",
        "    <span class=\"n\">h</span> <span class=\"o\">=</span> <span class=\"n\">x</span><span class=\"p\">[</span><span class=\"mi\">1</span><span class=\"p\">]</span> <span class=\"o\">-</span> <span class=\"n\">x</span><span class=\"p\">[</span><span class=\"mi\">0</span><span class=\"p\">]</span>\n",
        "    <span class=\"n\">q</span> <span class=\"o\">=</span> <span class=\"p\">(</span><span class=\"n\">point</span> <span class=\"o\">-</span> <span class=\"n\">x</span><span class=\"p\">[</span><span class=\"o\">-</span><span class=\"mi\">1</span><span class=\"p\">])</span><span class=\"o\">/</span><span class=\"n\">h</span>    \n",
        "\n",
        "    <span class=\"k\">def</span> <span class=\"nf\">item</span><span class=\"p\">(</span><span class=\"n\">n</span><span class=\"p\">):</span>\n",
        "        <span class=\"n\">qq</span> <span class=\"o\">=</span> <span class=\"n\">q</span>\n",
        "        <span class=\"k\">for</span> <span class=\"n\">j</span> <span class=\"ow\">in</span> <span class=\"nb\">range</span><span class=\"p\">(</span><span class=\"mi\">1</span><span class=\"p\">,</span> <span class=\"n\">n</span><span class=\"p\">):</span>\n",
        "            <span class=\"n\">qq</span> <span class=\"o\">*=</span> <span class=\"p\">(</span><span class=\"n\">q</span> <span class=\"o\">+</span> <span class=\"n\">j</span> <span class=\"o\">-</span> <span class=\"mi\">1</span><span class=\"p\">)</span>\n",
        "        <span class=\"c\">#print(n, &quot;q:&quot;, qq, &quot;diff:&quot;, func_diff(y, n, degree-n))</span>\n",
        "        <span class=\"k\">return</span> <span class=\"p\">(</span><span class=\"n\">qq</span><span class=\"o\">/</span><span class=\"n\">math</span><span class=\"o\">.</span><span class=\"n\">factorial</span><span class=\"p\">(</span><span class=\"n\">n</span><span class=\"p\">))</span> <span class=\"o\">*</span> <span class=\"n\">func_diff</span><span class=\"p\">(</span><span class=\"n\">y</span><span class=\"p\">,</span> <span class=\"n\">n</span><span class=\"p\">,</span> <span class=\"n\">degree</span><span class=\"o\">-</span><span class=\"n\">n</span><span class=\"p\">)</span>\n",
        "\n",
        "    <span class=\"k\">return</span> <span class=\"nb\">sum</span><span class=\"p\">([</span><span class=\"n\">y</span><span class=\"p\">[</span><span class=\"o\">-</span><span class=\"mi\">1</span><span class=\"p\">]]</span> <span class=\"o\">+</span> <span class=\"p\">[</span><span class=\"n\">item</span><span class=\"p\">(</span><span class=\"n\">j</span><span class=\"p\">)</span> <span class=\"k\">for</span> <span class=\"n\">j</span> <span class=\"ow\">in</span> <span class=\"nb\">range</span><span class=\"p\">(</span><span class=\"mi\">1</span><span class=\"p\">,</span> <span class=\"n\">degree</span> <span class=\"o\">+</span> <span class=\"mi\">1</span><span class=\"p\">)])</span>\n",
        "</pre></div>\n"
       ],
       "metadata": {},
       "output_type": "display_data",
       "text": [
        "<IPython.core.display.HTML at 0x7cf0ef0>"
       ]
      }
     ],
     "prompt_number": 2
    },
    {
     "cell_type": "markdown",
     "metadata": {},
     "source": [
      "# \u0420\u0435\u0437\u0443\u043b\u044c\u0442\u0430\u0442\u0438"
     ]
    },
    {
     "cell_type": "code",
     "collapsed": false,
     "input": [
      "from l2 import *\n",
      "def f_27(x):\n",
      "    return 1 / ( 1 + 5 * pow(x, 2) )"
     ],
     "language": "python",
     "metadata": {},
     "outputs": [],
     "prompt_number": 3
    },
    {
     "cell_type": "markdown",
     "metadata": {},
     "source": [
      "## \u041d\u0430 \u043f\u0440\u043e\u043c\u0456\u0436\u043a\u0443 [-1;1]"
     ]
    },
    {
     "cell_type": "code",
     "collapsed": false,
     "input": [
      "f = f_27\n",
      "start = -1\n",
      "end = 1\n",
      "degree = 8\n",
      "x = linspace(start, end, 5)\n",
      "y = [f(v) for v in x]\n",
      "\n",
      "# Training\n",
      "Tx = linspace(start, end, 9)\n",
      "Ty = [f(v) for v in Tx]\n",
      "\n",
      "plot(x, y)\n",
      "plot(x, [newton1(Tx, Ty, v, degree) for v in x])\n",
      "plot(x, [newton2(Tx, Ty, v, degree) for v in x])\n",
      "legend([\"Original\", \"Newton #1\", \"Newton #2\"])"
     ],
     "language": "python",
     "metadata": {},
     "outputs": [
      {
       "metadata": {},
       "output_type": "pyout",
       "prompt_number": 4,
       "text": [
        "<matplotlib.legend.Legend at 0x7e991d0>"
       ]
      },
      {
       "metadata": {},
       "output_type": "display_data",
       "png": "[encoded data removed]",
       "text": [
        "<matplotlib.figure.Figure at 0x3a8ac18>"
       ]
      }
     ],
     "prompt_number": 4
    },
    {
     "cell_type": "markdown",
     "metadata": {},
     "source": [
      "## \u041d\u0430 \u043f\u0440\u043e\u043c\u0456\u0436\u043a\u0443 [0;5]"
     ]
    },
    {
     "cell_type": "code",
     "collapsed": false,
     "input": [
      "# [0;5]\n",
      "f = f_27\n",
      "start = 0\n",
      "end = 5\n",
      "degree = 8\n",
      "x = linspace(start, end, 5)\n",
      "y = [f(v) for v in x]\n",
      "\n",
      "# Training\n",
      "Tx = linspace(start, end, 9)\n",
      "Ty = [f(v) for v in Tx]\n",
      "\n",
      "plot(x, y)\n",
      "plot(x, [newton1(Tx, Ty, v, degree) for v in x])\n",
      "plot(x, [newton2(Tx, Ty, v, degree) for v in x])\n",
      "legend([\"Original\", \"Newton #1\", \"Newton #2\"])"
     ],
     "language": "python",
     "metadata": {},
     "outputs": [
      {
       "metadata": {},
       "output_type": "pyout",
       "prompt_number": 5,
       "text": [
        "<matplotlib.legend.Legend at 0x81436d8>"
       ]
      },
      {
       "metadata": {},
       "output_type": "display_data",
       "png": "[encoded data removed]",
       "text": [
        "<matplotlib.figure.Figure at 0x7d87588>"
       ]
      }
     ],
     "prompt_number": 5
    },
    {
     "cell_type": "markdown",
     "metadata": {},
     "source": [
      "# \u0412\u0438\u0441\u043d\u043e\u0432\u043a\u0438\n",
      "\u041e\u0437\u043d\u0430\u0439\u043e\u043c\u0438\u0432\u0441\u044f \u0456\u0437 \u043c\u0435\u0445\u0430\u043d\u0456\u0437\u043c\u0430\u043c\u0438 \u0432\u0438\u043d\u0438\u043a\u043d\u0435\u043d\u043d\u044f \u0442\u0430 \u043e\u0446\u0456\u043d\u043a\u0438 \u043f\u043e\u0445\u0438\u0431\u043e\u043a \u0443 \u0447\u0438\u0441\u043b\u043e\u0432\u043e\u043c\u0443 \u0440\u0435\u0437\u0443\u043b\u044c\u0442\u0430\u0442\u0456"
     ]
    }
   ],
   "metadata": {}
  }
 ]
}