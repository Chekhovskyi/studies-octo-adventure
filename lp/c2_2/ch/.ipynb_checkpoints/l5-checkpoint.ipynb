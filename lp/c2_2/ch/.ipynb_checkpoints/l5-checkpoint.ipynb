{
 "metadata": {
  "name": "",
  "signature": "sha256:fae3f363b8d1001bd2cd4167c638edff551c83b95595b0ff6841fd8aa70c7bc3"
 },
 "nbformat": 3,
 "nbformat_minor": 0,
 "worksheets": [
  {
   "cells": [
    {
     "cell_type": "code",
     "collapsed": false,
     "input": [
      "%matplotlib inline\n",
      "from pylab import *\n",
      "from numpy import *\n",
      "from utils import *\n",
      "from l5 import *"
     ],
     "language": "python",
     "metadata": {},
     "outputs": [],
     "prompt_number": 1
    },
    {
     "cell_type": "code",
     "collapsed": false,
     "input": [
      "def f_17(x):\n",
      "    return 2 * (x ** 4) - (x ** 2) - 10\n",
      "\n",
      "f = f_17\n",
      "a = -10.\n",
      "b = 10.\n",
      "e = 0.01"
     ],
     "language": "python",
     "metadata": {},
     "outputs": [],
     "prompt_number": 2
    },
    {
     "cell_type": "heading",
     "level": 2,
     "metadata": {},
     "source": [
      "\u041c\u0435\u0442\u043e\u0434 \u0431\u0456\u0441\u0435\u043a\u0446\u0456\u0457"
     ]
    },
    {
     "cell_type": "code",
     "collapsed": false,
     "input": [
      "bisection(f, a, b, e)"
     ],
     "language": "python",
     "metadata": {},
     "outputs": [
      {
       "metadata": {},
       "output_type": "pyout",
       "prompt_number": 3,
       "text": [
        "-1.71875"
       ]
      }
     ],
     "prompt_number": 3
    },
    {
     "cell_type": "code",
     "collapsed": false,
     "input": [],
     "language": "python",
     "metadata": {},
     "outputs": [],
     "prompt_number": 3
    }
   ],
   "metadata": {}
  }
 ]
}