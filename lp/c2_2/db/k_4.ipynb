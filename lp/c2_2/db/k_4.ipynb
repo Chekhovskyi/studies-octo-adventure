{
 "metadata": {
  "name": "",
  "signature": "sha256:566615b671c5aa179cfa2dc1d4cd846ba3d4356e91521d5dcfa1ebeaa185f6b3"
 },
 "nbformat": 3,
 "nbformat_minor": 0,
 "worksheets": [
  {
   "cells": [
    {
     "cell_type": "code",
     "collapsed": false,
     "input": [
      "from proove import *"
     ],
     "language": "python",
     "metadata": {},
     "outputs": [],
     "prompt_number": 3
    },
    {
     "cell_type": "code",
     "collapsed": false,
     "input": [],
     "language": "python",
     "metadata": {},
     "outputs": []
    }
   ],
   "metadata": {}
  }
 ]
}